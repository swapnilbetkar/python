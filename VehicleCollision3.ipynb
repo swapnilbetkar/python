{
  "nbformat": 4,
  "nbformat_minor": 0,
  "metadata": {
    "colab": {
      "name": "VehicleCollision3.ipynb",
      "provenance": [],
      "collapsed_sections": [],
      "authorship_tag": "ABX9TyNAm6wCKvtqbm7dB4K66Rah",
      "include_colab_link": true
    },
    "kernelspec": {
      "name": "python3",
      "display_name": "Python 3"
    }
  },
  "cells": [
    {
      "cell_type": "markdown",
      "metadata": {
        "id": "view-in-github",
        "colab_type": "text"
      },
      "source": [
        "<a href=\"https://colab.research.google.com/github/swapnilbetkar/python/blob/Dev_Self/VehicleCollision3.ipynb\" target=\"_parent\"><img src=\"https://colab.research.google.com/assets/colab-badge.svg\" alt=\"Open In Colab\"/></a>"
      ]
    },
    {
      "cell_type": "code",
      "metadata": {
        "id": "0zMSLCJthTh4",
        "colab": {
          "base_uri": "https://localhost:8080/"
        },
        "outputId": "5778649a-9489-4d03-e5b4-a82dcfe7b14f"
      },
      "source": [
        "from google.colab import drive\n",
        "drive.mount('/content/drive/', force_remount=True)"
      ],
      "execution_count": 6,
      "outputs": [
        {
          "output_type": "stream",
          "text": [
            "Mounted at /content/drive/\n"
          ],
          "name": "stdout"
        }
      ]
    },
    {
      "cell_type": "code",
      "metadata": {
        "id": "Fw_c-SM-hcr3"
      },
      "source": [
        "# Importing necesssary libraries\n",
        "import numpy as np\n",
        "import pandas as pd\n",
        "import matplotlib.pyplot as plt\n",
        "import seaborn as sns\n",
        "import plotly.figure_factory as ff\n",
        "from sklearn.preprocessing import LabelEncoder\n",
        "from imblearn.over_sampling import SMOTE\n",
        "from sklearn.ensemble import RandomForestClassifier\n",
        "from imblearn.pipeline import Pipeline\n",
        "from sklearn.model_selection import GridSearchCV\n",
        "from sklearn.preprocessing import StandardScaler\n",
        "import warnings\n",
        "warnings.filterwarnings('ignore')"
      ],
      "execution_count": 7,
      "outputs": []
    },
    {
      "cell_type": "code",
      "metadata": {
        "id": "_XgYohjv6aMc",
        "colab": {
          "base_uri": "https://localhost:8080/"
        },
        "outputId": "fc678dae-286a-4ca7-8f0a-3d2bf33a64f4"
      },
      "source": [
        "#import dataset\n",
        "dataset = pd.read_csv(\"/content/drive/MyDrive/Datasets/VehicleCollisions.csv\")\n",
        "pd.set_option('display.max_columns',None)\n",
        "dataset.head()\n",
        "print(dataset.info())"
      ],
      "execution_count": 8,
      "outputs": [
        {
          "output_type": "stream",
          "text": [
            "<class 'pandas.core.frame.DataFrame'>\n",
            "RangeIndex: 37869 entries, 0 to 37868\n",
            "Data columns (total 13 columns):\n",
            " #   Column                   Non-Null Count  Dtype \n",
            "---  ------                   --------------  ----- \n",
            " 0   Number_of_Vehicles       37869 non-null  int64 \n",
            " 1   Road_Type                37869 non-null  object\n",
            " 2   Speed_limit              37869 non-null  int64 \n",
            " 3   Light_Conditions         37869 non-null  object\n",
            " 4   Weather_Conditions       37869 non-null  object\n",
            " 5   Road_Surface_Conditions  37869 non-null  object\n",
            " 6   Urban_or_Rural_Area      37869 non-null  object\n",
            " 7   Vehicle_Manoeuvre        37869 non-null  object\n",
            " 8   1st_Point_of_Impact      37869 non-null  object\n",
            " 9   Sex_of_Driver            37869 non-null  object\n",
            " 10  Age_of_Driver            37869 non-null  int64 \n",
            " 11  Engine_Capacity_(CC)     37869 non-null  int64 \n",
            " 12  Damage                   37869 non-null  object\n",
            "dtypes: int64(4), object(9)\n",
            "memory usage: 3.8+ MB\n",
            "None\n"
          ],
          "name": "stdout"
        }
      ]
    },
    {
      "cell_type": "code",
      "metadata": {
        "id": "RWcIBMDJ7D_9",
        "colab": {
          "base_uri": "https://localhost:8080/",
          "height": 610
        },
        "outputId": "aa3f559d-adfc-4d81-e328-842b5a47ef5a"
      },
      "source": [
        "#### Data Preparation\n",
        "\n",
        "dataset['Damage'] = dataset['Damage'].map({'Light':0, 'Severe':1})\n",
        "labelEncoder = LabelEncoder()\n",
        "categorical_features = ['Urban_or_Rural_Area','Sex_of_Driver']\n",
        "dataset[categorical_features] = dataset[categorical_features].apply(labelEncoder.fit_transform)\n",
        "\n",
        "## Creating a correlation heat map to identify relationship between features.\n",
        "corrs = dataset.corr()\n",
        "figure = ff.create_annotated_heatmap(\n",
        "    z=corrs.values,\n",
        "    x=list(corrs.columns),\n",
        "    y=list(corrs.index),\n",
        "    annotation_text=corrs.round(2).values,\n",
        "    showscale=True)\n",
        "figure.show()\n",
        "\n",
        "## Applying one hot encoding to nominal categorical features\n",
        "categorical_feature = ['1st_Point_of_Impact','Road_Type','Light_Conditions','Weather_Conditions','Road_Surface_Conditions','Vehicle_Manoeuvre']\n",
        "final_data = pd.get_dummies(dataset, columns = categorical_feature)\n",
        "\n",
        "\n",
        "## Dividing dataset into label and feature sets\n",
        "X = final_data.drop(['Damage','Urban_or_Rural_Area'], axis = 1) #Found a strong correlation and causality between the features 'Urban_or_Rural_Area' and 'Speed_limit' hence dropping 'Urban_or_Rural_Area'\n",
        "Y = final_data['Damage']\n",
        "print(type(X))\n",
        "print(type(Y))\n",
        "print(X.shape)\n",
        "print(Y.shape)\n",
        "\n",
        "feature_scaler = StandardScaler()\n",
        "X_scaled = feature_scaler.fit_transform(X)\n",
        "\n"
      ],
      "execution_count": 9,
      "outputs": [
        {
          "output_type": "display_data",
          "data": {
            "text/html": [
              "<html>\n",
              "<head><meta charset=\"utf-8\" /></head>\n",
              "<body>\n",
              "    <div>\n",
              "            <script src=\"https://cdnjs.cloudflare.com/ajax/libs/mathjax/2.7.5/MathJax.js?config=TeX-AMS-MML_SVG\"></script><script type=\"text/javascript\">if (window.MathJax) {MathJax.Hub.Config({SVG: {font: \"STIX-Web\"}});}</script>\n",
              "                <script type=\"text/javascript\">window.PlotlyConfig = {MathJaxConfig: 'local'};</script>\n",
              "        <script src=\"https://cdn.plot.ly/plotly-latest.min.js\"></script>    \n",
              "            <div id=\"78b3a5b6-5459-4802-92b6-208f7d5abefb\" class=\"plotly-graph-div\" style=\"height:525px; width:100%;\"></div>\n",
              "            <script type=\"text/javascript\">\n",
              "                \n",
              "                    window.PLOTLYENV=window.PLOTLYENV || {};\n",
              "                    \n",
              "                if (document.getElementById(\"78b3a5b6-5459-4802-92b6-208f7d5abefb\")) {\n",
              "                    Plotly.newPlot(\n",
              "                        '78b3a5b6-5459-4802-92b6-208f7d5abefb',\n",
              "                        [{\"colorscale\": [[0.0, \"#0d0887\"], [0.1111111111111111, \"#46039f\"], [0.2222222222222222, \"#7201a8\"], [0.3333333333333333, \"#9c179e\"], [0.4444444444444444, \"#bd3786\"], [0.5555555555555556, \"#d8576b\"], [0.6666666666666666, \"#ed7953\"], [0.7777777777777778, \"#fb9f3a\"], [0.8888888888888888, \"#fdca26\"], [1.0, \"#f0f921\"]], \"reversescale\": false, \"showscale\": true, \"type\": \"heatmap\", \"x\": [\"Number_of_Vehicles\", \"Speed_limit\", \"Urban_or_Rural_Area\", \"Sex_of_Driver\", \"Age_of_Driver\", \"Engine_Capacity_(CC)\", \"Damage\"], \"y\": [\"Number_of_Vehicles\", \"Speed_limit\", \"Urban_or_Rural_Area\", \"Sex_of_Driver\", \"Age_of_Driver\", \"Engine_Capacity_(CC)\", \"Damage\"], \"z\": [[1.0, 0.16353196503278486, -0.0872304740628802, 0.007748622099625837, 0.012166213521076788, -0.00319921612219938, 0.0173354518090551], [0.16353196503278486, 1.0, -0.5365304519846705, 0.0050687566315824025, 0.016660820700081222, 0.08004741398285459, -0.01197748674894942], [-0.0872304740628802, -0.5365304519846705, 1.0, -0.00021221547225134366, -0.022449208574962395, -0.0525486525393365, -0.01403647033824919], [0.007748622099625837, 0.0050687566315824025, -0.00021221547225134366, 1.0, 0.030018324363894955, 0.16723526339043113, 0.034845957676993916], [0.012166213521076788, 0.016660820700081222, -0.022449208574962395, 0.030018324363894955, 1.0, 0.08930248702604628, 0.022676555445986443], [-0.00319921612219938, 0.08004741398285459, -0.0525486525393365, 0.16723526339043113, 0.08930248702604628, 1.0, 0.008066795520600103], [0.0173354518090551, -0.01197748674894942, -0.01403647033824919, 0.034845957676993916, 0.022676555445986443, 0.008066795520600103, 1.0]]}],\n",
              "                        {\"annotations\": [{\"font\": {\"color\": \"#000000\"}, \"showarrow\": false, \"text\": \"1.0\", \"x\": \"Number_of_Vehicles\", \"xref\": \"x\", \"y\": \"Number_of_Vehicles\", \"yref\": \"y\"}, {\"font\": {\"color\": \"#FFFFFF\"}, \"showarrow\": false, \"text\": \"0.16\", \"x\": \"Speed_limit\", \"xref\": \"x\", \"y\": \"Number_of_Vehicles\", \"yref\": \"y\"}, {\"font\": {\"color\": \"#FFFFFF\"}, \"showarrow\": false, \"text\": \"-0.09\", \"x\": \"Urban_or_Rural_Area\", \"xref\": \"x\", \"y\": \"Number_of_Vehicles\", \"yref\": \"y\"}, {\"font\": {\"color\": \"#FFFFFF\"}, \"showarrow\": false, \"text\": \"0.01\", \"x\": \"Sex_of_Driver\", \"xref\": \"x\", \"y\": \"Number_of_Vehicles\", \"yref\": \"y\"}, {\"font\": {\"color\": \"#FFFFFF\"}, \"showarrow\": false, \"text\": \"0.01\", \"x\": \"Age_of_Driver\", \"xref\": \"x\", \"y\": \"Number_of_Vehicles\", \"yref\": \"y\"}, {\"font\": {\"color\": \"#FFFFFF\"}, \"showarrow\": false, \"text\": \"-0.0\", \"x\": \"Engine_Capacity_(CC)\", \"xref\": \"x\", \"y\": \"Number_of_Vehicles\", \"yref\": \"y\"}, {\"font\": {\"color\": \"#FFFFFF\"}, \"showarrow\": false, \"text\": \"0.02\", \"x\": \"Damage\", \"xref\": \"x\", \"y\": \"Number_of_Vehicles\", \"yref\": \"y\"}, {\"font\": {\"color\": \"#FFFFFF\"}, \"showarrow\": false, \"text\": \"0.16\", \"x\": \"Number_of_Vehicles\", \"xref\": \"x\", \"y\": \"Speed_limit\", \"yref\": \"y\"}, {\"font\": {\"color\": \"#000000\"}, \"showarrow\": false, \"text\": \"1.0\", \"x\": \"Speed_limit\", \"xref\": \"x\", \"y\": \"Speed_limit\", \"yref\": \"y\"}, {\"font\": {\"color\": \"#FFFFFF\"}, \"showarrow\": false, \"text\": \"-0.54\", \"x\": \"Urban_or_Rural_Area\", \"xref\": \"x\", \"y\": \"Speed_limit\", \"yref\": \"y\"}, {\"font\": {\"color\": \"#FFFFFF\"}, \"showarrow\": false, \"text\": \"0.01\", \"x\": \"Sex_of_Driver\", \"xref\": \"x\", \"y\": \"Speed_limit\", \"yref\": \"y\"}, {\"font\": {\"color\": \"#FFFFFF\"}, \"showarrow\": false, \"text\": \"0.02\", \"x\": \"Age_of_Driver\", \"xref\": \"x\", \"y\": \"Speed_limit\", \"yref\": \"y\"}, {\"font\": {\"color\": \"#FFFFFF\"}, \"showarrow\": false, \"text\": \"0.08\", \"x\": \"Engine_Capacity_(CC)\", \"xref\": \"x\", \"y\": \"Speed_limit\", \"yref\": \"y\"}, {\"font\": {\"color\": \"#FFFFFF\"}, \"showarrow\": false, \"text\": \"-0.01\", \"x\": \"Damage\", \"xref\": \"x\", \"y\": \"Speed_limit\", \"yref\": \"y\"}, {\"font\": {\"color\": \"#FFFFFF\"}, \"showarrow\": false, \"text\": \"-0.09\", \"x\": \"Number_of_Vehicles\", \"xref\": \"x\", \"y\": \"Urban_or_Rural_Area\", \"yref\": \"y\"}, {\"font\": {\"color\": \"#FFFFFF\"}, \"showarrow\": false, \"text\": \"-0.54\", \"x\": \"Speed_limit\", \"xref\": \"x\", \"y\": \"Urban_or_Rural_Area\", \"yref\": \"y\"}, {\"font\": {\"color\": \"#000000\"}, \"showarrow\": false, \"text\": \"1.0\", \"x\": \"Urban_or_Rural_Area\", \"xref\": \"x\", \"y\": \"Urban_or_Rural_Area\", \"yref\": \"y\"}, {\"font\": {\"color\": \"#FFFFFF\"}, \"showarrow\": false, \"text\": \"-0.0\", \"x\": \"Sex_of_Driver\", \"xref\": \"x\", \"y\": \"Urban_or_Rural_Area\", \"yref\": \"y\"}, {\"font\": {\"color\": \"#FFFFFF\"}, \"showarrow\": false, \"text\": \"-0.02\", \"x\": \"Age_of_Driver\", \"xref\": \"x\", \"y\": \"Urban_or_Rural_Area\", \"yref\": \"y\"}, {\"font\": {\"color\": \"#FFFFFF\"}, \"showarrow\": false, \"text\": \"-0.05\", \"x\": \"Engine_Capacity_(CC)\", \"xref\": \"x\", \"y\": \"Urban_or_Rural_Area\", \"yref\": \"y\"}, {\"font\": {\"color\": \"#FFFFFF\"}, \"showarrow\": false, \"text\": \"-0.01\", \"x\": \"Damage\", \"xref\": \"x\", \"y\": \"Urban_or_Rural_Area\", \"yref\": \"y\"}, {\"font\": {\"color\": \"#FFFFFF\"}, \"showarrow\": false, \"text\": \"0.01\", \"x\": \"Number_of_Vehicles\", \"xref\": \"x\", \"y\": \"Sex_of_Driver\", \"yref\": \"y\"}, {\"font\": {\"color\": \"#FFFFFF\"}, \"showarrow\": false, \"text\": \"0.01\", \"x\": \"Speed_limit\", \"xref\": \"x\", \"y\": \"Sex_of_Driver\", \"yref\": \"y\"}, {\"font\": {\"color\": \"#FFFFFF\"}, \"showarrow\": false, \"text\": \"-0.0\", \"x\": \"Urban_or_Rural_Area\", \"xref\": \"x\", \"y\": \"Sex_of_Driver\", \"yref\": \"y\"}, {\"font\": {\"color\": \"#000000\"}, \"showarrow\": false, \"text\": \"1.0\", \"x\": \"Sex_of_Driver\", \"xref\": \"x\", \"y\": \"Sex_of_Driver\", \"yref\": \"y\"}, {\"font\": {\"color\": \"#FFFFFF\"}, \"showarrow\": false, \"text\": \"0.03\", \"x\": \"Age_of_Driver\", \"xref\": \"x\", \"y\": \"Sex_of_Driver\", \"yref\": \"y\"}, {\"font\": {\"color\": \"#FFFFFF\"}, \"showarrow\": false, \"text\": \"0.17\", \"x\": \"Engine_Capacity_(CC)\", \"xref\": \"x\", \"y\": \"Sex_of_Driver\", \"yref\": \"y\"}, {\"font\": {\"color\": \"#FFFFFF\"}, \"showarrow\": false, \"text\": \"0.03\", \"x\": \"Damage\", \"xref\": \"x\", \"y\": \"Sex_of_Driver\", \"yref\": \"y\"}, {\"font\": {\"color\": \"#FFFFFF\"}, \"showarrow\": false, \"text\": \"0.01\", \"x\": \"Number_of_Vehicles\", \"xref\": \"x\", \"y\": \"Age_of_Driver\", \"yref\": \"y\"}, {\"font\": {\"color\": \"#FFFFFF\"}, \"showarrow\": false, \"text\": \"0.02\", \"x\": \"Speed_limit\", \"xref\": \"x\", \"y\": \"Age_of_Driver\", \"yref\": \"y\"}, {\"font\": {\"color\": \"#FFFFFF\"}, \"showarrow\": false, \"text\": \"-0.02\", \"x\": \"Urban_or_Rural_Area\", \"xref\": \"x\", \"y\": \"Age_of_Driver\", \"yref\": \"y\"}, {\"font\": {\"color\": \"#FFFFFF\"}, \"showarrow\": false, \"text\": \"0.03\", \"x\": \"Sex_of_Driver\", \"xref\": \"x\", \"y\": \"Age_of_Driver\", \"yref\": \"y\"}, {\"font\": {\"color\": \"#000000\"}, \"showarrow\": false, \"text\": \"1.0\", \"x\": \"Age_of_Driver\", \"xref\": \"x\", \"y\": \"Age_of_Driver\", \"yref\": \"y\"}, {\"font\": {\"color\": \"#FFFFFF\"}, \"showarrow\": false, \"text\": \"0.09\", \"x\": \"Engine_Capacity_(CC)\", \"xref\": \"x\", \"y\": \"Age_of_Driver\", \"yref\": \"y\"}, {\"font\": {\"color\": \"#FFFFFF\"}, \"showarrow\": false, \"text\": \"0.02\", \"x\": \"Damage\", \"xref\": \"x\", \"y\": \"Age_of_Driver\", \"yref\": \"y\"}, {\"font\": {\"color\": \"#FFFFFF\"}, \"showarrow\": false, \"text\": \"-0.0\", \"x\": \"Number_of_Vehicles\", \"xref\": \"x\", \"y\": \"Engine_Capacity_(CC)\", \"yref\": \"y\"}, {\"font\": {\"color\": \"#FFFFFF\"}, \"showarrow\": false, \"text\": \"0.08\", \"x\": \"Speed_limit\", \"xref\": \"x\", \"y\": \"Engine_Capacity_(CC)\", \"yref\": \"y\"}, {\"font\": {\"color\": \"#FFFFFF\"}, \"showarrow\": false, \"text\": \"-0.05\", \"x\": \"Urban_or_Rural_Area\", \"xref\": \"x\", \"y\": \"Engine_Capacity_(CC)\", \"yref\": \"y\"}, {\"font\": {\"color\": \"#FFFFFF\"}, \"showarrow\": false, \"text\": \"0.17\", \"x\": \"Sex_of_Driver\", \"xref\": \"x\", \"y\": \"Engine_Capacity_(CC)\", \"yref\": \"y\"}, {\"font\": {\"color\": \"#FFFFFF\"}, \"showarrow\": false, \"text\": \"0.09\", \"x\": \"Age_of_Driver\", \"xref\": \"x\", \"y\": \"Engine_Capacity_(CC)\", \"yref\": \"y\"}, {\"font\": {\"color\": \"#000000\"}, \"showarrow\": false, \"text\": \"1.0\", \"x\": \"Engine_Capacity_(CC)\", \"xref\": \"x\", \"y\": \"Engine_Capacity_(CC)\", \"yref\": \"y\"}, {\"font\": {\"color\": \"#FFFFFF\"}, \"showarrow\": false, \"text\": \"0.01\", \"x\": \"Damage\", \"xref\": \"x\", \"y\": \"Engine_Capacity_(CC)\", \"yref\": \"y\"}, {\"font\": {\"color\": \"#FFFFFF\"}, \"showarrow\": false, \"text\": \"0.02\", \"x\": \"Number_of_Vehicles\", \"xref\": \"x\", \"y\": \"Damage\", \"yref\": \"y\"}, {\"font\": {\"color\": \"#FFFFFF\"}, \"showarrow\": false, \"text\": \"-0.01\", \"x\": \"Speed_limit\", \"xref\": \"x\", \"y\": \"Damage\", \"yref\": \"y\"}, {\"font\": {\"color\": \"#FFFFFF\"}, \"showarrow\": false, \"text\": \"-0.01\", \"x\": \"Urban_or_Rural_Area\", \"xref\": \"x\", \"y\": \"Damage\", \"yref\": \"y\"}, {\"font\": {\"color\": \"#FFFFFF\"}, \"showarrow\": false, \"text\": \"0.03\", \"x\": \"Sex_of_Driver\", \"xref\": \"x\", \"y\": \"Damage\", \"yref\": \"y\"}, {\"font\": {\"color\": \"#FFFFFF\"}, \"showarrow\": false, \"text\": \"0.02\", \"x\": \"Age_of_Driver\", \"xref\": \"x\", \"y\": \"Damage\", \"yref\": \"y\"}, {\"font\": {\"color\": \"#FFFFFF\"}, \"showarrow\": false, \"text\": \"0.01\", \"x\": \"Engine_Capacity_(CC)\", \"xref\": \"x\", \"y\": \"Damage\", \"yref\": \"y\"}, {\"font\": {\"color\": \"#000000\"}, \"showarrow\": false, \"text\": \"1.0\", \"x\": \"Damage\", \"xref\": \"x\", \"y\": \"Damage\", \"yref\": \"y\"}], \"template\": {\"data\": {\"bar\": [{\"error_x\": {\"color\": \"#2a3f5f\"}, \"error_y\": {\"color\": \"#2a3f5f\"}, \"marker\": {\"line\": {\"color\": \"#E5ECF6\", \"width\": 0.5}}, \"type\": \"bar\"}], \"barpolar\": [{\"marker\": {\"line\": {\"color\": \"#E5ECF6\", \"width\": 0.5}}, \"type\": \"barpolar\"}], \"carpet\": [{\"aaxis\": {\"endlinecolor\": \"#2a3f5f\", \"gridcolor\": \"white\", \"linecolor\": \"white\", \"minorgridcolor\": \"white\", \"startlinecolor\": \"#2a3f5f\"}, \"baxis\": {\"endlinecolor\": \"#2a3f5f\", \"gridcolor\": \"white\", \"linecolor\": \"white\", \"minorgridcolor\": \"white\", \"startlinecolor\": \"#2a3f5f\"}, \"type\": \"carpet\"}], \"choropleth\": [{\"colorbar\": {\"outlinewidth\": 0, \"ticks\": \"\"}, \"type\": \"choropleth\"}], \"contour\": [{\"colorbar\": {\"outlinewidth\": 0, \"ticks\": \"\"}, \"colorscale\": [[0.0, \"#0d0887\"], [0.1111111111111111, \"#46039f\"], [0.2222222222222222, \"#7201a8\"], [0.3333333333333333, \"#9c179e\"], [0.4444444444444444, \"#bd3786\"], [0.5555555555555556, \"#d8576b\"], [0.6666666666666666, \"#ed7953\"], [0.7777777777777778, \"#fb9f3a\"], [0.8888888888888888, \"#fdca26\"], [1.0, \"#f0f921\"]], \"type\": \"contour\"}], \"contourcarpet\": [{\"colorbar\": {\"outlinewidth\": 0, \"ticks\": \"\"}, \"type\": \"contourcarpet\"}], \"heatmap\": [{\"colorbar\": {\"outlinewidth\": 0, \"ticks\": \"\"}, \"colorscale\": [[0.0, \"#0d0887\"], [0.1111111111111111, \"#46039f\"], [0.2222222222222222, \"#7201a8\"], [0.3333333333333333, \"#9c179e\"], [0.4444444444444444, \"#bd3786\"], [0.5555555555555556, \"#d8576b\"], [0.6666666666666666, \"#ed7953\"], [0.7777777777777778, \"#fb9f3a\"], [0.8888888888888888, \"#fdca26\"], [1.0, \"#f0f921\"]], \"type\": \"heatmap\"}], \"heatmapgl\": [{\"colorbar\": {\"outlinewidth\": 0, \"ticks\": \"\"}, \"colorscale\": [[0.0, \"#0d0887\"], [0.1111111111111111, \"#46039f\"], [0.2222222222222222, \"#7201a8\"], [0.3333333333333333, \"#9c179e\"], [0.4444444444444444, \"#bd3786\"], [0.5555555555555556, \"#d8576b\"], [0.6666666666666666, \"#ed7953\"], [0.7777777777777778, \"#fb9f3a\"], [0.8888888888888888, \"#fdca26\"], [1.0, \"#f0f921\"]], \"type\": \"heatmapgl\"}], \"histogram\": [{\"marker\": {\"colorbar\": {\"outlinewidth\": 0, \"ticks\": \"\"}}, \"type\": \"histogram\"}], \"histogram2d\": [{\"colorbar\": {\"outlinewidth\": 0, \"ticks\": \"\"}, \"colorscale\": [[0.0, \"#0d0887\"], [0.1111111111111111, \"#46039f\"], [0.2222222222222222, \"#7201a8\"], [0.3333333333333333, \"#9c179e\"], [0.4444444444444444, \"#bd3786\"], [0.5555555555555556, \"#d8576b\"], [0.6666666666666666, \"#ed7953\"], [0.7777777777777778, \"#fb9f3a\"], [0.8888888888888888, \"#fdca26\"], [1.0, \"#f0f921\"]], \"type\": \"histogram2d\"}], \"histogram2dcontour\": [{\"colorbar\": {\"outlinewidth\": 0, \"ticks\": \"\"}, \"colorscale\": [[0.0, \"#0d0887\"], [0.1111111111111111, \"#46039f\"], [0.2222222222222222, \"#7201a8\"], [0.3333333333333333, \"#9c179e\"], [0.4444444444444444, \"#bd3786\"], [0.5555555555555556, \"#d8576b\"], [0.6666666666666666, \"#ed7953\"], [0.7777777777777778, \"#fb9f3a\"], [0.8888888888888888, \"#fdca26\"], [1.0, \"#f0f921\"]], \"type\": \"histogram2dcontour\"}], \"mesh3d\": [{\"colorbar\": {\"outlinewidth\": 0, \"ticks\": \"\"}, \"type\": \"mesh3d\"}], \"parcoords\": [{\"line\": {\"colorbar\": {\"outlinewidth\": 0, \"ticks\": \"\"}}, \"type\": \"parcoords\"}], \"pie\": [{\"automargin\": true, \"type\": \"pie\"}], \"scatter\": [{\"marker\": {\"colorbar\": {\"outlinewidth\": 0, \"ticks\": \"\"}}, \"type\": \"scatter\"}], \"scatter3d\": [{\"line\": {\"colorbar\": {\"outlinewidth\": 0, \"ticks\": \"\"}}, \"marker\": {\"colorbar\": {\"outlinewidth\": 0, \"ticks\": \"\"}}, \"type\": \"scatter3d\"}], \"scattercarpet\": [{\"marker\": {\"colorbar\": {\"outlinewidth\": 0, \"ticks\": \"\"}}, \"type\": \"scattercarpet\"}], \"scattergeo\": [{\"marker\": {\"colorbar\": {\"outlinewidth\": 0, \"ticks\": \"\"}}, \"type\": \"scattergeo\"}], \"scattergl\": [{\"marker\": {\"colorbar\": {\"outlinewidth\": 0, \"ticks\": \"\"}}, \"type\": \"scattergl\"}], \"scattermapbox\": [{\"marker\": {\"colorbar\": {\"outlinewidth\": 0, \"ticks\": \"\"}}, \"type\": \"scattermapbox\"}], \"scatterpolar\": [{\"marker\": {\"colorbar\": {\"outlinewidth\": 0, \"ticks\": \"\"}}, \"type\": \"scatterpolar\"}], \"scatterpolargl\": [{\"marker\": {\"colorbar\": {\"outlinewidth\": 0, \"ticks\": \"\"}}, \"type\": \"scatterpolargl\"}], \"scatterternary\": [{\"marker\": {\"colorbar\": {\"outlinewidth\": 0, \"ticks\": \"\"}}, \"type\": \"scatterternary\"}], \"surface\": [{\"colorbar\": {\"outlinewidth\": 0, \"ticks\": \"\"}, \"colorscale\": [[0.0, \"#0d0887\"], [0.1111111111111111, \"#46039f\"], [0.2222222222222222, \"#7201a8\"], [0.3333333333333333, \"#9c179e\"], [0.4444444444444444, \"#bd3786\"], [0.5555555555555556, \"#d8576b\"], [0.6666666666666666, \"#ed7953\"], [0.7777777777777778, \"#fb9f3a\"], [0.8888888888888888, \"#fdca26\"], [1.0, \"#f0f921\"]], \"type\": \"surface\"}], \"table\": [{\"cells\": {\"fill\": {\"color\": \"#EBF0F8\"}, \"line\": {\"color\": \"white\"}}, \"header\": {\"fill\": {\"color\": \"#C8D4E3\"}, \"line\": {\"color\": \"white\"}}, \"type\": \"table\"}]}, \"layout\": {\"annotationdefaults\": {\"arrowcolor\": \"#2a3f5f\", \"arrowhead\": 0, \"arrowwidth\": 1}, \"coloraxis\": {\"colorbar\": {\"outlinewidth\": 0, \"ticks\": \"\"}}, \"colorscale\": {\"diverging\": [[0, \"#8e0152\"], [0.1, \"#c51b7d\"], [0.2, \"#de77ae\"], [0.3, \"#f1b6da\"], [0.4, \"#fde0ef\"], [0.5, \"#f7f7f7\"], [0.6, \"#e6f5d0\"], [0.7, \"#b8e186\"], [0.8, \"#7fbc41\"], [0.9, \"#4d9221\"], [1, \"#276419\"]], \"sequential\": [[0.0, \"#0d0887\"], [0.1111111111111111, \"#46039f\"], [0.2222222222222222, \"#7201a8\"], [0.3333333333333333, \"#9c179e\"], [0.4444444444444444, \"#bd3786\"], [0.5555555555555556, \"#d8576b\"], [0.6666666666666666, \"#ed7953\"], [0.7777777777777778, \"#fb9f3a\"], [0.8888888888888888, \"#fdca26\"], [1.0, \"#f0f921\"]], \"sequentialminus\": [[0.0, \"#0d0887\"], [0.1111111111111111, \"#46039f\"], [0.2222222222222222, \"#7201a8\"], [0.3333333333333333, \"#9c179e\"], [0.4444444444444444, \"#bd3786\"], [0.5555555555555556, \"#d8576b\"], [0.6666666666666666, \"#ed7953\"], [0.7777777777777778, \"#fb9f3a\"], [0.8888888888888888, \"#fdca26\"], [1.0, \"#f0f921\"]]}, \"colorway\": [\"#636efa\", \"#EF553B\", \"#00cc96\", \"#ab63fa\", \"#FFA15A\", \"#19d3f3\", \"#FF6692\", \"#B6E880\", \"#FF97FF\", \"#FECB52\"], \"font\": {\"color\": \"#2a3f5f\"}, \"geo\": {\"bgcolor\": \"white\", \"lakecolor\": \"white\", \"landcolor\": \"#E5ECF6\", \"showlakes\": true, \"showland\": true, \"subunitcolor\": \"white\"}, \"hoverlabel\": {\"align\": \"left\"}, \"hovermode\": \"closest\", \"mapbox\": {\"style\": \"light\"}, \"paper_bgcolor\": \"white\", \"plot_bgcolor\": \"#E5ECF6\", \"polar\": {\"angularaxis\": {\"gridcolor\": \"white\", \"linecolor\": \"white\", \"ticks\": \"\"}, \"bgcolor\": \"#E5ECF6\", \"radialaxis\": {\"gridcolor\": \"white\", \"linecolor\": \"white\", \"ticks\": \"\"}}, \"scene\": {\"xaxis\": {\"backgroundcolor\": \"#E5ECF6\", \"gridcolor\": \"white\", \"gridwidth\": 2, \"linecolor\": \"white\", \"showbackground\": true, \"ticks\": \"\", \"zerolinecolor\": \"white\"}, \"yaxis\": {\"backgroundcolor\": \"#E5ECF6\", \"gridcolor\": \"white\", \"gridwidth\": 2, \"linecolor\": \"white\", \"showbackground\": true, \"ticks\": \"\", \"zerolinecolor\": \"white\"}, \"zaxis\": {\"backgroundcolor\": \"#E5ECF6\", \"gridcolor\": \"white\", \"gridwidth\": 2, \"linecolor\": \"white\", \"showbackground\": true, \"ticks\": \"\", \"zerolinecolor\": \"white\"}}, \"shapedefaults\": {\"line\": {\"color\": \"#2a3f5f\"}}, \"ternary\": {\"aaxis\": {\"gridcolor\": \"white\", \"linecolor\": \"white\", \"ticks\": \"\"}, \"baxis\": {\"gridcolor\": \"white\", \"linecolor\": \"white\", \"ticks\": \"\"}, \"bgcolor\": \"#E5ECF6\", \"caxis\": {\"gridcolor\": \"white\", \"linecolor\": \"white\", \"ticks\": \"\"}}, \"title\": {\"x\": 0.05}, \"xaxis\": {\"automargin\": true, \"gridcolor\": \"white\", \"linecolor\": \"white\", \"ticks\": \"\", \"title\": {\"standoff\": 15}, \"zerolinecolor\": \"white\", \"zerolinewidth\": 2}, \"yaxis\": {\"automargin\": true, \"gridcolor\": \"white\", \"linecolor\": \"white\", \"ticks\": \"\", \"title\": {\"standoff\": 15}, \"zerolinecolor\": \"white\", \"zerolinewidth\": 2}}}, \"xaxis\": {\"dtick\": 1, \"gridcolor\": \"rgb(0, 0, 0)\", \"side\": \"top\", \"ticks\": \"\"}, \"yaxis\": {\"dtick\": 1, \"ticks\": \"\", \"ticksuffix\": \"  \"}},\n",
              "                        {\"responsive\": true}\n",
              "                    ).then(function(){\n",
              "                            \n",
              "var gd = document.getElementById('78b3a5b6-5459-4802-92b6-208f7d5abefb');\n",
              "var x = new MutationObserver(function (mutations, observer) {{\n",
              "        var display = window.getComputedStyle(gd).display;\n",
              "        if (!display || display === 'none') {{\n",
              "            console.log([gd, 'removed!']);\n",
              "            Plotly.purge(gd);\n",
              "            observer.disconnect();\n",
              "        }}\n",
              "}});\n",
              "\n",
              "// Listen for the removal of the full notebook cells\n",
              "var notebookContainer = gd.closest('#notebook-container');\n",
              "if (notebookContainer) {{\n",
              "    x.observe(notebookContainer, {childList: true});\n",
              "}}\n",
              "\n",
              "// Listen for the clearing of the current output cell\n",
              "var outputEl = gd.closest('.output');\n",
              "if (outputEl) {{\n",
              "    x.observe(outputEl, {childList: true});\n",
              "}}\n",
              "\n",
              "                        })\n",
              "                };\n",
              "                \n",
              "            </script>\n",
              "        </div>\n",
              "</body>\n",
              "</html>"
            ]
          },
          "metadata": {
            "tags": []
          }
        },
        {
          "output_type": "stream",
          "text": [
            "<class 'pandas.core.frame.DataFrame'>\n",
            "<class 'pandas.core.series.Series'>\n",
            "(37869, 40)\n",
            "(37869,)\n"
          ],
          "name": "stdout"
        }
      ]
    },
    {
      "cell_type": "code",
      "metadata": {
        "colab": {
          "base_uri": "https://localhost:8080/"
        },
        "id": "Kth-FnAXhVyf",
        "outputId": "4be671b1-ec23-40bc-c27d-a94c0701e9b3"
      },
      "source": [
        "##### Balancing the dataset hyperparamters tuning\n",
        "\n",
        "print(\"Number of observations in each class before oversampling \\n\", pd.Series(Y).value_counts())\n",
        "\n",
        "model = Pipeline([\n",
        "        ('balancing', SMOTE(random_state = 101)),\n",
        "        ('classification', RandomForestClassifier(criterion='entropy', max_features='auto', random_state=1) )\n",
        "    ])\n",
        "grid_param = {'classification__n_estimators': [10,20,30,40,50,100]}\n",
        "\n",
        "gd_sr = GridSearchCV(estimator=model, param_grid=grid_param, scoring='precision', cv=5)\n",
        "\n",
        "gd_sr.fit(X_scaled, Y)\n",
        "\n",
        "best_parameters = gd_sr.best_params_\n",
        "print(best_parameters)\n",
        "\n",
        "best_result = gd_sr.best_score_ # Mean cross-validated score of the best_estimator\n",
        "print(best_result)"
      ],
      "execution_count": 10,
      "outputs": [
        {
          "output_type": "stream",
          "text": [
            "Number of observations in each class before oversampling \n",
            " 0    35312\n",
            "1     2557\n",
            "Name: Damage, dtype: int64\n",
            "{'classification__n_estimators': 30}\n",
            "0.0986316658278136\n"
          ],
          "name": "stdout"
        }
      ]
    },
    {
      "cell_type": "code",
      "metadata": {
        "colab": {
          "base_uri": "https://localhost:8080/"
        },
        "id": "jtrCeJr6d3ah",
        "outputId": "88afab43-c140-4c97-a143-a390ef71cfdc"
      },
      "source": [
        "## Fitting the dataset to model with identified hyparameter values\n",
        "rfc = RandomForestClassifier(n_estimators=30, criterion='entropy', max_features='auto', random_state=1)\n",
        "rfc.fit(X_scaled,Y)\n",
        "\n",
        "##Creating a feature importance list to identify significant features\n",
        "featimp = pd.Series(rfc.feature_importances_, index=list(X)).sort_values(ascending=False)\n",
        "print(featimp)"
      ],
      "execution_count": 11,
      "outputs": [
        {
          "output_type": "stream",
          "text": [
            "Engine_Capacity_(CC)                           0.385805\n",
            "Age_of_Driver                                  0.319377\n",
            "Speed_limit                                    0.044928\n",
            "Number_of_Vehicles                             0.036392\n",
            "Sex_of_Driver                                  0.023442\n",
            "1st_Point_of_Impact_Front                      0.013066\n",
            "Vehicle_Manoeuvre_Turning                      0.012530\n",
            "1st_Point_of_Impact_Nearside                   0.011231\n",
            "Vehicle_Manoeuvre_Going ahead                  0.010747\n",
            "Road_Type_Single carriageway                   0.010362\n",
            "1st_Point_of_Impact_Offside                    0.009916\n",
            "Road_Type_Dual carriageway                     0.009325\n",
            "Road_Surface_Conditions_Wet or damp            0.009183\n",
            "1st_Point_of_Impact_Back                       0.009119\n",
            "Road_Surface_Conditions_Dry                    0.009114\n",
            "Weather_Conditions_Fine no high winds          0.007700\n",
            "Light_Conditions_Darkness lights lit           0.007306\n",
            "Light_Conditions_Daylight                      0.006682\n",
            "Vehicle_Manoeuvre_Waiting                      0.006616\n",
            "Weather_Conditions_Raining no high winds       0.006279\n",
            "Vehicle_Manoeuvre_Slowing or stopping          0.006274\n",
            "Vehicle_Manoeuvre_Parked                       0.005238\n",
            "Road_Type_Roundabout                           0.004905\n",
            "Vehicle_Manoeuvre_Moving off                   0.004501\n",
            "Vehicle_Manoeuvre_Overtaking                   0.003912\n",
            "Road_Type_One way street                       0.003385\n",
            "Weather_Conditions_Raining and high winds      0.003309\n",
            "Vehicle_Manoeuvre_Changing lane                0.002768\n",
            "Vehicle_Manoeuvre_U turn                       0.002627\n",
            "Weather_Conditions_Fine and high winds         0.002587\n",
            "Road_Surface_Conditions_Frost or ice           0.002465\n",
            "Road_Type_Slip road                            0.001754\n",
            "Light_Conditions_Darkness lights unlit         0.001526\n",
            "Vehicle_Manoeuvre_Reversing                    0.001491\n",
            "Weather_Conditions_Snowing no high winds       0.001297\n",
            "Light_Conditions_Darkness no lighting          0.001053\n",
            "Weather_Conditions_Fog or mist                 0.000987\n",
            "Road_Surface_Conditions_Snow                   0.000685\n",
            "Weather_Conditions_Snowing and high winds      0.000091\n",
            "Road_Surface_Conditions_Flood over 3cm deep    0.000022\n",
            "dtype: float64\n"
          ],
          "name": "stdout"
        }
      ]
    },
    {
      "cell_type": "code",
      "metadata": {
        "colab": {
          "base_uri": "https://localhost:8080/"
        },
        "id": "nTIq4L6WaNj8",
        "outputId": "2f0eb072-3389-428e-fafc-96f858e7b0fc"
      },
      "source": [
        "#### Re-training model by using significant features\n",
        "X = final_data[['Engine_Capacity_(CC)','Age_of_Driver','Speed_limit']]\n",
        "\n",
        "feature_scaler = StandardScaler()\n",
        "X_scaled = feature_scaler.fit_transform(X)\n",
        "\n",
        "model = Pipeline([\n",
        "        ('balancing', SMOTE(random_state = 101)),\n",
        "        ('classification', RandomForestClassifier(criterion='entropy', max_features='auto', random_state=1) )\n",
        "    ])\n",
        "grid_param = {'classification__n_estimators': [10,20,30,40,50,100]}\n",
        "\n",
        "gd_sr = GridSearchCV(estimator=model, param_grid=grid_param, scoring='precision', cv=5)\n",
        "\n",
        "gd_sr.fit(X_scaled, Y)\n",
        "\n",
        "best_parameters = gd_sr.best_params_\n",
        "print(best_parameters)\n",
        "\n",
        "best_result = gd_sr.best_score_ # Mean cross-validated score of the best_estimator\n",
        "print(best_result)"
      ],
      "execution_count": 12,
      "outputs": [
        {
          "output_type": "stream",
          "text": [
            "{'classification__n_estimators': 50}\n",
            "0.07194471345377453\n"
          ],
          "name": "stdout"
        }
      ]
    },
    {
      "cell_type": "code",
      "metadata": {
        "id": "TBBVOKPZQfQd",
        "colab": {
          "base_uri": "https://localhost:8080/",
          "height": 313
        },
        "outputId": "8cd48da5-2d5f-49a2-a38b-f768e248b409"
      },
      "source": [
        "rfc = RandomForestClassifier(n_estimators=50, criterion='entropy', max_features='auto', random_state=1)\n",
        "rfc.fit(X_scaled,Y)\n",
        "\n",
        "####  Data visualisation to assess the significant features \n",
        "\n",
        "pd.set_option('display.max_rows', final_data.shape[0]+1)\n",
        "df_Severe = final_data[final_data['Damage'] == 1]\n",
        "df_Light = final_data[final_data['Damage'] == 0]\n",
        "df.head()\n",
        "df_EngineCapacity_Severe = df_Severe.groupby('Engine_Capacity_(CC)')['Damage'].count().sort_values(ascending = False).head(35)\n",
        "df_AgeOfDriver_Severe = df_Severe.groupby('Age_of_Driver')['Damage'].count().sort_values(ascending = False).head(35)\n",
        "\n",
        "df_EngineCapacity_Light = df_Light.groupby('Engine_Capacity_(CC)')['Damage'].count().sort_values(ascending = False).head(35)\n",
        "df_AgeOfDriver_light = df_Light.groupby('Age_of_Driver')['Damage'].count().sort_values(ascending = False).head(35)\n",
        "\n",
        "print(df_EngineCapacity_Severe.plot(ylabel='severe collisions count',kind=\"bar\"))"
      ],
      "execution_count": 112,
      "outputs": [
        {
          "output_type": "stream",
          "text": [
            "AxesSubplot(0.125,0.125;0.775x0.755)\n"
          ],
          "name": "stdout"
        },
        {
          "output_type": "display_data",
          "data": {
            "image/png": "[encoded data removed]",
            "text/plain": [
              "<Figure size 432x288 with 1 Axes>"
            ]
          },
          "metadata": {
            "tags": [],
            "needs_background": "light"
          }
        }
      ]
    },
    {
      "cell_type": "code",
      "metadata": {
        "colab": {
          "base_uri": "https://localhost:8080/",
          "height": 300
        },
        "id": "KmlQzkREjQQ8",
        "outputId": "426efc52-e5c8-419b-84b5-edd8a6730316"
      },
      "source": [
        "print(df_AgeOfDriver_Severe.plot(ylabel='severe collisions count',kind=\"bar\"))"
      ],
      "execution_count": 113,
      "outputs": [
        {
          "output_type": "stream",
          "text": [
            "AxesSubplot(0.125,0.125;0.775x0.755)\n"
          ],
          "name": "stdout"
        },
        {
          "output_type": "display_data",
          "data": {
            "image/png": "[encoded data removed]",
            "text/plain": [
              "<Figure size 432x288 with 1 Axes>"
            ]
          },
          "metadata": {
            "tags": [],
            "needs_background": "light"
          }
        }
      ]
    },
    {
      "cell_type": "code",
      "metadata": {
        "colab": {
          "base_uri": "https://localhost:8080/",
          "height": 313
        },
        "id": "9GwJCpw5jQZ3",
        "outputId": "32a76d69-af30-4da7-d3b9-ce8e64fcc56c"
      },
      "source": [
        "print(df_EngineCapacity_Light.plot(ylabel='light collisions count',kind=\"bar\"))"
      ],
      "execution_count": 114,
      "outputs": [
        {
          "output_type": "stream",
          "text": [
            "AxesSubplot(0.125,0.125;0.775x0.755)\n"
          ],
          "name": "stdout"
        },
        {
          "output_type": "display_data",
          "data": {
            "image/png": "[encoded data removed]",
            "text/plain": [
              "<Figure size 432x288 with 1 Axes>"
            ]
          },
          "metadata": {
            "tags": [],
            "needs_background": "light"
          }
        }
      ]
    },
    {
      "cell_type": "code",
      "metadata": {
        "colab": {
          "base_uri": "https://localhost:8080/",
          "height": 300
        },
        "id": "k8hnOyF-ZNvP",
        "outputId": "32492318-b0db-430e-c5ae-ed949c95f53b"
      },
      "source": [
        "print(df_AgeOfDriver_light.plot(ylabel='light collisions count',kind=\"bar\"))"
      ],
      "execution_count": 115,
      "outputs": [
        {
          "output_type": "stream",
          "text": [
            "AxesSubplot(0.125,0.125;0.775x0.755)\n"
          ],
          "name": "stdout"
        },
        {
          "output_type": "display_data",
          "data": {
            "image/png": "[encoded data removed]",
            "text/plain": [
              "<Figure size 432x288 with 1 Axes>"
            ]
          },
          "metadata": {
            "tags": [],
            "needs_background": "light"
          }
        }
      ]
    }
  ]
}