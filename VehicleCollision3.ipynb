{
  "nbformat": 4,
  "nbformat_minor": 0,
  "metadata": {
    "colab": {
      "name": "VehicleCollision3.ipynb",
      "provenance": [],
      "collapsed_sections": [],
      "authorship_tag": "ABX9TyNkkLOsHXIwX9VLE2ICCRP6",
      "include_colab_link": true
    },
    "kernelspec": {
      "name": "python3",
      "display_name": "Python 3"
    }
  },
  "cells": [
    {
      "cell_type": "markdown",
      "metadata": {
        "id": "view-in-github",
        "colab_type": "text"
      },
      "source": [
        "<a href=\"https://colab.research.google.com/github/swapnilbetkar/python/blob/Dev_Self/VehicleCollision3.ipynb\" target=\"_parent\"><img src=\"https://colab.research.google.com/assets/colab-badge.svg\" alt=\"Open In Colab\"/></a>"
      ]
    },
    {
      "cell_type": "code",
      "metadata": {
        "id": "0zMSLCJthTh4",
        "colab": {
          "base_uri": "https://localhost:8080/"
        },
        "outputId": "16fc46c0-6b42-411a-f953-a77a866baba7"
      },
      "source": [
        "from google.colab import drive\r\n",
        "drive.mount('/content/drive/', force_remount=True)"
      ],
      "execution_count": 8,
      "outputs": [
        {
          "output_type": "stream",
          "text": [
            "Mounted at /content/drive/\n"
          ],
          "name": "stdout"
        }
      ]
    },
    {
      "cell_type": "code",
      "metadata": {
        "id": "Fw_c-SM-hcr3"
      },
      "source": [
        "import numpy as np\r\n",
        "import pandas as pd\r\n",
        "import matplotlib.pyplot as plt\r\n",
        "import seaborn as sns\r\n",
        "import plotly.figure_factory as ff\r\n",
        "from sklearn.preprocessing import LabelEncoder\r\n",
        "from imblearn.over_sampling import SMOTE\r\n",
        "from sklearn.ensemble import RandomForestClassifier\r\n",
        "from imblearn.pipeline import Pipeline\r\n",
        "from sklearn.model_selection import GridSearchCV\r\n",
        "from sklearn.preprocessing import StandardScaler\r\n",
        "import warnings\r\n",
        "warnings.filterwarnings('ignore')"
      ],
      "execution_count": 9,
      "outputs": []
    },
    {
      "cell_type": "code",
      "metadata": {
        "id": "_XgYohjv6aMc",
        "colab": {
          "base_uri": "https://localhost:8080/"
        },
        "outputId": "15fa614d-c5db-41b0-c418-6a4d1f75f565"
      },
      "source": [
        "#import dataset\r\n",
        "dataset = pd.read_csv(\"/content/drive/MyDrive/Datasets/VehicleCollisions.csv\")\r\n",
        "pd.set_option('display.max_columns',None)\r\n",
        "dataset.head()\r\n",
        "print(dataset.info())"
      ],
      "execution_count": 10,
      "outputs": [
        {
          "output_type": "stream",
          "text": [
            "<class 'pandas.core.frame.DataFrame'>\n",
            "RangeIndex: 37869 entries, 0 to 37868\n",
            "Data columns (total 13 columns):\n",
            " #   Column                   Non-Null Count  Dtype \n",
            "---  ------                   --------------  ----- \n",
            " 0   Number_of_Vehicles       37869 non-null  int64 \n",
            " 1   Road_Type                37869 non-null  object\n",
            " 2   Speed_limit              37869 non-null  int64 \n",
            " 3   Light_Conditions         37869 non-null  object\n",
            " 4   Weather_Conditions       37869 non-null  object\n",
            " 5   Road_Surface_Conditions  37869 non-null  object\n",
            " 6   Urban_or_Rural_Area      37869 non-null  object\n",
            " 7   Vehicle_Manoeuvre        37869 non-null  object\n",
            " 8   1st_Point_of_Impact      37869 non-null  object\n",
            " 9   Sex_of_Driver            37869 non-null  object\n",
            " 10  Age_of_Driver            37869 non-null  int64 \n",
            " 11  Engine_Capacity_(CC)     37869 non-null  int64 \n",
            " 12  Damage                   37869 non-null  object\n",
            "dtypes: int64(4), object(9)\n",
            "memory usage: 3.8+ MB\n",
            "None\n"
          ],
          "name": "stdout"
        }
      ]
    },
    {
      "cell_type": "code",
      "metadata": {
        "id": "RWcIBMDJ7D_9",
        "colab": {
          "base_uri": "https://localhost:8080/",
          "height": 643
        },
        "outputId": "08556b37-e6fd-4202-d617-db244d3ce145"
      },
      "source": [
        "dataset['Damage'] = dataset['Damage'].map({'Light':0, 'Severe':1})\r\n",
        "le = LabelEncoder()\r\n",
        "categorical_features = ['Urban_or_Rural_Area','Sex_of_Driver']\r\n",
        "dataset[categorical_features] = dataset[categorical_features].apply(le.fit_transform)\r\n",
        "\r\n",
        "# final_data = dataset\r\n",
        "dataset.head()\r\n",
        "categorical_feature = ['1st_Point_of_Impact','Road_Type','Light_Conditions','Weather_Conditions','Road_Surface_Conditions','Vehicle_Manoeuvre']\r\n",
        "final_data = pd.get_dummies(dataset, columns = categorical_feature)\r\n",
        "final_data.head()\r\n",
        "\r\n",
        "# dataset.head(100)\r\n",
        "corrs = dataset.corr()\r\n",
        "figure = ff.create_annotated_heatmap(\r\n",
        "    z=corrs.values,\r\n",
        "    x=list(corrs.columns),\r\n",
        "    y=list(corrs.index),\r\n",
        "    annotation_text=corrs.round(2).values,\r\n",
        "    showscale=True)\r\n",
        "figure.show()\r\n",
        "\r\n",
        "# Dividing dataset into label and feature sets\r\n",
        "X = final_data.drop(['Damage','Urban_or_Rural_Area'], axis = 1) # Features\r\n",
        "Y = final_data['Damage'] # Labels\r\n",
        "print(type(X))\r\n",
        "print(type(Y))\r\n",
        "print(X.shape)\r\n",
        "print(Y.shape)\r\n",
        "\r\n",
        "feature_scaler = StandardScaler()\r\n",
        "X_scaled = feature_scaler.fit_transform(X)\r\n",
        "\r\n",
        "# Tuning the random forest parameter 'n_estimators' and implementing cross-validation using Grid Search\r\n",
        "model = Pipeline([\r\n",
        "        ('balancing', SMOTE(random_state = 101)),\r\n",
        "        ('classification', RandomForestClassifier(criterion='entropy', max_features='auto', random_state=1) )\r\n",
        "    ])\r\n",
        "grid_param = {'classification__n_estimators': [30,40,50,100,150]}\r\n",
        "\r\n",
        "gd_sr = GridSearchCV(estimator=model, param_grid=grid_param, scoring='precision', cv=5)\r\n",
        "\r\n",
        "gd_sr.fit(X_scaled, Y)\r\n",
        "\r\n",
        "best_parameters = gd_sr.best_params_\r\n",
        "print(best_parameters)\r\n",
        "\r\n",
        "best_result = gd_sr.best_score_ # Mean cross-validated score of the best_estimator\r\n",
        "print(best_result)\r\n"
      ],
      "execution_count": 11,
      "outputs": [
        {
          "output_type": "display_data",
          "data": {
            "text/html": [
              "<html>\n",
              "<head><meta charset=\"utf-8\" /></head>\n",
              "<body>\n",
              "    <div>\n",
              "            <script src=\"https://cdnjs.cloudflare.com/ajax/libs/mathjax/2.7.5/MathJax.js?config=TeX-AMS-MML_SVG\"></script><script type=\"text/javascript\">if (window.MathJax) {MathJax.Hub.Config({SVG: {font: \"STIX-Web\"}});}</script>\n",
              "                <script type=\"text/javascript\">window.PlotlyConfig = {MathJaxConfig: 'local'};</script>\n",
              "        <script src=\"https://cdn.plot.ly/plotly-latest.min.js\"></script>    \n",
              "            <div id=\"782b0865-922e-44ec-bbf6-7d08e06d0bfe\" class=\"plotly-graph-div\" style=\"height:525px; width:100%;\"></div>\n",
              "            <script type=\"text/javascript\">\n",
              "                \n",
              "                    window.PLOTLYENV=window.PLOTLYENV || {};\n",
              "                    \n",
              "                if (document.getElementById(\"782b0865-922e-44ec-bbf6-7d08e06d0bfe\")) {\n",
              "                    Plotly.newPlot(\n",
              "                        '782b0865-922e-44ec-bbf6-7d08e06d0bfe',\n",
              "                        [{\"colorscale\": [[0.0, \"#0d0887\"], [0.1111111111111111, \"#46039f\"], [0.2222222222222222, \"#7201a8\"], [0.3333333333333333, \"#9c179e\"], [0.4444444444444444, \"#bd3786\"], [0.5555555555555556, \"#d8576b\"], [0.6666666666666666, \"#ed7953\"], [0.7777777777777778, \"#fb9f3a\"], [0.8888888888888888, \"#fdca26\"], [1.0, \"#f0f921\"]], \"reversescale\": false, \"showscale\": true, \"type\": \"heatmap\", \"x\": [\"Number_of_Vehicles\", \"Speed_limit\", \"Urban_or_Rural_Area\", \"Sex_of_Driver\", \"Age_of_Driver\", \"Engine_Capacity_(CC)\", \"Damage\"], \"y\": [\"Number_of_Vehicles\", \"Speed_limit\", \"Urban_or_Rural_Area\", \"Sex_of_Driver\", \"Age_of_Driver\", \"Engine_Capacity_(CC)\", \"Damage\"], \"z\": [[1.0, 0.16353196503278486, -0.0872304740628802, 0.007748622099625837, 0.012166213521076788, -0.00319921612219938, 0.0173354518090551], [0.16353196503278486, 1.0, -0.5365304519846705, 0.0050687566315824025, 0.016660820700081222, 0.08004741398285459, -0.01197748674894942], [-0.0872304740628802, -0.5365304519846705, 1.0, -0.00021221547225134366, -0.022449208574962395, -0.0525486525393365, -0.01403647033824919], [0.007748622099625837, 0.0050687566315824025, -0.00021221547225134366, 1.0, 0.030018324363894955, 0.16723526339043113, 0.034845957676993916], [0.012166213521076788, 0.016660820700081222, -0.022449208574962395, 0.030018324363894955, 1.0, 0.08930248702604628, 0.022676555445986443], [-0.00319921612219938, 0.08004741398285459, -0.0525486525393365, 0.16723526339043113, 0.08930248702604628, 1.0, 0.008066795520600103], [0.0173354518090551, -0.01197748674894942, -0.01403647033824919, 0.034845957676993916, 0.022676555445986443, 0.008066795520600103, 1.0]]}],\n",
              "                        {\"annotations\": [{\"font\": {\"color\": \"#000000\"}, \"showarrow\": false, \"text\": \"1.0\", \"x\": \"Number_of_Vehicles\", \"xref\": \"x\", \"y\": \"Number_of_Vehicles\", \"yref\": \"y\"}, {\"font\": {\"color\": \"#FFFFFF\"}, \"showarrow\": false, \"text\": \"0.16\", \"x\": \"Speed_limit\", \"xref\": \"x\", \"y\": \"Number_of_Vehicles\", \"yref\": \"y\"}, {\"font\": {\"color\": \"#FFFFFF\"}, \"showarrow\": false, \"text\": \"-0.09\", \"x\": \"Urban_or_Rural_Area\", \"xref\": \"x\", \"y\": \"Number_of_Vehicles\", \"yref\": \"y\"}, {\"font\": {\"color\": \"#FFFFFF\"}, \"showarrow\": false, \"text\": \"0.01\", \"x\": \"Sex_of_Driver\", \"xref\": \"x\", \"y\": \"Number_of_Vehicles\", \"yref\": \"y\"}, {\"font\": {\"color\": \"#FFFFFF\"}, \"showarrow\": false, \"text\": \"0.01\", \"x\": \"Age_of_Driver\", \"xref\": \"x\", \"y\": \"Number_of_Vehicles\", \"yref\": \"y\"}, {\"font\": {\"color\": \"#FFFFFF\"}, \"showarrow\": false, \"text\": \"-0.0\", \"x\": \"Engine_Capacity_(CC)\", \"xref\": \"x\", \"y\": \"Number_of_Vehicles\", \"yref\": \"y\"}, {\"font\": {\"color\": \"#FFFFFF\"}, \"showarrow\": false, \"text\": \"0.02\", \"x\": \"Damage\", \"xref\": \"x\", \"y\": \"Number_of_Vehicles\", \"yref\": \"y\"}, {\"font\": {\"color\": \"#FFFFFF\"}, \"showarrow\": false, \"text\": \"0.16\", \"x\": \"Number_of_Vehicles\", \"xref\": \"x\", \"y\": \"Speed_limit\", \"yref\": \"y\"}, {\"font\": {\"color\": \"#000000\"}, \"showarrow\": false, \"text\": \"1.0\", \"x\": \"Speed_limit\", \"xref\": \"x\", \"y\": \"Speed_limit\", \"yref\": \"y\"}, {\"font\": {\"color\": \"#FFFFFF\"}, \"showarrow\": false, \"text\": \"-0.54\", \"x\": \"Urban_or_Rural_Area\", \"xref\": \"x\", \"y\": \"Speed_limit\", \"yref\": \"y\"}, {\"font\": {\"color\": \"#FFFFFF\"}, \"showarrow\": false, \"text\": \"0.01\", \"x\": \"Sex_of_Driver\", \"xref\": \"x\", \"y\": \"Speed_limit\", \"yref\": \"y\"}, {\"font\": {\"color\": \"#FFFFFF\"}, \"showarrow\": false, \"text\": \"0.02\", \"x\": \"Age_of_Driver\", \"xref\": \"x\", \"y\": \"Speed_limit\", \"yref\": \"y\"}, {\"font\": {\"color\": \"#FFFFFF\"}, \"showarrow\": false, \"text\": \"0.08\", \"x\": \"Engine_Capacity_(CC)\", \"xref\": \"x\", \"y\": \"Speed_limit\", \"yref\": \"y\"}, {\"font\": {\"color\": \"#FFFFFF\"}, \"showarrow\": false, \"text\": \"-0.01\", \"x\": \"Damage\", \"xref\": \"x\", \"y\": \"Speed_limit\", \"yref\": \"y\"}, {\"font\": {\"color\": \"#FFFFFF\"}, \"showarrow\": false, \"text\": \"-0.09\", \"x\": \"Number_of_Vehicles\", \"xref\": \"x\", \"y\": \"Urban_or_Rural_Area\", \"yref\": \"y\"}, {\"font\": {\"color\": \"#FFFFFF\"}, \"showarrow\": false, \"text\": \"-0.54\", \"x\": \"Speed_limit\", \"xref\": \"x\", \"y\": \"Urban_or_Rural_Area\", \"yref\": \"y\"}, {\"font\": {\"color\": \"#000000\"}, \"showarrow\": false, \"text\": \"1.0\", \"x\": \"Urban_or_Rural_Area\", \"xref\": \"x\", \"y\": \"Urban_or_Rural_Area\", \"yref\": \"y\"}, {\"font\": {\"color\": \"#FFFFFF\"}, \"showarrow\": false, \"text\": \"-0.0\", \"x\": \"Sex_of_Driver\", \"xref\": \"x\", \"y\": \"Urban_or_Rural_Area\", \"yref\": \"y\"}, {\"font\": {\"color\": \"#FFFFFF\"}, \"showarrow\": false, \"text\": \"-0.02\", \"x\": \"Age_of_Driver\", \"xref\": \"x\", \"y\": \"Urban_or_Rural_Area\", \"yref\": \"y\"}, {\"font\": {\"color\": \"#FFFFFF\"}, \"showarrow\": false, \"text\": \"-0.05\", \"x\": \"Engine_Capacity_(CC)\", \"xref\": \"x\", \"y\": \"Urban_or_Rural_Area\", \"yref\": \"y\"}, {\"font\": {\"color\": \"#FFFFFF\"}, \"showarrow\": false, \"text\": \"-0.01\", \"x\": \"Damage\", \"xref\": \"x\", \"y\": \"Urban_or_Rural_Area\", \"yref\": \"y\"}, {\"font\": {\"color\": \"#FFFFFF\"}, \"showarrow\": false, \"text\": \"0.01\", \"x\": \"Number_of_Vehicles\", \"xref\": \"x\", \"y\": \"Sex_of_Driver\", \"yref\": \"y\"}, {\"font\": {\"color\": \"#FFFFFF\"}, \"showarrow\": false, \"text\": \"0.01\", \"x\": \"Speed_limit\", \"xref\": \"x\", \"y\": \"Sex_of_Driver\", \"yref\": \"y\"}, {\"font\": {\"color\": \"#FFFFFF\"}, \"showarrow\": false, \"text\": \"-0.0\", \"x\": \"Urban_or_Rural_Area\", \"xref\": \"x\", \"y\": \"Sex_of_Driver\", \"yref\": \"y\"}, {\"font\": {\"color\": \"#000000\"}, \"showarrow\": false, \"text\": \"1.0\", \"x\": \"Sex_of_Driver\", \"xref\": \"x\", \"y\": \"Sex_of_Driver\", \"yref\": \"y\"}, {\"font\": {\"color\": \"#FFFFFF\"}, \"showarrow\": false, \"text\": \"0.03\", \"x\": \"Age_of_Driver\", \"xref\": \"x\", \"y\": \"Sex_of_Driver\", \"yref\": \"y\"}, {\"font\": {\"color\": \"#FFFFFF\"}, \"showarrow\": false, \"text\": \"0.17\", \"x\": \"Engine_Capacity_(CC)\", \"xref\": \"x\", \"y\": \"Sex_of_Driver\", \"yref\": \"y\"}, {\"font\": {\"color\": \"#FFFFFF\"}, \"showarrow\": false, \"text\": \"0.03\", \"x\": \"Damage\", \"xref\": \"x\", \"y\": \"Sex_of_Driver\", \"yref\": \"y\"}, {\"font\": {\"color\": \"#FFFFFF\"}, \"showarrow\": false, \"text\": \"0.01\", \"x\": \"Number_of_Vehicles\", \"xref\": \"x\", \"y\": \"Age_of_Driver\", \"yref\": \"y\"}, {\"font\": {\"color\": \"#FFFFFF\"}, \"showarrow\": false, \"text\": \"0.02\", \"x\": \"Speed_limit\", \"xref\": \"x\", \"y\": \"Age_of_Driver\", \"yref\": \"y\"}, {\"font\": {\"color\": \"#FFFFFF\"}, \"showarrow\": false, \"text\": \"-0.02\", \"x\": \"Urban_or_Rural_Area\", \"xref\": \"x\", \"y\": \"Age_of_Driver\", \"yref\": \"y\"}, {\"font\": {\"color\": \"#FFFFFF\"}, \"showarrow\": false, \"text\": \"0.03\", \"x\": \"Sex_of_Driver\", \"xref\": \"x\", \"y\": \"Age_of_Driver\", \"yref\": \"y\"}, {\"font\": {\"color\": \"#000000\"}, \"showarrow\": false, \"text\": \"1.0\", \"x\": \"Age_of_Driver\", \"xref\": \"x\", \"y\": \"Age_of_Driver\", \"yref\": \"y\"}, {\"font\": {\"color\": \"#FFFFFF\"}, \"showarrow\": false, \"text\": \"0.09\", \"x\": \"Engine_Capacity_(CC)\", \"xref\": \"x\", \"y\": \"Age_of_Driver\", \"yref\": \"y\"}, {\"font\": {\"color\": \"#FFFFFF\"}, \"showarrow\": false, \"text\": \"0.02\", \"x\": \"Damage\", \"xref\": \"x\", \"y\": \"Age_of_Driver\", \"yref\": \"y\"}, {\"font\": {\"color\": \"#FFFFFF\"}, \"showarrow\": false, \"text\": \"-0.0\", \"x\": \"Number_of_Vehicles\", \"xref\": \"x\", \"y\": \"Engine_Capacity_(CC)\", \"yref\": \"y\"}, {\"font\": {\"color\": \"#FFFFFF\"}, \"showarrow\": false, \"text\": \"0.08\", \"x\": \"Speed_limit\", \"xref\": \"x\", \"y\": \"Engine_Capacity_(CC)\", \"yref\": \"y\"}, {\"font\": {\"color\": \"#FFFFFF\"}, \"showarrow\": false, \"text\": \"-0.05\", \"x\": \"Urban_or_Rural_Area\", \"xref\": \"x\", \"y\": \"Engine_Capacity_(CC)\", \"yref\": \"y\"}, {\"font\": {\"color\": \"#FFFFFF\"}, \"showarrow\": false, \"text\": \"0.17\", \"x\": \"Sex_of_Driver\", \"xref\": \"x\", \"y\": \"Engine_Capacity_(CC)\", \"yref\": \"y\"}, {\"font\": {\"color\": \"#FFFFFF\"}, \"showarrow\": false, \"text\": \"0.09\", \"x\": \"Age_of_Driver\", \"xref\": \"x\", \"y\": \"Engine_Capacity_(CC)\", \"yref\": \"y\"}, {\"font\": {\"color\": \"#000000\"}, \"showarrow\": false, \"text\": \"1.0\", \"x\": \"Engine_Capacity_(CC)\", \"xref\": \"x\", \"y\": \"Engine_Capacity_(CC)\", \"yref\": \"y\"}, {\"font\": {\"color\": \"#FFFFFF\"}, \"showarrow\": false, \"text\": \"0.01\", \"x\": \"Damage\", \"xref\": \"x\", \"y\": \"Engine_Capacity_(CC)\", \"yref\": \"y\"}, {\"font\": {\"color\": \"#FFFFFF\"}, \"showarrow\": false, \"text\": \"0.02\", \"x\": \"Number_of_Vehicles\", \"xref\": \"x\", \"y\": \"Damage\", \"yref\": \"y\"}, {\"font\": {\"color\": \"#FFFFFF\"}, \"showarrow\": false, \"text\": \"-0.01\", \"x\": \"Speed_limit\", \"xref\": \"x\", \"y\": \"Damage\", \"yref\": \"y\"}, {\"font\": {\"color\": \"#FFFFFF\"}, \"showarrow\": false, \"text\": \"-0.01\", \"x\": \"Urban_or_Rural_Area\", \"xref\": \"x\", \"y\": \"Damage\", \"yref\": \"y\"}, {\"font\": {\"color\": \"#FFFFFF\"}, \"showarrow\": false, \"text\": \"0.03\", \"x\": \"Sex_of_Driver\", \"xref\": \"x\", \"y\": \"Damage\", \"yref\": \"y\"}, {\"font\": {\"color\": \"#FFFFFF\"}, \"showarrow\": false, \"text\": \"0.02\", \"x\": \"Age_of_Driver\", \"xref\": \"x\", \"y\": \"Damage\", \"yref\": \"y\"}, {\"font\": {\"color\": \"#FFFFFF\"}, \"showarrow\": false, \"text\": \"0.01\", \"x\": \"Engine_Capacity_(CC)\", \"xref\": \"x\", \"y\": \"Damage\", \"yref\": \"y\"}, {\"font\": {\"color\": \"#000000\"}, \"showarrow\": false, \"text\": \"1.0\", \"x\": \"Damage\", \"xref\": \"x\", \"y\": \"Damage\", \"yref\": \"y\"}], \"template\": {\"data\": {\"bar\": [{\"error_x\": {\"color\": \"#2a3f5f\"}, \"error_y\": {\"color\": \"#2a3f5f\"}, \"marker\": {\"line\": {\"color\": \"#E5ECF6\", \"width\": 0.5}}, \"type\": \"bar\"}], \"barpolar\": [{\"marker\": {\"line\": {\"color\": \"#E5ECF6\", \"width\": 0.5}}, \"type\": \"barpolar\"}], \"carpet\": [{\"aaxis\": {\"endlinecolor\": \"#2a3f5f\", \"gridcolor\": \"white\", \"linecolor\": \"white\", \"minorgridcolor\": \"white\", \"startlinecolor\": \"#2a3f5f\"}, \"baxis\": {\"endlinecolor\": \"#2a3f5f\", \"gridcolor\": \"white\", \"linecolor\": \"white\", \"minorgridcolor\": \"white\", \"startlinecolor\": \"#2a3f5f\"}, \"type\": \"carpet\"}], \"choropleth\": [{\"colorbar\": {\"outlinewidth\": 0, \"ticks\": \"\"}, \"type\": \"choropleth\"}], \"contour\": [{\"colorbar\": {\"outlinewidth\": 0, \"ticks\": \"\"}, \"colorscale\": [[0.0, \"#0d0887\"], [0.1111111111111111, \"#46039f\"], [0.2222222222222222, \"#7201a8\"], [0.3333333333333333, \"#9c179e\"], [0.4444444444444444, \"#bd3786\"], [0.5555555555555556, \"#d8576b\"], [0.6666666666666666, \"#ed7953\"], [0.7777777777777778, \"#fb9f3a\"], [0.8888888888888888, \"#fdca26\"], [1.0, \"#f0f921\"]], \"type\": \"contour\"}], \"contourcarpet\": [{\"colorbar\": {\"outlinewidth\": 0, \"ticks\": \"\"}, \"type\": \"contourcarpet\"}], \"heatmap\": [{\"colorbar\": {\"outlinewidth\": 0, \"ticks\": \"\"}, \"colorscale\": [[0.0, \"#0d0887\"], [0.1111111111111111, \"#46039f\"], [0.2222222222222222, \"#7201a8\"], [0.3333333333333333, \"#9c179e\"], [0.4444444444444444, \"#bd3786\"], [0.5555555555555556, \"#d8576b\"], [0.6666666666666666, \"#ed7953\"], [0.7777777777777778, \"#fb9f3a\"], [0.8888888888888888, \"#fdca26\"], [1.0, \"#f0f921\"]], \"type\": \"heatmap\"}], \"heatmapgl\": [{\"colorbar\": {\"outlinewidth\": 0, \"ticks\": \"\"}, \"colorscale\": [[0.0, \"#0d0887\"], [0.1111111111111111, \"#46039f\"], [0.2222222222222222, \"#7201a8\"], [0.3333333333333333, \"#9c179e\"], [0.4444444444444444, \"#bd3786\"], [0.5555555555555556, \"#d8576b\"], [0.6666666666666666, \"#ed7953\"], [0.7777777777777778, \"#fb9f3a\"], [0.8888888888888888, \"#fdca26\"], [1.0, \"#f0f921\"]], \"type\": \"heatmapgl\"}], \"histogram\": [{\"marker\": {\"colorbar\": {\"outlinewidth\": 0, \"ticks\": \"\"}}, \"type\": \"histogram\"}], \"histogram2d\": [{\"colorbar\": {\"outlinewidth\": 0, \"ticks\": \"\"}, \"colorscale\": [[0.0, \"#0d0887\"], [0.1111111111111111, \"#46039f\"], [0.2222222222222222, \"#7201a8\"], [0.3333333333333333, \"#9c179e\"], [0.4444444444444444, \"#bd3786\"], [0.5555555555555556, \"#d8576b\"], [0.6666666666666666, \"#ed7953\"], [0.7777777777777778, \"#fb9f3a\"], [0.8888888888888888, \"#fdca26\"], [1.0, \"#f0f921\"]], \"type\": \"histogram2d\"}], \"histogram2dcontour\": [{\"colorbar\": {\"outlinewidth\": 0, \"ticks\": \"\"}, \"colorscale\": [[0.0, \"#0d0887\"], [0.1111111111111111, \"#46039f\"], [0.2222222222222222, \"#7201a8\"], [0.3333333333333333, \"#9c179e\"], [0.4444444444444444, \"#bd3786\"], [0.5555555555555556, \"#d8576b\"], [0.6666666666666666, \"#ed7953\"], [0.7777777777777778, \"#fb9f3a\"], [0.8888888888888888, \"#fdca26\"], [1.0, \"#f0f921\"]], \"type\": \"histogram2dcontour\"}], \"mesh3d\": [{\"colorbar\": {\"outlinewidth\": 0, \"ticks\": \"\"}, \"type\": \"mesh3d\"}], \"parcoords\": [{\"line\": {\"colorbar\": {\"outlinewidth\": 0, \"ticks\": \"\"}}, \"type\": \"parcoords\"}], \"pie\": [{\"automargin\": true, \"type\": \"pie\"}], \"scatter\": [{\"marker\": {\"colorbar\": {\"outlinewidth\": 0, \"ticks\": \"\"}}, \"type\": \"scatter\"}], \"scatter3d\": [{\"line\": {\"colorbar\": {\"outlinewidth\": 0, \"ticks\": \"\"}}, \"marker\": {\"colorbar\": {\"outlinewidth\": 0, \"ticks\": \"\"}}, \"type\": \"scatter3d\"}], \"scattercarpet\": [{\"marker\": {\"colorbar\": {\"outlinewidth\": 0, \"ticks\": \"\"}}, \"type\": \"scattercarpet\"}], \"scattergeo\": [{\"marker\": {\"colorbar\": {\"outlinewidth\": 0, \"ticks\": \"\"}}, \"type\": \"scattergeo\"}], \"scattergl\": [{\"marker\": {\"colorbar\": {\"outlinewidth\": 0, \"ticks\": \"\"}}, \"type\": \"scattergl\"}], \"scattermapbox\": [{\"marker\": {\"colorbar\": {\"outlinewidth\": 0, \"ticks\": \"\"}}, \"type\": \"scattermapbox\"}], \"scatterpolar\": [{\"marker\": {\"colorbar\": {\"outlinewidth\": 0, \"ticks\": \"\"}}, \"type\": \"scatterpolar\"}], \"scatterpolargl\": [{\"marker\": {\"colorbar\": {\"outlinewidth\": 0, \"ticks\": \"\"}}, \"type\": \"scatterpolargl\"}], \"scatterternary\": [{\"marker\": {\"colorbar\": {\"outlinewidth\": 0, \"ticks\": \"\"}}, \"type\": \"scatterternary\"}], \"surface\": [{\"colorbar\": {\"outlinewidth\": 0, \"ticks\": \"\"}, \"colorscale\": [[0.0, \"#0d0887\"], [0.1111111111111111, \"#46039f\"], [0.2222222222222222, \"#7201a8\"], [0.3333333333333333, \"#9c179e\"], [0.4444444444444444, \"#bd3786\"], [0.5555555555555556, \"#d8576b\"], [0.6666666666666666, \"#ed7953\"], [0.7777777777777778, \"#fb9f3a\"], [0.8888888888888888, \"#fdca26\"], [1.0, \"#f0f921\"]], \"type\": \"surface\"}], \"table\": [{\"cells\": {\"fill\": {\"color\": \"#EBF0F8\"}, \"line\": {\"color\": \"white\"}}, \"header\": {\"fill\": {\"color\": \"#C8D4E3\"}, \"line\": {\"color\": \"white\"}}, \"type\": \"table\"}]}, \"layout\": {\"annotationdefaults\": {\"arrowcolor\": \"#2a3f5f\", \"arrowhead\": 0, \"arrowwidth\": 1}, \"coloraxis\": {\"colorbar\": {\"outlinewidth\": 0, \"ticks\": \"\"}}, \"colorscale\": {\"diverging\": [[0, \"#8e0152\"], [0.1, \"#c51b7d\"], [0.2, \"#de77ae\"], [0.3, \"#f1b6da\"], [0.4, \"#fde0ef\"], [0.5, \"#f7f7f7\"], [0.6, \"#e6f5d0\"], [0.7, \"#b8e186\"], [0.8, \"#7fbc41\"], [0.9, \"#4d9221\"], [1, \"#276419\"]], \"sequential\": [[0.0, \"#0d0887\"], [0.1111111111111111, \"#46039f\"], [0.2222222222222222, \"#7201a8\"], [0.3333333333333333, \"#9c179e\"], [0.4444444444444444, \"#bd3786\"], [0.5555555555555556, \"#d8576b\"], [0.6666666666666666, \"#ed7953\"], [0.7777777777777778, \"#fb9f3a\"], [0.8888888888888888, \"#fdca26\"], [1.0, \"#f0f921\"]], \"sequentialminus\": [[0.0, \"#0d0887\"], [0.1111111111111111, \"#46039f\"], [0.2222222222222222, \"#7201a8\"], [0.3333333333333333, \"#9c179e\"], [0.4444444444444444, \"#bd3786\"], [0.5555555555555556, \"#d8576b\"], [0.6666666666666666, \"#ed7953\"], [0.7777777777777778, \"#fb9f3a\"], [0.8888888888888888, \"#fdca26\"], [1.0, \"#f0f921\"]]}, \"colorway\": [\"#636efa\", \"#EF553B\", \"#00cc96\", \"#ab63fa\", \"#FFA15A\", \"#19d3f3\", \"#FF6692\", \"#B6E880\", \"#FF97FF\", \"#FECB52\"], \"font\": {\"color\": \"#2a3f5f\"}, \"geo\": {\"bgcolor\": \"white\", \"lakecolor\": \"white\", \"landcolor\": \"#E5ECF6\", \"showlakes\": true, \"showland\": true, \"subunitcolor\": \"white\"}, \"hoverlabel\": {\"align\": \"left\"}, \"hovermode\": \"closest\", \"mapbox\": {\"style\": \"light\"}, \"paper_bgcolor\": \"white\", \"plot_bgcolor\": \"#E5ECF6\", \"polar\": {\"angularaxis\": {\"gridcolor\": \"white\", \"linecolor\": \"white\", \"ticks\": \"\"}, \"bgcolor\": \"#E5ECF6\", \"radialaxis\": {\"gridcolor\": \"white\", \"linecolor\": \"white\", \"ticks\": \"\"}}, \"scene\": {\"xaxis\": {\"backgroundcolor\": \"#E5ECF6\", \"gridcolor\": \"white\", \"gridwidth\": 2, \"linecolor\": \"white\", \"showbackground\": true, \"ticks\": \"\", \"zerolinecolor\": \"white\"}, \"yaxis\": {\"backgroundcolor\": \"#E5ECF6\", \"gridcolor\": \"white\", \"gridwidth\": 2, \"linecolor\": \"white\", \"showbackground\": true, \"ticks\": \"\", \"zerolinecolor\": \"white\"}, \"zaxis\": {\"backgroundcolor\": \"#E5ECF6\", \"gridcolor\": \"white\", \"gridwidth\": 2, \"linecolor\": \"white\", \"showbackground\": true, \"ticks\": \"\", \"zerolinecolor\": \"white\"}}, \"shapedefaults\": {\"line\": {\"color\": \"#2a3f5f\"}}, \"ternary\": {\"aaxis\": {\"gridcolor\": \"white\", \"linecolor\": \"white\", \"ticks\": \"\"}, \"baxis\": {\"gridcolor\": \"white\", \"linecolor\": \"white\", \"ticks\": \"\"}, \"bgcolor\": \"#E5ECF6\", \"caxis\": {\"gridcolor\": \"white\", \"linecolor\": \"white\", \"ticks\": \"\"}}, \"title\": {\"x\": 0.05}, \"xaxis\": {\"automargin\": true, \"gridcolor\": \"white\", \"linecolor\": \"white\", \"ticks\": \"\", \"title\": {\"standoff\": 15}, \"zerolinecolor\": \"white\", \"zerolinewidth\": 2}, \"yaxis\": {\"automargin\": true, \"gridcolor\": \"white\", \"linecolor\": \"white\", \"ticks\": \"\", \"title\": {\"standoff\": 15}, \"zerolinecolor\": \"white\", \"zerolinewidth\": 2}}}, \"xaxis\": {\"dtick\": 1, \"gridcolor\": \"rgb(0, 0, 0)\", \"side\": \"top\", \"ticks\": \"\"}, \"yaxis\": {\"dtick\": 1, \"ticks\": \"\", \"ticksuffix\": \"  \"}},\n",
              "                        {\"responsive\": true}\n",
              "                    ).then(function(){\n",
              "                            \n",
              "var gd = document.getElementById('782b0865-922e-44ec-bbf6-7d08e06d0bfe');\n",
              "var x = new MutationObserver(function (mutations, observer) {{\n",
              "        var display = window.getComputedStyle(gd).display;\n",
              "        if (!display || display === 'none') {{\n",
              "            console.log([gd, 'removed!']);\n",
              "            Plotly.purge(gd);\n",
              "            observer.disconnect();\n",
              "        }}\n",
              "}});\n",
              "\n",
              "// Listen for the removal of the full notebook cells\n",
              "var notebookContainer = gd.closest('#notebook-container');\n",
              "if (notebookContainer) {{\n",
              "    x.observe(notebookContainer, {childList: true});\n",
              "}}\n",
              "\n",
              "// Listen for the clearing of the current output cell\n",
              "var outputEl = gd.closest('.output');\n",
              "if (outputEl) {{\n",
              "    x.observe(outputEl, {childList: true});\n",
              "}}\n",
              "\n",
              "                        })\n",
              "                };\n",
              "                \n",
              "            </script>\n",
              "        </div>\n",
              "</body>\n",
              "</html>"
            ]
          },
          "metadata": {
            "tags": []
          }
        },
        {
          "output_type": "stream",
          "text": [
            "<class 'pandas.core.frame.DataFrame'>\n",
            "<class 'pandas.core.series.Series'>\n",
            "(37869, 40)\n",
            "(37869,)\n",
            "{'classification__n_estimators': 30}\n",
            "0.0986316658278136\n"
          ],
          "name": "stdout"
        }
      ]
    },
    {
      "cell_type": "code",
      "metadata": {
        "colab": {
          "base_uri": "https://localhost:8080/"
        },
        "id": "nTIq4L6WaNj8",
        "outputId": "6d83bc46-0a8c-4f2c-d11e-815c10db42fe"
      },
      "source": [
        "X = final_data[['Engine_Capacity_(CC)','Age_of_Driver','Speed_limit']]\r\n",
        "\r\n",
        "feature_scaler = StandardScaler()\r\n",
        "X_scaled = feature_scaler.fit_transform(X)\r\n",
        "\r\n",
        "#Tuning the random forest parameter 'n_estimators' and implementing cross-validation using Grid Search\r\n",
        "model = Pipeline([\r\n",
        "        ('balancing', SMOTE(random_state = 101)),\r\n",
        "        ('classification', RandomForestClassifier(criterion='entropy', max_features='auto', random_state=1) )\r\n",
        "    ])\r\n",
        "grid_param = {'classification__n_estimators': [30,40,50,100,150]}\r\n",
        "\r\n",
        "gd_sr = GridSearchCV(estimator=model, param_grid=grid_param, scoring='precision', cv=5)\r\n",
        "\r\n",
        "# \"\"\"\r\n",
        "# In the above GridSearchCV(), scoring parameter should be set as follows:\r\n",
        "# scoring = 'accuracy' when you want to maximize prediction accuracy\r\n",
        "# scoring = 'recall' when you want to minimize false negatives\r\n",
        "# scoring = 'precision' when you want to minimize false positives\r\n",
        "# scoring = 'f1' when you want to balance false positives and false negatives (place equal emphasis on minimizing both)\r\n",
        "# \"\"\"\r\n",
        "\r\n",
        "gd_sr.fit(X_scaled, Y)\r\n",
        "\r\n",
        "best_parameters = gd_sr.best_params_\r\n",
        "print(best_parameters)\r\n",
        "\r\n",
        "best_result = gd_sr.best_score_ # Mean cross-validated score of the best_estimator\r\n",
        "print(best_result)"
      ],
      "execution_count": 12,
      "outputs": [
        {
          "output_type": "stream",
          "text": [
            "{'classification__n_estimators': 50}\n",
            "0.07194471345377453\n"
          ],
          "name": "stdout"
        }
      ]
    },
    {
      "cell_type": "code",
      "metadata": {
        "id": "TBBVOKPZQfQd",
        "outputId": "bba9f998-7ee4-4787-f9a4-f845e4262f1c",
        "colab": {
          "base_uri": "https://localhost:8080/"
        }
      },
      "source": [
        "rfc = RandomForestClassifier(n_estimators=50, criterion='entropy', max_features='auto', random_state=1)\r\n",
        "rfc.fit(X_scaled,Y)\r\n",
        "# featimp = pd.Series(rfc.feature_importances_, index=list(X)).sort_values(ascending=False)\r\n",
        "# print(featimp)\r\n",
        "\r\n",
        "# Y_pred = rfc.predict(X_scaled)\r\n",
        "\r\n",
        "# conf_mat = metrics.confusion_matrix(Y, Y_pred)\r\n",
        "# plt.figure(figsize=(8,6))\r\n",
        "# sns.heatmap(conf_mat,annot=True)\r\n",
        "# plt.title(\"Confusion_matrix\")\r\n",
        "# plt.xlabel(\"Predicted Class\")\r\n",
        "# plt.ylabel(\"Actual class\")\r\n",
        "# plt.show()\r\n",
        "# print('Confusion matrix: \\n', conf_mat)\r\n",
        "# print('TP: ', conf_mat[1,1])\r\n",
        "# print('TN: ', conf_mat[0,0])\r\n",
        "# print('FP: ', conf_mat[0,1])\r\n",
        "# print('FN: ', conf_mat[1,0])"
      ],
      "execution_count": 13,
      "outputs": [
        {
          "output_type": "execute_result",
          "data": {
            "text/plain": [
              "RandomForestClassifier(bootstrap=True, ccp_alpha=0.0, class_weight=None,\n",
              "                       criterion='entropy', max_depth=None, max_features='auto',\n",
              "                       max_leaf_nodes=None, max_samples=None,\n",
              "                       min_impurity_decrease=0.0, min_impurity_split=None,\n",
              "                       min_samples_leaf=1, min_samples_split=2,\n",
              "                       min_weight_fraction_leaf=0.0, n_estimators=40,\n",
              "                       n_jobs=None, oob_score=False, random_state=1, verbose=0,\n",
              "                       warm_start=False)"
            ]
          },
          "metadata": {
            "tags": []
          },
          "execution_count": 13
        }
      ]
    }
  ]
}