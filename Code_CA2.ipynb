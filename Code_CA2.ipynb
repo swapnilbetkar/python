{
  "nbformat": 4,
  "nbformat_minor": 0,
  "metadata": {
    "colab": {
      "name": "Code_CA2.ipynb",
      "provenance": [],
      "collapsed_sections": [],
      "authorship_tag": "ABX9TyOBngzPCzeXcHBAw5H01Ix4",
      "include_colab_link": true
    },
    "kernelspec": {
      "name": "python3",
      "display_name": "Python 3"
    },
    "language_info": {
      "name": "python"
    }
  },
  "cells": [
    {
      "cell_type": "markdown",
      "metadata": {
        "id": "view-in-github",
        "colab_type": "text"
      },
      "source": [
        "<a href=\"https://colab.research.google.com/github/swapnilbetkar/python/blob/Dev_Class/Code_CA2.ipynb\" target=\"_parent\"><img src=\"https://colab.research.google.com/assets/colab-badge.svg\" alt=\"Open In Colab\"/></a>"
      ]
    },
    {
      "cell_type": "code",
      "metadata": {
        "colab": {
          "base_uri": "https://localhost:8080/"
        },
        "id": "pPpZvNbiX3fM",
        "outputId": "10e8daba-d9da-4bcc-bc3c-a37d5d0925b9"
      },
      "source": [
        "from google.colab import drive\n",
        "drive.mount('/content/drive') \n",
        "\n"
      ],
      "execution_count": 9,
      "outputs": [
        {
          "output_type": "stream",
          "text": [
            "Drive already mounted at /content/drive; to attempt to forcibly remount, call drive.mount(\"/content/drive\", force_remount=True).\n"
          ],
          "name": "stdout"
        }
      ]
    },
    {
      "cell_type": "code",
      "metadata": {
        "id": "rWpCDI9_YfJ_"
      },
      "source": [
        "import numpy as np\n",
        "import pandas as pd\n",
        "from sklearn.preprocessing import StandardScaler\n",
        "from sklearn.model_selection import GridSearchCV\n",
        "from sklearn.ensemble import RandomForestRegressor\n",
        "from sklearn.linear_model import SGDRegressor\n",
        "from sklearn.svm import SVR\n",
        "import plotly.graph_objs as go\n",
        "import plotly.figure_factory as ff\n",
        "import warnings\n",
        "warnings.filterwarnings('ignore')"
      ],
      "execution_count": 10,
      "outputs": []
    },
    {
      "cell_type": "code",
      "metadata": {
        "colab": {
          "base_uri": "https://localhost:8080/"
        },
        "id": "HH6hhN42YO-Q",
        "outputId": "9f1d1bf9-6d2c-429a-ae69-62586c8010d8"
      },
      "source": [
        "dataset = pd.read_csv(\"/content/drive/MyDrive/Datasets/SuperMart.csv\")\n",
        "pd.set_option('display.max_columns', None) # to make sure you can see all the columns in output window\n",
        "print(dataset.head())\n",
        "print(dataset.shape)\n",
        "print(dataset.info())\n",
        "print(dataset.describe())\n"
      ],
      "execution_count": 11,
      "outputs": [
        {
          "output_type": "stream",
          "text": [
            "    Education Age_Group Marital_Status Income_Group  Dependents  \\\n",
            "0  Graduation     30-60       Divorced      60K-89K           0   \n",
            "1  Graduation     30-60         Single      30K-59K           0   \n",
            "2  Graduation     30-60        Married      60K-89K           1   \n",
            "3  Graduation     30-60       Together      30K-59K           2   \n",
            "4  Graduation       <30         Single         <30K           1   \n",
            "\n",
            "   NumDealsPurchases  NumWebPurchases  NumStorePurchases  AcceptedCmp1  \\\n",
            "0                  1                8                  6             0   \n",
            "1                  1               10                  7             0   \n",
            "2                  1                5                  5             0   \n",
            "3                  1                1                  2             0   \n",
            "4                  2                4                  2             0   \n",
            "\n",
            "   AcceptedCmp2  AcceptedCmp3  AcceptedCmp4  AcceptedCmp5  AcceptedCmp6  \\\n",
            "0             0             0             0             0             1   \n",
            "1             1             0             0             0             1   \n",
            "2             0             0             0             0             0   \n",
            "3             0             0             0             0             0   \n",
            "4             0             1             0             0             1   \n",
            "\n",
            "   Complain  Revenue  \n",
            "0         0     1190  \n",
            "1         0      577  \n",
            "2         0      251  \n",
            "3         0       11  \n",
            "4         0       91  \n",
            "(2240, 16)\n",
            "<class 'pandas.core.frame.DataFrame'>\n",
            "RangeIndex: 2240 entries, 0 to 2239\n",
            "Data columns (total 16 columns):\n",
            " #   Column             Non-Null Count  Dtype \n",
            "---  ------             --------------  ----- \n",
            " 0   Education          2240 non-null   object\n",
            " 1   Age_Group          2240 non-null   object\n",
            " 2   Marital_Status     2240 non-null   object\n",
            " 3   Income_Group       2240 non-null   object\n",
            " 4   Dependents         2240 non-null   int64 \n",
            " 5   NumDealsPurchases  2240 non-null   int64 \n",
            " 6   NumWebPurchases    2240 non-null   int64 \n",
            " 7   NumStorePurchases  2240 non-null   int64 \n",
            " 8   AcceptedCmp1       2240 non-null   int64 \n",
            " 9   AcceptedCmp2       2240 non-null   int64 \n",
            " 10  AcceptedCmp3       2240 non-null   int64 \n",
            " 11  AcceptedCmp4       2240 non-null   int64 \n",
            " 12  AcceptedCmp5       2240 non-null   int64 \n",
            " 13  AcceptedCmp6       2240 non-null   int64 \n",
            " 14  Complain           2240 non-null   int64 \n",
            " 15  Revenue            2240 non-null   int64 \n",
            "dtypes: int64(12), object(4)\n",
            "memory usage: 280.1+ KB\n",
            "None\n",
            "        Dependents  NumDealsPurchases  NumWebPurchases  NumStorePurchases  \\\n",
            "count  2240.000000        2240.000000      2240.000000        2240.000000   \n",
            "mean      0.950446           2.325000         6.746875           5.796875   \n",
            "std       0.751803           1.932238         4.734179           3.240031   \n",
            "min       0.000000           0.000000         0.000000           1.000000   \n",
            "25%       0.000000           1.000000         2.000000           3.000000   \n",
            "50%       1.000000           2.000000         6.000000           5.000000   \n",
            "75%       1.000000           3.000000        10.000000           8.000000   \n",
            "max       3.000000          15.000000        28.000000          13.000000   \n",
            "\n",
            "       AcceptedCmp1  AcceptedCmp2  AcceptedCmp3  AcceptedCmp4  AcceptedCmp5  \\\n",
            "count   2240.000000   2240.000000   2240.000000   2240.000000   2240.000000   \n",
            "mean       0.064286      0.013393      0.072768      0.074554      0.072768   \n",
            "std        0.245316      0.114976      0.259813      0.262728      0.259813   \n",
            "min        0.000000      0.000000      0.000000      0.000000      0.000000   \n",
            "25%        0.000000      0.000000      0.000000      0.000000      0.000000   \n",
            "50%        0.000000      0.000000      0.000000      0.000000      0.000000   \n",
            "75%        0.000000      0.000000      0.000000      0.000000      0.000000   \n",
            "max        1.000000      1.000000      1.000000      1.000000      1.000000   \n",
            "\n",
            "       AcceptedCmp6     Complain      Revenue  \n",
            "count   2240.000000  2240.000000  2240.000000  \n",
            "mean       0.149107     0.009375   605.798214  \n",
            "std        0.356274     0.096391   602.249288  \n",
            "min        0.000000     0.000000     5.000000  \n",
            "25%        0.000000     0.000000    68.750000  \n",
            "50%        0.000000     0.000000   396.000000  \n",
            "75%        0.000000     0.000000  1045.500000  \n",
            "max        1.000000     1.000000  2525.000000  \n"
          ],
          "name": "stdout"
        }
      ]
    },
    {
      "cell_type": "code",
      "metadata": {
        "colab": {
          "base_uri": "https://localhost:8080/",
          "height": 1000
        },
        "id": "ipUGRKgZYTp_",
        "outputId": "96f3c57f-2f05-46de-9148-446952238756"
      },
      "source": [
        "# Converting Categorical features into Numerical features\n",
        "categorical_features = ['Marital_Status']\n",
        "\n",
        "#Using map function for converting categorcal features to numerical features\n",
        "dataset['Age_Group'] = dataset['Age_Group'].map({'>60':2,'30-60':1,'<30' :0})\n",
        "dataset['Income_Group'] = dataset['Income_Group'].map({'>=90K':3,'60K-89K':2,'30K-59K' :1,'<30K':0})\n",
        "dataset['Education'] = dataset['Education'].map({'PhD':4,'Master':3,'Graduation' :2,'High School':1,'Middle School':0})\n",
        "final_data = pd.get_dummies(dataset, columns = categorical_features)\n",
        "print(final_data.info())\n",
        "print(final_data.head(2))\n",
        "\n",
        "\n",
        "# Plotting Correlation Heatmap\n",
        "corrs = dataset.corr()\n",
        "figure = ff.create_annotated_heatmap(\n",
        "    z=corrs.values,\n",
        "    x=list(corrs.columns),\n",
        "    y=list(corrs.index),\n",
        "    annotation_text=corrs.round(2).values,\n",
        "    showscale=True)\n",
        "figure.show()"
      ],
      "execution_count": 12,
      "outputs": [
        {
          "output_type": "stream",
          "text": [
            "<class 'pandas.core.frame.DataFrame'>\n",
            "RangeIndex: 2240 entries, 0 to 2239\n",
            "Data columns (total 19 columns):\n",
            " #   Column                   Non-Null Count  Dtype\n",
            "---  ------                   --------------  -----\n",
            " 0   Education                2240 non-null   int64\n",
            " 1   Age_Group                2240 non-null   int64\n",
            " 2   Income_Group             2240 non-null   int64\n",
            " 3   Dependents               2240 non-null   int64\n",
            " 4   NumDealsPurchases        2240 non-null   int64\n",
            " 5   NumWebPurchases          2240 non-null   int64\n",
            " 6   NumStorePurchases        2240 non-null   int64\n",
            " 7   AcceptedCmp1             2240 non-null   int64\n",
            " 8   AcceptedCmp2             2240 non-null   int64\n",
            " 9   AcceptedCmp3             2240 non-null   int64\n",
            " 10  AcceptedCmp4             2240 non-null   int64\n",
            " 11  AcceptedCmp5             2240 non-null   int64\n",
            " 12  AcceptedCmp6             2240 non-null   int64\n",
            " 13  Complain                 2240 non-null   int64\n",
            " 14  Revenue                  2240 non-null   int64\n",
            " 15  Marital_Status_Divorced  2240 non-null   uint8\n",
            " 16  Marital_Status_Married   2240 non-null   uint8\n",
            " 17  Marital_Status_Single    2240 non-null   uint8\n",
            " 18  Marital_Status_Together  2240 non-null   uint8\n",
            "dtypes: int64(15), uint8(4)\n",
            "memory usage: 271.4 KB\n",
            "None\n",
            "   Education  Age_Group  Income_Group  Dependents  NumDealsPurchases  \\\n",
            "0          2          1             2           0                  1   \n",
            "1          2          1             1           0                  1   \n",
            "\n",
            "   NumWebPurchases  NumStorePurchases  AcceptedCmp1  AcceptedCmp2  \\\n",
            "0                8                  6             0             0   \n",
            "1               10                  7             0             1   \n",
            "\n",
            "   AcceptedCmp3  AcceptedCmp4  AcceptedCmp5  AcceptedCmp6  Complain  Revenue  \\\n",
            "0             0             0             0             1         0     1190   \n",
            "1             0             0             0             1         0      577   \n",
            "\n",
            "   Marital_Status_Divorced  Marital_Status_Married  Marital_Status_Single  \\\n",
            "0                        1                       0                      0   \n",
            "1                        0                       0                      1   \n",
            "\n",
            "   Marital_Status_Together  \n",
            "0                        0  \n",
            "1                        0  \n"
          ],
          "name": "stdout"
        },
        {
          "output_type": "display_data",
          "data": {
            "text/html": [
              "<html>\n",
              "<head><meta charset=\"utf-8\" /></head>\n",
              "<body>\n",
              "    <div>\n",
              "            <script src=\"https://cdnjs.cloudflare.com/ajax/libs/mathjax/2.7.5/MathJax.js?config=TeX-AMS-MML_SVG\"></script><script type=\"text/javascript\">if (window.MathJax) {MathJax.Hub.Config({SVG: {font: \"STIX-Web\"}});}</script>\n",
              "                <script type=\"text/javascript\">window.PlotlyConfig = {MathJaxConfig: 'local'};</script>\n",
              "        <script src=\"https://cdn.plot.ly/plotly-latest.min.js\"></script>    \n",
              "            <div id=\"54394d3b-7474-47d3-a698-b628d6b3a2bf\" class=\"plotly-graph-div\" style=\"height:525px; width:100%;\"></div>\n",
              "            <script type=\"text/javascript\">\n",
              "                \n",
              "                    window.PLOTLYENV=window.PLOTLYENV || {};\n",
              "                    \n",
              "                if (document.getElementById(\"54394d3b-7474-47d3-a698-b628d6b3a2bf\")) {\n",
              "                    Plotly.newPlot(\n",
              "                        '54394d3b-7474-47d3-a698-b628d6b3a2bf',\n",
              "                        [{\"colorscale\": [[0.0, \"#0d0887\"], [0.1111111111111111, \"#46039f\"], [0.2222222222222222, \"#7201a8\"], [0.3333333333333333, \"#9c179e\"], [0.4444444444444444, \"#bd3786\"], [0.5555555555555556, \"#d8576b\"], [0.6666666666666666, \"#ed7953\"], [0.7777777777777778, \"#fb9f3a\"], [0.8888888888888888, \"#fdca26\"], [1.0, \"#f0f921\"]], \"reversescale\": false, \"showscale\": true, \"type\": \"heatmap\", \"x\": [\"Education\", \"Age_Group\", \"Income_Group\", \"Dependents\", \"NumDealsPurchases\", \"NumWebPurchases\", \"NumStorePurchases\", \"AcceptedCmp1\", \"AcceptedCmp2\", \"AcceptedCmp3\", \"AcceptedCmp4\", \"AcceptedCmp5\", \"AcceptedCmp6\", \"Complain\", \"Revenue\"], \"y\": [\"Education\", \"Age_Group\", \"Income_Group\", \"Dependents\", \"NumDealsPurchases\", \"NumWebPurchases\", \"NumStorePurchases\", \"AcceptedCmp1\", \"AcceptedCmp2\", \"AcceptedCmp3\", \"AcceptedCmp4\", \"AcceptedCmp5\", \"AcceptedCmp6\", \"Complain\", \"Revenue\"], \"z\": [[1.0, 0.21217944410465195, 0.14977368363190188, 0.05318928799718298, 0.030074881432507857, 0.09177957907002288, 0.07122220793484171, -0.010844778275586489, 0.021368852799583248, 0.005836223793098008, 0.0532656198171921, 0.03334575656580139, 0.09081949280035917, -0.05053994653298003, 0.09205406355544775], [0.21217944410465195, 1.0, 0.16031570976639187, 0.08998229820741852, 0.06745243129196904, 0.13811973261647886, 0.11028516379283743, 0.005691235061269891, 0.010077709739847453, -0.047917099755665785, 0.06845648877420613, 0.007581505959272966, 0.00652859082868762, -0.014855229644806034, 0.09934320349475212], [0.14977368363190188, 0.16031570976639187, 1.0, -0.30838177843792836, -0.11040297481080522, 0.6481227144299165, 0.6105091884845909, 0.30497401577204847, 0.08293440200842113, -0.012135812803147787, 0.19968548402916433, 0.3628030914687157, 0.15024883488399907, -0.024374028591387962, 0.7530313319574685], [0.05318928799718298, 0.08998229820741852, -0.30838177843792836, 1.0, 0.4396835959933721, -0.35752341785598174, -0.32298843775246827, -0.22488725758940797, -0.06982334482126368, -0.02040236696473195, -0.0875631838076969, -0.28564232454295074, -0.16916345967441654, 0.031066269226456958, -0.49888764868089525], [0.030074881432507857, 0.06745243129196904, -0.11040297481080522, 0.4396835959933721, 1.0, 0.1321334113213658, 0.0720449986253006, -0.12324443396026741, -0.0376947583565395, -0.02310893662198011, 0.015594261512435311, -0.18324786220258768, 0.0022383132689208743, 0.0004196490129379555, -0.06511194439133125], [0.09177957907002288, 0.13811973261647886, 0.6481227144299165, -0.35752341785598174, 0.1321334113213658, 1.0, 0.6191466082223163, 0.2812937245074683, 0.08171985838069018, 0.08941965847717066, 0.1774844449619719, 0.2804164087896868, 0.2236349903835483, -0.02220193383120304, 0.785846074059344], [0.07122220793484171, 0.11028516379283743, 0.6105091884845909, -0.32298843775246827, 0.0720449986253006, 0.6191466082223163, 1.0, 0.18332488194994348, 0.08523587765294946, -0.06785384121500079, 0.1793976619230693, 0.21493543569717513, 0.03863082486170728, -0.0167810620557485, 0.6763845297692653], [-0.010844778275586489, 0.005691235061269891, 0.30497401577204847, -0.22488725758940797, -0.12324443396026741, 0.2812937245074683, 0.18332488194994348, 1.0, 0.17531457831094377, 0.09475053283938428, 0.25129993382895477, 0.40307767615191026, 0.293981526852481, -0.02549861567523456, 0.3815228377805082], [0.021368852799583248, 0.010077709739847453, 0.08293440200842113, -0.06982334482126368, -0.0376947583565395, 0.08171985838069018, 0.08523587765294946, 0.17531457831094377, 1.0, 0.07201991923575536, 0.29220986334195187, 0.22153300458151476, 0.1692926611850363, -0.01133432044170454, 0.13581285529711185], [0.005836223793098008, -0.047917099755665785, -0.012135812803147787, -0.02040236696473195, -0.02310893662198011, 0.08941965847717066, -0.06785384121500079, 0.09475053283938428, 0.07201991923575536, 1.0, -0.07951226746070778, 0.08031581652395309, 0.25425828324930116, 0.008415397572196961, 0.05338476817611455], [0.0532656198171921, 0.06845648877420613, 0.19968548402916433, -0.0875631838076969, 0.015594261512435311, 0.1774844449619719, 0.1793976619230693, 0.25129993382895477, 0.29220986334195187, -0.07951226746070778, 1.0, 0.3065257644854854, 0.17701860249675194, -0.027611473320668944, 0.2532901769002507], [0.03334575656580139, 0.007581505959272966, 0.3628030914687157, -0.28564232454295074, -0.18324786220258768, 0.2804164087896868, 0.21493543569717513, 0.40307767615191026, 0.22153300458151476, 0.08031581652395309, 0.3065257644854854, 1.0, 0.3266339446225567, -0.009418557547690767, 0.4700584075108249], [0.09081949280035917, 0.00652859082868762, 0.15024883488399907, -0.16916345967441654, 0.0022383132689208743, 0.2236349903835483, 0.03863082486170728, 0.293981526852481, 0.1692926611850363, 0.25425828324930116, 0.17701860249675194, 0.3266339446225567, 1.0, -0.0017069639546603425, 0.2652980093576622], [-0.05053994653298003, -0.014855229644806034, -0.024374028591387962, 0.031066269226456958, 0.0004196490129379555, -0.02220193383120304, -0.0167810620557485, -0.02549861567523456, -0.01133432044170454, 0.008415397572196961, -0.027611473320668944, -0.009418557547690767, -0.0017069639546603425, 1.0, -0.03705847996009841], [0.09205406355544775, 0.09934320349475212, 0.7530313319574685, -0.49888764868089525, -0.06511194439133125, 0.785846074059344, 0.6763845297692653, 0.3815228377805082, 0.13581285529711185, 0.05338476817611455, 0.2532901769002507, 0.4700584075108249, 0.2652980093576622, -0.03705847996009841, 1.0]]}],\n",
              "                        {\"annotations\": [{\"font\": {\"color\": \"#000000\"}, \"showarrow\": false, \"text\": \"1.0\", \"x\": \"Education\", \"xref\": \"x\", \"y\": \"Education\", \"yref\": \"y\"}, {\"font\": {\"color\": \"#FFFFFF\"}, \"showarrow\": false, \"text\": \"0.21\", \"x\": \"Age_Group\", \"xref\": \"x\", \"y\": \"Education\", \"yref\": \"y\"}, {\"font\": {\"color\": \"#FFFFFF\"}, \"showarrow\": false, \"text\": \"0.15\", \"x\": \"Income_Group\", \"xref\": \"x\", \"y\": \"Education\", \"yref\": \"y\"}, {\"font\": {\"color\": \"#FFFFFF\"}, \"showarrow\": false, \"text\": \"0.05\", \"x\": \"Dependents\", \"xref\": \"x\", \"y\": \"Education\", \"yref\": \"y\"}, {\"font\": {\"color\": \"#FFFFFF\"}, \"showarrow\": false, \"text\": \"0.03\", \"x\": \"NumDealsPurchases\", \"xref\": \"x\", \"y\": \"Education\", \"yref\": \"y\"}, {\"font\": {\"color\": \"#FFFFFF\"}, \"showarrow\": false, \"text\": \"0.09\", \"x\": \"NumWebPurchases\", \"xref\": \"x\", \"y\": \"Education\", \"yref\": \"y\"}, {\"font\": {\"color\": \"#FFFFFF\"}, \"showarrow\": false, \"text\": \"0.07\", \"x\": \"NumStorePurchases\", \"xref\": \"x\", \"y\": \"Education\", \"yref\": \"y\"}, {\"font\": {\"color\": \"#FFFFFF\"}, \"showarrow\": false, \"text\": \"-0.01\", \"x\": \"AcceptedCmp1\", \"xref\": \"x\", \"y\": \"Education\", \"yref\": \"y\"}, {\"font\": {\"color\": \"#FFFFFF\"}, \"showarrow\": false, \"text\": \"0.02\", \"x\": \"AcceptedCmp2\", \"xref\": \"x\", \"y\": \"Education\", \"yref\": \"y\"}, {\"font\": {\"color\": \"#FFFFFF\"}, \"showarrow\": false, \"text\": \"0.01\", \"x\": \"AcceptedCmp3\", \"xref\": \"x\", \"y\": \"Education\", \"yref\": \"y\"}, {\"font\": {\"color\": \"#FFFFFF\"}, \"showarrow\": false, \"text\": \"0.05\", \"x\": \"AcceptedCmp4\", \"xref\": \"x\", \"y\": \"Education\", \"yref\": \"y\"}, {\"font\": {\"color\": \"#FFFFFF\"}, \"showarrow\": false, \"text\": \"0.03\", \"x\": \"AcceptedCmp5\", \"xref\": \"x\", \"y\": \"Education\", \"yref\": \"y\"}, {\"font\": {\"color\": \"#FFFFFF\"}, \"showarrow\": false, \"text\": \"0.09\", \"x\": \"AcceptedCmp6\", \"xref\": \"x\", \"y\": \"Education\", \"yref\": \"y\"}, {\"font\": {\"color\": \"#FFFFFF\"}, \"showarrow\": false, \"text\": \"-0.05\", \"x\": \"Complain\", \"xref\": \"x\", \"y\": \"Education\", \"yref\": \"y\"}, {\"font\": {\"color\": \"#FFFFFF\"}, \"showarrow\": false, \"text\": \"0.09\", \"x\": \"Revenue\", \"xref\": \"x\", \"y\": \"Education\", \"yref\": \"y\"}, {\"font\": {\"color\": \"#FFFFFF\"}, \"showarrow\": false, \"text\": \"0.21\", \"x\": \"Education\", \"xref\": \"x\", \"y\": \"Age_Group\", \"yref\": \"y\"}, {\"font\": {\"color\": \"#000000\"}, \"showarrow\": false, \"text\": \"1.0\", \"x\": \"Age_Group\", \"xref\": \"x\", \"y\": \"Age_Group\", \"yref\": \"y\"}, {\"font\": {\"color\": \"#FFFFFF\"}, \"showarrow\": false, \"text\": \"0.16\", \"x\": \"Income_Group\", \"xref\": \"x\", \"y\": \"Age_Group\", \"yref\": \"y\"}, {\"font\": {\"color\": \"#FFFFFF\"}, \"showarrow\": false, \"text\": \"0.09\", \"x\": \"Dependents\", \"xref\": \"x\", \"y\": \"Age_Group\", \"yref\": \"y\"}, {\"font\": {\"color\": \"#FFFFFF\"}, \"showarrow\": false, \"text\": \"0.07\", \"x\": \"NumDealsPurchases\", \"xref\": \"x\", \"y\": \"Age_Group\", \"yref\": \"y\"}, {\"font\": {\"color\": \"#FFFFFF\"}, \"showarrow\": false, \"text\": \"0.14\", \"x\": \"NumWebPurchases\", \"xref\": \"x\", \"y\": \"Age_Group\", \"yref\": \"y\"}, {\"font\": {\"color\": \"#FFFFFF\"}, \"showarrow\": false, \"text\": \"0.11\", \"x\": \"NumStorePurchases\", \"xref\": \"x\", \"y\": \"Age_Group\", \"yref\": \"y\"}, {\"font\": {\"color\": \"#FFFFFF\"}, \"showarrow\": false, \"text\": \"0.01\", \"x\": \"AcceptedCmp1\", \"xref\": \"x\", \"y\": \"Age_Group\", \"yref\": \"y\"}, {\"font\": {\"color\": \"#FFFFFF\"}, \"showarrow\": false, \"text\": \"0.01\", \"x\": \"AcceptedCmp2\", \"xref\": \"x\", \"y\": \"Age_Group\", \"yref\": \"y\"}, {\"font\": {\"color\": \"#FFFFFF\"}, \"showarrow\": false, \"text\": \"-0.05\", \"x\": \"AcceptedCmp3\", \"xref\": \"x\", \"y\": \"Age_Group\", \"yref\": \"y\"}, {\"font\": {\"color\": \"#FFFFFF\"}, \"showarrow\": false, \"text\": \"0.07\", \"x\": \"AcceptedCmp4\", \"xref\": \"x\", \"y\": \"Age_Group\", \"yref\": \"y\"}, {\"font\": {\"color\": \"#FFFFFF\"}, \"showarrow\": false, \"text\": \"0.01\", \"x\": \"AcceptedCmp5\", \"xref\": \"x\", \"y\": \"Age_Group\", \"yref\": \"y\"}, {\"font\": {\"color\": \"#FFFFFF\"}, \"showarrow\": false, \"text\": \"0.01\", \"x\": \"AcceptedCmp6\", \"xref\": \"x\", \"y\": \"Age_Group\", \"yref\": \"y\"}, {\"font\": {\"color\": \"#FFFFFF\"}, \"showarrow\": false, \"text\": \"-0.01\", \"x\": \"Complain\", \"xref\": \"x\", \"y\": \"Age_Group\", \"yref\": \"y\"}, {\"font\": {\"color\": \"#FFFFFF\"}, \"showarrow\": false, \"text\": \"0.1\", \"x\": \"Revenue\", \"xref\": \"x\", \"y\": \"Age_Group\", \"yref\": \"y\"}, {\"font\": {\"color\": \"#FFFFFF\"}, \"showarrow\": false, \"text\": \"0.15\", \"x\": \"Education\", \"xref\": \"x\", \"y\": \"Income_Group\", \"yref\": \"y\"}, {\"font\": {\"color\": \"#FFFFFF\"}, \"showarrow\": false, \"text\": \"0.16\", \"x\": \"Age_Group\", \"xref\": \"x\", \"y\": \"Income_Group\", \"yref\": \"y\"}, {\"font\": {\"color\": \"#000000\"}, \"showarrow\": false, \"text\": \"1.0\", \"x\": \"Income_Group\", \"xref\": \"x\", \"y\": \"Income_Group\", \"yref\": \"y\"}, {\"font\": {\"color\": \"#FFFFFF\"}, \"showarrow\": false, \"text\": \"-0.31\", \"x\": \"Dependents\", \"xref\": \"x\", \"y\": \"Income_Group\", \"yref\": \"y\"}, {\"font\": {\"color\": \"#FFFFFF\"}, \"showarrow\": false, \"text\": \"-0.11\", \"x\": \"NumDealsPurchases\", \"xref\": \"x\", \"y\": \"Income_Group\", \"yref\": \"y\"}, {\"font\": {\"color\": \"#000000\"}, \"showarrow\": false, \"text\": \"0.65\", \"x\": \"NumWebPurchases\", \"xref\": \"x\", \"y\": \"Income_Group\", \"yref\": \"y\"}, {\"font\": {\"color\": \"#000000\"}, \"showarrow\": false, \"text\": \"0.61\", \"x\": \"NumStorePurchases\", \"xref\": \"x\", \"y\": \"Income_Group\", \"yref\": \"y\"}, {\"font\": {\"color\": \"#000000\"}, \"showarrow\": false, \"text\": \"0.3\", \"x\": \"AcceptedCmp1\", \"xref\": \"x\", \"y\": \"Income_Group\", \"yref\": \"y\"}, {\"font\": {\"color\": \"#FFFFFF\"}, \"showarrow\": false, \"text\": \"0.08\", \"x\": \"AcceptedCmp2\", \"xref\": \"x\", \"y\": \"Income_Group\", \"yref\": \"y\"}, {\"font\": {\"color\": \"#FFFFFF\"}, \"showarrow\": false, \"text\": \"-0.01\", \"x\": \"AcceptedCmp3\", \"xref\": \"x\", \"y\": \"Income_Group\", \"yref\": \"y\"}, {\"font\": {\"color\": \"#FFFFFF\"}, \"showarrow\": false, \"text\": \"0.2\", \"x\": \"AcceptedCmp4\", \"xref\": \"x\", \"y\": \"Income_Group\", \"yref\": \"y\"}, {\"font\": {\"color\": \"#000000\"}, \"showarrow\": false, \"text\": \"0.36\", \"x\": \"AcceptedCmp5\", \"xref\": \"x\", \"y\": \"Income_Group\", \"yref\": \"y\"}, {\"font\": {\"color\": \"#FFFFFF\"}, \"showarrow\": false, \"text\": \"0.15\", \"x\": \"AcceptedCmp6\", \"xref\": \"x\", \"y\": \"Income_Group\", \"yref\": \"y\"}, {\"font\": {\"color\": \"#FFFFFF\"}, \"showarrow\": false, \"text\": \"-0.02\", \"x\": \"Complain\", \"xref\": \"x\", \"y\": \"Income_Group\", \"yref\": \"y\"}, {\"font\": {\"color\": \"#000000\"}, \"showarrow\": false, \"text\": \"0.75\", \"x\": \"Revenue\", \"xref\": \"x\", \"y\": \"Income_Group\", \"yref\": \"y\"}, {\"font\": {\"color\": \"#FFFFFF\"}, \"showarrow\": false, \"text\": \"0.05\", \"x\": \"Education\", \"xref\": \"x\", \"y\": \"Dependents\", \"yref\": \"y\"}, {\"font\": {\"color\": \"#FFFFFF\"}, \"showarrow\": false, \"text\": \"0.09\", \"x\": \"Age_Group\", \"xref\": \"x\", \"y\": \"Dependents\", \"yref\": \"y\"}, {\"font\": {\"color\": \"#FFFFFF\"}, \"showarrow\": false, \"text\": \"-0.31\", \"x\": \"Income_Group\", \"xref\": \"x\", \"y\": \"Dependents\", \"yref\": \"y\"}, {\"font\": {\"color\": \"#000000\"}, \"showarrow\": false, \"text\": \"1.0\", \"x\": \"Dependents\", \"xref\": \"x\", \"y\": \"Dependents\", \"yref\": \"y\"}, {\"font\": {\"color\": \"#000000\"}, \"showarrow\": false, \"text\": \"0.44\", \"x\": \"NumDealsPurchases\", \"xref\": \"x\", \"y\": \"Dependents\", \"yref\": \"y\"}, {\"font\": {\"color\": \"#FFFFFF\"}, \"showarrow\": false, \"text\": \"-0.36\", \"x\": \"NumWebPurchases\", \"xref\": \"x\", \"y\": \"Dependents\", \"yref\": \"y\"}, {\"font\": {\"color\": \"#FFFFFF\"}, \"showarrow\": false, \"text\": \"-0.32\", \"x\": \"NumStorePurchases\", \"xref\": \"x\", \"y\": \"Dependents\", \"yref\": \"y\"}, {\"font\": {\"color\": \"#FFFFFF\"}, \"showarrow\": false, \"text\": \"-0.22\", \"x\": \"AcceptedCmp1\", \"xref\": \"x\", \"y\": \"Dependents\", \"yref\": \"y\"}, {\"font\": {\"color\": \"#FFFFFF\"}, \"showarrow\": false, \"text\": \"-0.07\", \"x\": \"AcceptedCmp2\", \"xref\": \"x\", \"y\": \"Dependents\", \"yref\": \"y\"}, {\"font\": {\"color\": \"#FFFFFF\"}, \"showarrow\": false, \"text\": \"-0.02\", \"x\": \"AcceptedCmp3\", \"xref\": \"x\", \"y\": \"Dependents\", \"yref\": \"y\"}, {\"font\": {\"color\": \"#FFFFFF\"}, \"showarrow\": false, \"text\": \"-0.09\", \"x\": \"AcceptedCmp4\", \"xref\": \"x\", \"y\": \"Dependents\", \"yref\": \"y\"}, {\"font\": {\"color\": \"#FFFFFF\"}, \"showarrow\": false, \"text\": \"-0.29\", \"x\": \"AcceptedCmp5\", \"xref\": \"x\", \"y\": \"Dependents\", \"yref\": \"y\"}, {\"font\": {\"color\": \"#FFFFFF\"}, \"showarrow\": false, \"text\": \"-0.17\", \"x\": \"AcceptedCmp6\", \"xref\": \"x\", \"y\": \"Dependents\", \"yref\": \"y\"}, {\"font\": {\"color\": \"#FFFFFF\"}, \"showarrow\": false, \"text\": \"0.03\", \"x\": \"Complain\", \"xref\": \"x\", \"y\": \"Dependents\", \"yref\": \"y\"}, {\"font\": {\"color\": \"#FFFFFF\"}, \"showarrow\": false, \"text\": \"-0.5\", \"x\": \"Revenue\", \"xref\": \"x\", \"y\": \"Dependents\", \"yref\": \"y\"}, {\"font\": {\"color\": \"#FFFFFF\"}, \"showarrow\": false, \"text\": \"0.03\", \"x\": \"Education\", \"xref\": \"x\", \"y\": \"NumDealsPurchases\", \"yref\": \"y\"}, {\"font\": {\"color\": \"#FFFFFF\"}, \"showarrow\": false, \"text\": \"0.07\", \"x\": \"Age_Group\", \"xref\": \"x\", \"y\": \"NumDealsPurchases\", \"yref\": \"y\"}, {\"font\": {\"color\": \"#FFFFFF\"}, \"showarrow\": false, \"text\": \"-0.11\", \"x\": \"Income_Group\", \"xref\": \"x\", \"y\": \"NumDealsPurchases\", \"yref\": \"y\"}, {\"font\": {\"color\": \"#000000\"}, \"showarrow\": false, \"text\": \"0.44\", \"x\": \"Dependents\", \"xref\": \"x\", \"y\": \"NumDealsPurchases\", \"yref\": \"y\"}, {\"font\": {\"color\": \"#000000\"}, \"showarrow\": false, \"text\": \"1.0\", \"x\": \"NumDealsPurchases\", \"xref\": \"x\", \"y\": \"NumDealsPurchases\", \"yref\": \"y\"}, {\"font\": {\"color\": \"#FFFFFF\"}, \"showarrow\": false, \"text\": \"0.13\", \"x\": \"NumWebPurchases\", \"xref\": \"x\", \"y\": \"NumDealsPurchases\", \"yref\": \"y\"}, {\"font\": {\"color\": \"#FFFFFF\"}, \"showarrow\": false, \"text\": \"0.07\", \"x\": \"NumStorePurchases\", \"xref\": \"x\", \"y\": \"NumDealsPurchases\", \"yref\": \"y\"}, {\"font\": {\"color\": \"#FFFFFF\"}, \"showarrow\": false, \"text\": \"-0.12\", \"x\": \"AcceptedCmp1\", \"xref\": \"x\", \"y\": \"NumDealsPurchases\", \"yref\": \"y\"}, {\"font\": {\"color\": \"#FFFFFF\"}, \"showarrow\": false, \"text\": \"-0.04\", \"x\": \"AcceptedCmp2\", \"xref\": \"x\", \"y\": \"NumDealsPurchases\", \"yref\": \"y\"}, {\"font\": {\"color\": \"#FFFFFF\"}, \"showarrow\": false, \"text\": \"-0.02\", \"x\": \"AcceptedCmp3\", \"xref\": \"x\", \"y\": \"NumDealsPurchases\", \"yref\": \"y\"}, {\"font\": {\"color\": \"#FFFFFF\"}, \"showarrow\": false, \"text\": \"0.02\", \"x\": \"AcceptedCmp4\", \"xref\": \"x\", \"y\": \"NumDealsPurchases\", \"yref\": \"y\"}, {\"font\": {\"color\": \"#FFFFFF\"}, \"showarrow\": false, \"text\": \"-0.18\", \"x\": \"AcceptedCmp5\", \"xref\": \"x\", \"y\": \"NumDealsPurchases\", \"yref\": \"y\"}, {\"font\": {\"color\": \"#FFFFFF\"}, \"showarrow\": false, \"text\": \"0.0\", \"x\": \"AcceptedCmp6\", \"xref\": \"x\", \"y\": \"NumDealsPurchases\", \"yref\": \"y\"}, {\"font\": {\"color\": \"#FFFFFF\"}, \"showarrow\": false, \"text\": \"0.0\", \"x\": \"Complain\", \"xref\": \"x\", \"y\": \"NumDealsPurchases\", \"yref\": \"y\"}, {\"font\": {\"color\": \"#FFFFFF\"}, \"showarrow\": false, \"text\": \"-0.07\", \"x\": \"Revenue\", \"xref\": \"x\", \"y\": \"NumDealsPurchases\", \"yref\": \"y\"}, {\"font\": {\"color\": \"#FFFFFF\"}, \"showarrow\": false, \"text\": \"0.09\", \"x\": \"Education\", \"xref\": \"x\", \"y\": \"NumWebPurchases\", \"yref\": \"y\"}, {\"font\": {\"color\": \"#FFFFFF\"}, \"showarrow\": false, \"text\": \"0.14\", \"x\": \"Age_Group\", \"xref\": \"x\", \"y\": \"NumWebPurchases\", \"yref\": \"y\"}, {\"font\": {\"color\": \"#000000\"}, \"showarrow\": false, \"text\": \"0.65\", \"x\": \"Income_Group\", \"xref\": \"x\", \"y\": \"NumWebPurchases\", \"yref\": \"y\"}, {\"font\": {\"color\": \"#FFFFFF\"}, \"showarrow\": false, \"text\": \"-0.36\", \"x\": \"Dependents\", \"xref\": \"x\", \"y\": \"NumWebPurchases\", \"yref\": \"y\"}, {\"font\": {\"color\": \"#FFFFFF\"}, \"showarrow\": false, \"text\": \"0.13\", \"x\": \"NumDealsPurchases\", \"xref\": \"x\", \"y\": \"NumWebPurchases\", \"yref\": \"y\"}, {\"font\": {\"color\": \"#000000\"}, \"showarrow\": false, \"text\": \"1.0\", \"x\": \"NumWebPurchases\", \"xref\": \"x\", \"y\": \"NumWebPurchases\", \"yref\": \"y\"}, {\"font\": {\"color\": \"#000000\"}, \"showarrow\": false, \"text\": \"0.62\", \"x\": \"NumStorePurchases\", \"xref\": \"x\", \"y\": \"NumWebPurchases\", \"yref\": \"y\"}, {\"font\": {\"color\": \"#000000\"}, \"showarrow\": false, \"text\": \"0.28\", \"x\": \"AcceptedCmp1\", \"xref\": \"x\", \"y\": \"NumWebPurchases\", \"yref\": \"y\"}, {\"font\": {\"color\": \"#FFFFFF\"}, \"showarrow\": false, \"text\": \"0.08\", \"x\": \"AcceptedCmp2\", \"xref\": \"x\", \"y\": \"NumWebPurchases\", \"yref\": \"y\"}, {\"font\": {\"color\": \"#FFFFFF\"}, \"showarrow\": false, \"text\": \"0.09\", \"x\": \"AcceptedCmp3\", \"xref\": \"x\", \"y\": \"NumWebPurchases\", \"yref\": \"y\"}, {\"font\": {\"color\": \"#FFFFFF\"}, \"showarrow\": false, \"text\": \"0.18\", \"x\": \"AcceptedCmp4\", \"xref\": \"x\", \"y\": \"NumWebPurchases\", \"yref\": \"y\"}, {\"font\": {\"color\": \"#000000\"}, \"showarrow\": false, \"text\": \"0.28\", \"x\": \"AcceptedCmp5\", \"xref\": \"x\", \"y\": \"NumWebPurchases\", \"yref\": \"y\"}, {\"font\": {\"color\": \"#FFFFFF\"}, \"showarrow\": false, \"text\": \"0.22\", \"x\": \"AcceptedCmp6\", \"xref\": \"x\", \"y\": \"NumWebPurchases\", \"yref\": \"y\"}, {\"font\": {\"color\": \"#FFFFFF\"}, \"showarrow\": false, \"text\": \"-0.02\", \"x\": \"Complain\", \"xref\": \"x\", \"y\": \"NumWebPurchases\", \"yref\": \"y\"}, {\"font\": {\"color\": \"#000000\"}, \"showarrow\": false, \"text\": \"0.79\", \"x\": \"Revenue\", \"xref\": \"x\", \"y\": \"NumWebPurchases\", \"yref\": \"y\"}, {\"font\": {\"color\": \"#FFFFFF\"}, \"showarrow\": false, \"text\": \"0.07\", \"x\": \"Education\", \"xref\": \"x\", \"y\": \"NumStorePurchases\", \"yref\": \"y\"}, {\"font\": {\"color\": \"#FFFFFF\"}, \"showarrow\": false, \"text\": \"0.11\", \"x\": \"Age_Group\", \"xref\": \"x\", \"y\": \"NumStorePurchases\", \"yref\": \"y\"}, {\"font\": {\"color\": \"#000000\"}, \"showarrow\": false, \"text\": \"0.61\", \"x\": \"Income_Group\", \"xref\": \"x\", \"y\": \"NumStorePurchases\", \"yref\": \"y\"}, {\"font\": {\"color\": \"#FFFFFF\"}, \"showarrow\": false, \"text\": \"-0.32\", \"x\": \"Dependents\", \"xref\": \"x\", \"y\": \"NumStorePurchases\", \"yref\": \"y\"}, {\"font\": {\"color\": \"#FFFFFF\"}, \"showarrow\": false, \"text\": \"0.07\", \"x\": \"NumDealsPurchases\", \"xref\": \"x\", \"y\": \"NumStorePurchases\", \"yref\": \"y\"}, {\"font\": {\"color\": \"#000000\"}, \"showarrow\": false, \"text\": \"0.62\", \"x\": \"NumWebPurchases\", \"xref\": \"x\", \"y\": \"NumStorePurchases\", \"yref\": \"y\"}, {\"font\": {\"color\": \"#000000\"}, \"showarrow\": false, \"text\": \"1.0\", \"x\": \"NumStorePurchases\", \"xref\": \"x\", \"y\": \"NumStorePurchases\", \"yref\": \"y\"}, {\"font\": {\"color\": \"#FFFFFF\"}, \"showarrow\": false, \"text\": \"0.18\", \"x\": \"AcceptedCmp1\", \"xref\": \"x\", \"y\": \"NumStorePurchases\", \"yref\": \"y\"}, {\"font\": {\"color\": \"#FFFFFF\"}, \"showarrow\": false, \"text\": \"0.09\", \"x\": \"AcceptedCmp2\", \"xref\": \"x\", \"y\": \"NumStorePurchases\", \"yref\": \"y\"}, {\"font\": {\"color\": \"#FFFFFF\"}, \"showarrow\": false, \"text\": \"-0.07\", \"x\": \"AcceptedCmp3\", \"xref\": \"x\", \"y\": \"NumStorePurchases\", \"yref\": \"y\"}, {\"font\": {\"color\": \"#FFFFFF\"}, \"showarrow\": false, \"text\": \"0.18\", \"x\": \"AcceptedCmp4\", \"xref\": \"x\", \"y\": \"NumStorePurchases\", \"yref\": \"y\"}, {\"font\": {\"color\": \"#FFFFFF\"}, \"showarrow\": false, \"text\": \"0.21\", \"x\": \"AcceptedCmp5\", \"xref\": \"x\", \"y\": \"NumStorePurchases\", \"yref\": \"y\"}, {\"font\": {\"color\": \"#FFFFFF\"}, \"showarrow\": false, \"text\": \"0.04\", \"x\": \"AcceptedCmp6\", \"xref\": \"x\", \"y\": \"NumStorePurchases\", \"yref\": \"y\"}, {\"font\": {\"color\": \"#FFFFFF\"}, \"showarrow\": false, \"text\": \"-0.02\", \"x\": \"Complain\", \"xref\": \"x\", \"y\": \"NumStorePurchases\", \"yref\": \"y\"}, {\"font\": {\"color\": \"#000000\"}, \"showarrow\": false, \"text\": \"0.68\", \"x\": \"Revenue\", \"xref\": \"x\", \"y\": \"NumStorePurchases\", \"yref\": \"y\"}, {\"font\": {\"color\": \"#FFFFFF\"}, \"showarrow\": false, \"text\": \"-0.01\", \"x\": \"Education\", \"xref\": \"x\", \"y\": \"AcceptedCmp1\", \"yref\": \"y\"}, {\"font\": {\"color\": \"#FFFFFF\"}, \"showarrow\": false, \"text\": \"0.01\", \"x\": \"Age_Group\", \"xref\": \"x\", \"y\": \"AcceptedCmp1\", \"yref\": \"y\"}, {\"font\": {\"color\": \"#000000\"}, \"showarrow\": false, \"text\": \"0.3\", \"x\": \"Income_Group\", \"xref\": \"x\", \"y\": \"AcceptedCmp1\", \"yref\": \"y\"}, {\"font\": {\"color\": \"#FFFFFF\"}, \"showarrow\": false, \"text\": \"-0.22\", \"x\": \"Dependents\", \"xref\": \"x\", \"y\": \"AcceptedCmp1\", \"yref\": \"y\"}, {\"font\": {\"color\": \"#FFFFFF\"}, \"showarrow\": false, \"text\": \"-0.12\", \"x\": \"NumDealsPurchases\", \"xref\": \"x\", \"y\": \"AcceptedCmp1\", \"yref\": \"y\"}, {\"font\": {\"color\": \"#000000\"}, \"showarrow\": false, \"text\": \"0.28\", \"x\": \"NumWebPurchases\", \"xref\": \"x\", \"y\": \"AcceptedCmp1\", \"yref\": \"y\"}, {\"font\": {\"color\": \"#FFFFFF\"}, \"showarrow\": false, \"text\": \"0.18\", \"x\": \"NumStorePurchases\", \"xref\": \"x\", \"y\": \"AcceptedCmp1\", \"yref\": \"y\"}, {\"font\": {\"color\": \"#000000\"}, \"showarrow\": false, \"text\": \"1.0\", \"x\": \"AcceptedCmp1\", \"xref\": \"x\", \"y\": \"AcceptedCmp1\", \"yref\": \"y\"}, {\"font\": {\"color\": \"#FFFFFF\"}, \"showarrow\": false, \"text\": \"0.18\", \"x\": \"AcceptedCmp2\", \"xref\": \"x\", \"y\": \"AcceptedCmp1\", \"yref\": \"y\"}, {\"font\": {\"color\": \"#FFFFFF\"}, \"showarrow\": false, \"text\": \"0.09\", \"x\": \"AcceptedCmp3\", \"xref\": \"x\", \"y\": \"AcceptedCmp1\", \"yref\": \"y\"}, {\"font\": {\"color\": \"#000000\"}, \"showarrow\": false, \"text\": \"0.25\", \"x\": \"AcceptedCmp4\", \"xref\": \"x\", \"y\": \"AcceptedCmp1\", \"yref\": \"y\"}, {\"font\": {\"color\": \"#000000\"}, \"showarrow\": false, \"text\": \"0.4\", \"x\": \"AcceptedCmp5\", \"xref\": \"x\", \"y\": \"AcceptedCmp1\", \"yref\": \"y\"}, {\"font\": {\"color\": \"#000000\"}, \"showarrow\": false, \"text\": \"0.29\", \"x\": \"AcceptedCmp6\", \"xref\": \"x\", \"y\": \"AcceptedCmp1\", \"yref\": \"y\"}, {\"font\": {\"color\": \"#FFFFFF\"}, \"showarrow\": false, \"text\": \"-0.03\", \"x\": \"Complain\", \"xref\": \"x\", \"y\": \"AcceptedCmp1\", \"yref\": \"y\"}, {\"font\": {\"color\": \"#000000\"}, \"showarrow\": false, \"text\": \"0.38\", \"x\": \"Revenue\", \"xref\": \"x\", \"y\": \"AcceptedCmp1\", \"yref\": \"y\"}, {\"font\": {\"color\": \"#FFFFFF\"}, \"showarrow\": false, \"text\": \"0.02\", \"x\": \"Education\", \"xref\": \"x\", \"y\": \"AcceptedCmp2\", \"yref\": \"y\"}, {\"font\": {\"color\": \"#FFFFFF\"}, \"showarrow\": false, \"text\": \"0.01\", \"x\": \"Age_Group\", \"xref\": \"x\", \"y\": \"AcceptedCmp2\", \"yref\": \"y\"}, {\"font\": {\"color\": \"#FFFFFF\"}, \"showarrow\": false, \"text\": \"0.08\", \"x\": \"Income_Group\", \"xref\": \"x\", \"y\": \"AcceptedCmp2\", \"yref\": \"y\"}, {\"font\": {\"color\": \"#FFFFFF\"}, \"showarrow\": false, \"text\": \"-0.07\", \"x\": \"Dependents\", \"xref\": \"x\", \"y\": \"AcceptedCmp2\", \"yref\": \"y\"}, {\"font\": {\"color\": \"#FFFFFF\"}, \"showarrow\": false, \"text\": \"-0.04\", \"x\": \"NumDealsPurchases\", \"xref\": \"x\", \"y\": \"AcceptedCmp2\", \"yref\": \"y\"}, {\"font\": {\"color\": \"#FFFFFF\"}, \"showarrow\": false, \"text\": \"0.08\", \"x\": \"NumWebPurchases\", \"xref\": \"x\", \"y\": \"AcceptedCmp2\", \"yref\": \"y\"}, {\"font\": {\"color\": \"#FFFFFF\"}, \"showarrow\": false, \"text\": \"0.09\", \"x\": \"NumStorePurchases\", \"xref\": \"x\", \"y\": \"AcceptedCmp2\", \"yref\": \"y\"}, {\"font\": {\"color\": \"#FFFFFF\"}, \"showarrow\": false, \"text\": \"0.18\", \"x\": \"AcceptedCmp1\", \"xref\": \"x\", \"y\": \"AcceptedCmp2\", \"yref\": \"y\"}, {\"font\": {\"color\": \"#000000\"}, \"showarrow\": false, \"text\": \"1.0\", \"x\": \"AcceptedCmp2\", \"xref\": \"x\", \"y\": \"AcceptedCmp2\", \"yref\": \"y\"}, {\"font\": {\"color\": \"#FFFFFF\"}, \"showarrow\": false, \"text\": \"0.07\", \"x\": \"AcceptedCmp3\", \"xref\": \"x\", \"y\": \"AcceptedCmp2\", \"yref\": \"y\"}, {\"font\": {\"color\": \"#000000\"}, \"showarrow\": false, \"text\": \"0.29\", \"x\": \"AcceptedCmp4\", \"xref\": \"x\", \"y\": \"AcceptedCmp2\", \"yref\": \"y\"}, {\"font\": {\"color\": \"#FFFFFF\"}, \"showarrow\": false, \"text\": \"0.22\", \"x\": \"AcceptedCmp5\", \"xref\": \"x\", \"y\": \"AcceptedCmp2\", \"yref\": \"y\"}, {\"font\": {\"color\": \"#FFFFFF\"}, \"showarrow\": false, \"text\": \"0.17\", \"x\": \"AcceptedCmp6\", \"xref\": \"x\", \"y\": \"AcceptedCmp2\", \"yref\": \"y\"}, {\"font\": {\"color\": \"#FFFFFF\"}, \"showarrow\": false, \"text\": \"-0.01\", \"x\": \"Complain\", \"xref\": \"x\", \"y\": \"AcceptedCmp2\", \"yref\": \"y\"}, {\"font\": {\"color\": \"#FFFFFF\"}, \"showarrow\": false, \"text\": \"0.14\", \"x\": \"Revenue\", \"xref\": \"x\", \"y\": \"AcceptedCmp2\", \"yref\": \"y\"}, {\"font\": {\"color\": \"#FFFFFF\"}, \"showarrow\": false, \"text\": \"0.01\", \"x\": \"Education\", \"xref\": \"x\", \"y\": \"AcceptedCmp3\", \"yref\": \"y\"}, {\"font\": {\"color\": \"#FFFFFF\"}, \"showarrow\": false, \"text\": \"-0.05\", \"x\": \"Age_Group\", \"xref\": \"x\", \"y\": \"AcceptedCmp3\", \"yref\": \"y\"}, {\"font\": {\"color\": \"#FFFFFF\"}, \"showarrow\": false, \"text\": \"-0.01\", \"x\": \"Income_Group\", \"xref\": \"x\", \"y\": \"AcceptedCmp3\", \"yref\": \"y\"}, {\"font\": {\"color\": \"#FFFFFF\"}, \"showarrow\": false, \"text\": \"-0.02\", \"x\": \"Dependents\", \"xref\": \"x\", \"y\": \"AcceptedCmp3\", \"yref\": \"y\"}, {\"font\": {\"color\": \"#FFFFFF\"}, \"showarrow\": false, \"text\": \"-0.02\", \"x\": \"NumDealsPurchases\", \"xref\": \"x\", \"y\": \"AcceptedCmp3\", \"yref\": \"y\"}, {\"font\": {\"color\": \"#FFFFFF\"}, \"showarrow\": false, \"text\": \"0.09\", \"x\": \"NumWebPurchases\", \"xref\": \"x\", \"y\": \"AcceptedCmp3\", \"yref\": \"y\"}, {\"font\": {\"color\": \"#FFFFFF\"}, \"showarrow\": false, \"text\": \"-0.07\", \"x\": \"NumStorePurchases\", \"xref\": \"x\", \"y\": \"AcceptedCmp3\", \"yref\": \"y\"}, {\"font\": {\"color\": \"#FFFFFF\"}, \"showarrow\": false, \"text\": \"0.09\", \"x\": \"AcceptedCmp1\", \"xref\": \"x\", \"y\": \"AcceptedCmp3\", \"yref\": \"y\"}, {\"font\": {\"color\": \"#FFFFFF\"}, \"showarrow\": false, \"text\": \"0.07\", \"x\": \"AcceptedCmp2\", \"xref\": \"x\", \"y\": \"AcceptedCmp3\", \"yref\": \"y\"}, {\"font\": {\"color\": \"#000000\"}, \"showarrow\": false, \"text\": \"1.0\", \"x\": \"AcceptedCmp3\", \"xref\": \"x\", \"y\": \"AcceptedCmp3\", \"yref\": \"y\"}, {\"font\": {\"color\": \"#FFFFFF\"}, \"showarrow\": false, \"text\": \"-0.08\", \"x\": \"AcceptedCmp4\", \"xref\": \"x\", \"y\": \"AcceptedCmp3\", \"yref\": \"y\"}, {\"font\": {\"color\": \"#FFFFFF\"}, \"showarrow\": false, \"text\": \"0.08\", \"x\": \"AcceptedCmp5\", \"xref\": \"x\", \"y\": \"AcceptedCmp3\", \"yref\": \"y\"}, {\"font\": {\"color\": \"#000000\"}, \"showarrow\": false, \"text\": \"0.25\", \"x\": \"AcceptedCmp6\", \"xref\": \"x\", \"y\": \"AcceptedCmp3\", \"yref\": \"y\"}, {\"font\": {\"color\": \"#FFFFFF\"}, \"showarrow\": false, \"text\": \"0.01\", \"x\": \"Complain\", \"xref\": \"x\", \"y\": \"AcceptedCmp3\", \"yref\": \"y\"}, {\"font\": {\"color\": \"#FFFFFF\"}, \"showarrow\": false, \"text\": \"0.05\", \"x\": \"Revenue\", \"xref\": \"x\", \"y\": \"AcceptedCmp3\", \"yref\": \"y\"}, {\"font\": {\"color\": \"#FFFFFF\"}, \"showarrow\": false, \"text\": \"0.05\", \"x\": \"Education\", \"xref\": \"x\", \"y\": \"AcceptedCmp4\", \"yref\": \"y\"}, {\"font\": {\"color\": \"#FFFFFF\"}, \"showarrow\": false, \"text\": \"0.07\", \"x\": \"Age_Group\", \"xref\": \"x\", \"y\": \"AcceptedCmp4\", \"yref\": \"y\"}, {\"font\": {\"color\": \"#FFFFFF\"}, \"showarrow\": false, \"text\": \"0.2\", \"x\": \"Income_Group\", \"xref\": \"x\", \"y\": \"AcceptedCmp4\", \"yref\": \"y\"}, {\"font\": {\"color\": \"#FFFFFF\"}, \"showarrow\": false, \"text\": \"-0.09\", \"x\": \"Dependents\", \"xref\": \"x\", \"y\": \"AcceptedCmp4\", \"yref\": \"y\"}, {\"font\": {\"color\": \"#FFFFFF\"}, \"showarrow\": false, \"text\": \"0.02\", \"x\": \"NumDealsPurchases\", \"xref\": \"x\", \"y\": \"AcceptedCmp4\", \"yref\": \"y\"}, {\"font\": {\"color\": \"#FFFFFF\"}, \"showarrow\": false, \"text\": \"0.18\", \"x\": \"NumWebPurchases\", \"xref\": \"x\", \"y\": \"AcceptedCmp4\", \"yref\": \"y\"}, {\"font\": {\"color\": \"#FFFFFF\"}, \"showarrow\": false, \"text\": \"0.18\", \"x\": \"NumStorePurchases\", \"xref\": \"x\", \"y\": \"AcceptedCmp4\", \"yref\": \"y\"}, {\"font\": {\"color\": \"#000000\"}, \"showarrow\": false, \"text\": \"0.25\", \"x\": \"AcceptedCmp1\", \"xref\": \"x\", \"y\": \"AcceptedCmp4\", \"yref\": \"y\"}, {\"font\": {\"color\": \"#000000\"}, \"showarrow\": false, \"text\": \"0.29\", \"x\": \"AcceptedCmp2\", \"xref\": \"x\", \"y\": \"AcceptedCmp4\", \"yref\": \"y\"}, {\"font\": {\"color\": \"#FFFFFF\"}, \"showarrow\": false, \"text\": \"-0.08\", \"x\": \"AcceptedCmp3\", \"xref\": \"x\", \"y\": \"AcceptedCmp4\", \"yref\": \"y\"}, {\"font\": {\"color\": \"#000000\"}, \"showarrow\": false, \"text\": \"1.0\", \"x\": \"AcceptedCmp4\", \"xref\": \"x\", \"y\": \"AcceptedCmp4\", \"yref\": \"y\"}, {\"font\": {\"color\": \"#000000\"}, \"showarrow\": false, \"text\": \"0.31\", \"x\": \"AcceptedCmp5\", \"xref\": \"x\", \"y\": \"AcceptedCmp4\", \"yref\": \"y\"}, {\"font\": {\"color\": \"#FFFFFF\"}, \"showarrow\": false, \"text\": \"0.18\", \"x\": \"AcceptedCmp6\", \"xref\": \"x\", \"y\": \"AcceptedCmp4\", \"yref\": \"y\"}, {\"font\": {\"color\": \"#FFFFFF\"}, \"showarrow\": false, \"text\": \"-0.03\", \"x\": \"Complain\", \"xref\": \"x\", \"y\": \"AcceptedCmp4\", \"yref\": \"y\"}, {\"font\": {\"color\": \"#000000\"}, \"showarrow\": false, \"text\": \"0.25\", \"x\": \"Revenue\", \"xref\": \"x\", \"y\": \"AcceptedCmp4\", \"yref\": \"y\"}, {\"font\": {\"color\": \"#FFFFFF\"}, \"showarrow\": false, \"text\": \"0.03\", \"x\": \"Education\", \"xref\": \"x\", \"y\": \"AcceptedCmp5\", \"yref\": \"y\"}, {\"font\": {\"color\": \"#FFFFFF\"}, \"showarrow\": false, \"text\": \"0.01\", \"x\": \"Age_Group\", \"xref\": \"x\", \"y\": \"AcceptedCmp5\", \"yref\": \"y\"}, {\"font\": {\"color\": \"#000000\"}, \"showarrow\": false, \"text\": \"0.36\", \"x\": \"Income_Group\", \"xref\": \"x\", \"y\": \"AcceptedCmp5\", \"yref\": \"y\"}, {\"font\": {\"color\": \"#FFFFFF\"}, \"showarrow\": false, \"text\": \"-0.29\", \"x\": \"Dependents\", \"xref\": \"x\", \"y\": \"AcceptedCmp5\", \"yref\": \"y\"}, {\"font\": {\"color\": \"#FFFFFF\"}, \"showarrow\": false, \"text\": \"-0.18\", \"x\": \"NumDealsPurchases\", \"xref\": \"x\", \"y\": \"AcceptedCmp5\", \"yref\": \"y\"}, {\"font\": {\"color\": \"#000000\"}, \"showarrow\": false, \"text\": \"0.28\", \"x\": \"NumWebPurchases\", \"xref\": \"x\", \"y\": \"AcceptedCmp5\", \"yref\": \"y\"}, {\"font\": {\"color\": \"#FFFFFF\"}, \"showarrow\": false, \"text\": \"0.21\", \"x\": \"NumStorePurchases\", \"xref\": \"x\", \"y\": \"AcceptedCmp5\", \"yref\": \"y\"}, {\"font\": {\"color\": \"#000000\"}, \"showarrow\": false, \"text\": \"0.4\", \"x\": \"AcceptedCmp1\", \"xref\": \"x\", \"y\": \"AcceptedCmp5\", \"yref\": \"y\"}, {\"font\": {\"color\": \"#FFFFFF\"}, \"showarrow\": false, \"text\": \"0.22\", \"x\": \"AcceptedCmp2\", \"xref\": \"x\", \"y\": \"AcceptedCmp5\", \"yref\": \"y\"}, {\"font\": {\"color\": \"#FFFFFF\"}, \"showarrow\": false, \"text\": \"0.08\", \"x\": \"AcceptedCmp3\", \"xref\": \"x\", \"y\": \"AcceptedCmp5\", \"yref\": \"y\"}, {\"font\": {\"color\": \"#000000\"}, \"showarrow\": false, \"text\": \"0.31\", \"x\": \"AcceptedCmp4\", \"xref\": \"x\", \"y\": \"AcceptedCmp5\", \"yref\": \"y\"}, {\"font\": {\"color\": \"#000000\"}, \"showarrow\": false, \"text\": \"1.0\", \"x\": \"AcceptedCmp5\", \"xref\": \"x\", \"y\": \"AcceptedCmp5\", \"yref\": \"y\"}, {\"font\": {\"color\": \"#000000\"}, \"showarrow\": false, \"text\": \"0.33\", \"x\": \"AcceptedCmp6\", \"xref\": \"x\", \"y\": \"AcceptedCmp5\", \"yref\": \"y\"}, {\"font\": {\"color\": \"#FFFFFF\"}, \"showarrow\": false, \"text\": \"-0.01\", \"x\": \"Complain\", \"xref\": \"x\", \"y\": \"AcceptedCmp5\", \"yref\": \"y\"}, {\"font\": {\"color\": \"#000000\"}, \"showarrow\": false, \"text\": \"0.47\", \"x\": \"Revenue\", \"xref\": \"x\", \"y\": \"AcceptedCmp5\", \"yref\": \"y\"}, {\"font\": {\"color\": \"#FFFFFF\"}, \"showarrow\": false, \"text\": \"0.09\", \"x\": \"Education\", \"xref\": \"x\", \"y\": \"AcceptedCmp6\", \"yref\": \"y\"}, {\"font\": {\"color\": \"#FFFFFF\"}, \"showarrow\": false, \"text\": \"0.01\", \"x\": \"Age_Group\", \"xref\": \"x\", \"y\": \"AcceptedCmp6\", \"yref\": \"y\"}, {\"font\": {\"color\": \"#FFFFFF\"}, \"showarrow\": false, \"text\": \"0.15\", \"x\": \"Income_Group\", \"xref\": \"x\", \"y\": \"AcceptedCmp6\", \"yref\": \"y\"}, {\"font\": {\"color\": \"#FFFFFF\"}, \"showarrow\": false, \"text\": \"-0.17\", \"x\": \"Dependents\", \"xref\": \"x\", \"y\": \"AcceptedCmp6\", \"yref\": \"y\"}, {\"font\": {\"color\": \"#FFFFFF\"}, \"showarrow\": false, \"text\": \"0.0\", \"x\": \"NumDealsPurchases\", \"xref\": \"x\", \"y\": \"AcceptedCmp6\", \"yref\": \"y\"}, {\"font\": {\"color\": \"#FFFFFF\"}, \"showarrow\": false, \"text\": \"0.22\", \"x\": \"NumWebPurchases\", \"xref\": \"x\", \"y\": \"AcceptedCmp6\", \"yref\": \"y\"}, {\"font\": {\"color\": \"#FFFFFF\"}, \"showarrow\": false, \"text\": \"0.04\", \"x\": \"NumStorePurchases\", \"xref\": \"x\", \"y\": \"AcceptedCmp6\", \"yref\": \"y\"}, {\"font\": {\"color\": \"#000000\"}, \"showarrow\": false, \"text\": \"0.29\", \"x\": \"AcceptedCmp1\", \"xref\": \"x\", \"y\": \"AcceptedCmp6\", \"yref\": \"y\"}, {\"font\": {\"color\": \"#FFFFFF\"}, \"showarrow\": false, \"text\": \"0.17\", \"x\": \"AcceptedCmp2\", \"xref\": \"x\", \"y\": \"AcceptedCmp6\", \"yref\": \"y\"}, {\"font\": {\"color\": \"#000000\"}, \"showarrow\": false, \"text\": \"0.25\", \"x\": \"AcceptedCmp3\", \"xref\": \"x\", \"y\": \"AcceptedCmp6\", \"yref\": \"y\"}, {\"font\": {\"color\": \"#FFFFFF\"}, \"showarrow\": false, \"text\": \"0.18\", \"x\": \"AcceptedCmp4\", \"xref\": \"x\", \"y\": \"AcceptedCmp6\", \"yref\": \"y\"}, {\"font\": {\"color\": \"#000000\"}, \"showarrow\": false, \"text\": \"0.33\", \"x\": \"AcceptedCmp5\", \"xref\": \"x\", \"y\": \"AcceptedCmp6\", \"yref\": \"y\"}, {\"font\": {\"color\": \"#000000\"}, \"showarrow\": false, \"text\": \"1.0\", \"x\": \"AcceptedCmp6\", \"xref\": \"x\", \"y\": \"AcceptedCmp6\", \"yref\": \"y\"}, {\"font\": {\"color\": \"#FFFFFF\"}, \"showarrow\": false, \"text\": \"-0.0\", \"x\": \"Complain\", \"xref\": \"x\", \"y\": \"AcceptedCmp6\", \"yref\": \"y\"}, {\"font\": {\"color\": \"#000000\"}, \"showarrow\": false, \"text\": \"0.27\", \"x\": \"Revenue\", \"xref\": \"x\", \"y\": \"AcceptedCmp6\", \"yref\": \"y\"}, {\"font\": {\"color\": \"#FFFFFF\"}, \"showarrow\": false, \"text\": \"-0.05\", \"x\": \"Education\", \"xref\": \"x\", \"y\": \"Complain\", \"yref\": \"y\"}, {\"font\": {\"color\": \"#FFFFFF\"}, \"showarrow\": false, \"text\": \"-0.01\", \"x\": \"Age_Group\", \"xref\": \"x\", \"y\": \"Complain\", \"yref\": \"y\"}, {\"font\": {\"color\": \"#FFFFFF\"}, \"showarrow\": false, \"text\": \"-0.02\", \"x\": \"Income_Group\", \"xref\": \"x\", \"y\": \"Complain\", \"yref\": \"y\"}, {\"font\": {\"color\": \"#FFFFFF\"}, \"showarrow\": false, \"text\": \"0.03\", \"x\": \"Dependents\", \"xref\": \"x\", \"y\": \"Complain\", \"yref\": \"y\"}, {\"font\": {\"color\": \"#FFFFFF\"}, \"showarrow\": false, \"text\": \"0.0\", \"x\": \"NumDealsPurchases\", \"xref\": \"x\", \"y\": \"Complain\", \"yref\": \"y\"}, {\"font\": {\"color\": \"#FFFFFF\"}, \"showarrow\": false, \"text\": \"-0.02\", \"x\": \"NumWebPurchases\", \"xref\": \"x\", \"y\": \"Complain\", \"yref\": \"y\"}, {\"font\": {\"color\": \"#FFFFFF\"}, \"showarrow\": false, \"text\": \"-0.02\", \"x\": \"NumStorePurchases\", \"xref\": \"x\", \"y\": \"Complain\", \"yref\": \"y\"}, {\"font\": {\"color\": \"#FFFFFF\"}, \"showarrow\": false, \"text\": \"-0.03\", \"x\": \"AcceptedCmp1\", \"xref\": \"x\", \"y\": \"Complain\", \"yref\": \"y\"}, {\"font\": {\"color\": \"#FFFFFF\"}, \"showarrow\": false, \"text\": \"-0.01\", \"x\": \"AcceptedCmp2\", \"xref\": \"x\", \"y\": \"Complain\", \"yref\": \"y\"}, {\"font\": {\"color\": \"#FFFFFF\"}, \"showarrow\": false, \"text\": \"0.01\", \"x\": \"AcceptedCmp3\", \"xref\": \"x\", \"y\": \"Complain\", \"yref\": \"y\"}, {\"font\": {\"color\": \"#FFFFFF\"}, \"showarrow\": false, \"text\": \"-0.03\", \"x\": \"AcceptedCmp4\", \"xref\": \"x\", \"y\": \"Complain\", \"yref\": \"y\"}, {\"font\": {\"color\": \"#FFFFFF\"}, \"showarrow\": false, \"text\": \"-0.01\", \"x\": \"AcceptedCmp5\", \"xref\": \"x\", \"y\": \"Complain\", \"yref\": \"y\"}, {\"font\": {\"color\": \"#FFFFFF\"}, \"showarrow\": false, \"text\": \"-0.0\", \"x\": \"AcceptedCmp6\", \"xref\": \"x\", \"y\": \"Complain\", \"yref\": \"y\"}, {\"font\": {\"color\": \"#000000\"}, \"showarrow\": false, \"text\": \"1.0\", \"x\": \"Complain\", \"xref\": \"x\", \"y\": \"Complain\", \"yref\": \"y\"}, {\"font\": {\"color\": \"#FFFFFF\"}, \"showarrow\": false, \"text\": \"-0.04\", \"x\": \"Revenue\", \"xref\": \"x\", \"y\": \"Complain\", \"yref\": \"y\"}, {\"font\": {\"color\": \"#FFFFFF\"}, \"showarrow\": false, \"text\": \"0.09\", \"x\": \"Education\", \"xref\": \"x\", \"y\": \"Revenue\", \"yref\": \"y\"}, {\"font\": {\"color\": \"#FFFFFF\"}, \"showarrow\": false, \"text\": \"0.1\", \"x\": \"Age_Group\", \"xref\": \"x\", \"y\": \"Revenue\", \"yref\": \"y\"}, {\"font\": {\"color\": \"#000000\"}, \"showarrow\": false, \"text\": \"0.75\", \"x\": \"Income_Group\", \"xref\": \"x\", \"y\": \"Revenue\", \"yref\": \"y\"}, {\"font\": {\"color\": \"#FFFFFF\"}, \"showarrow\": false, \"text\": \"-0.5\", \"x\": \"Dependents\", \"xref\": \"x\", \"y\": \"Revenue\", \"yref\": \"y\"}, {\"font\": {\"color\": \"#FFFFFF\"}, \"showarrow\": false, \"text\": \"-0.07\", \"x\": \"NumDealsPurchases\", \"xref\": \"x\", \"y\": \"Revenue\", \"yref\": \"y\"}, {\"font\": {\"color\": \"#000000\"}, \"showarrow\": false, \"text\": \"0.79\", \"x\": \"NumWebPurchases\", \"xref\": \"x\", \"y\": \"Revenue\", \"yref\": \"y\"}, {\"font\": {\"color\": \"#000000\"}, \"showarrow\": false, \"text\": \"0.68\", \"x\": \"NumStorePurchases\", \"xref\": \"x\", \"y\": \"Revenue\", \"yref\": \"y\"}, {\"font\": {\"color\": \"#000000\"}, \"showarrow\": false, \"text\": \"0.38\", \"x\": \"AcceptedCmp1\", \"xref\": \"x\", \"y\": \"Revenue\", \"yref\": \"y\"}, {\"font\": {\"color\": \"#FFFFFF\"}, \"showarrow\": false, \"text\": \"0.14\", \"x\": \"AcceptedCmp2\", \"xref\": \"x\", \"y\": \"Revenue\", \"yref\": \"y\"}, {\"font\": {\"color\": \"#FFFFFF\"}, \"showarrow\": false, \"text\": \"0.05\", \"x\": \"AcceptedCmp3\", \"xref\": \"x\", \"y\": \"Revenue\", \"yref\": \"y\"}, {\"font\": {\"color\": \"#000000\"}, \"showarrow\": false, \"text\": \"0.25\", \"x\": \"AcceptedCmp4\", \"xref\": \"x\", \"y\": \"Revenue\", \"yref\": \"y\"}, {\"font\": {\"color\": \"#000000\"}, \"showarrow\": false, \"text\": \"0.47\", \"x\": \"AcceptedCmp5\", \"xref\": \"x\", \"y\": \"Revenue\", \"yref\": \"y\"}, {\"font\": {\"color\": \"#000000\"}, \"showarrow\": false, \"text\": \"0.27\", \"x\": \"AcceptedCmp6\", \"xref\": \"x\", \"y\": \"Revenue\", \"yref\": \"y\"}, {\"font\": {\"color\": \"#FFFFFF\"}, \"showarrow\": false, \"text\": \"-0.04\", \"x\": \"Complain\", \"xref\": \"x\", \"y\": \"Revenue\", \"yref\": \"y\"}, {\"font\": {\"color\": \"#000000\"}, \"showarrow\": false, \"text\": \"1.0\", \"x\": \"Revenue\", \"xref\": \"x\", \"y\": \"Revenue\", \"yref\": \"y\"}], \"template\": {\"data\": {\"bar\": [{\"error_x\": {\"color\": \"#2a3f5f\"}, \"error_y\": {\"color\": \"#2a3f5f\"}, \"marker\": {\"line\": {\"color\": \"#E5ECF6\", \"width\": 0.5}}, \"type\": \"bar\"}], \"barpolar\": [{\"marker\": {\"line\": {\"color\": \"#E5ECF6\", \"width\": 0.5}}, \"type\": \"barpolar\"}], \"carpet\": [{\"aaxis\": {\"endlinecolor\": \"#2a3f5f\", \"gridcolor\": \"white\", \"linecolor\": \"white\", \"minorgridcolor\": \"white\", \"startlinecolor\": \"#2a3f5f\"}, \"baxis\": {\"endlinecolor\": \"#2a3f5f\", \"gridcolor\": \"white\", \"linecolor\": \"white\", \"minorgridcolor\": \"white\", \"startlinecolor\": \"#2a3f5f\"}, \"type\": \"carpet\"}], \"choropleth\": [{\"colorbar\": {\"outlinewidth\": 0, \"ticks\": \"\"}, \"type\": \"choropleth\"}], \"contour\": [{\"colorbar\": {\"outlinewidth\": 0, \"ticks\": \"\"}, \"colorscale\": [[0.0, \"#0d0887\"], [0.1111111111111111, \"#46039f\"], [0.2222222222222222, \"#7201a8\"], [0.3333333333333333, \"#9c179e\"], [0.4444444444444444, \"#bd3786\"], [0.5555555555555556, \"#d8576b\"], [0.6666666666666666, \"#ed7953\"], [0.7777777777777778, \"#fb9f3a\"], [0.8888888888888888, \"#fdca26\"], [1.0, \"#f0f921\"]], \"type\": \"contour\"}], \"contourcarpet\": [{\"colorbar\": {\"outlinewidth\": 0, \"ticks\": \"\"}, \"type\": \"contourcarpet\"}], \"heatmap\": [{\"colorbar\": {\"outlinewidth\": 0, \"ticks\": \"\"}, \"colorscale\": [[0.0, \"#0d0887\"], [0.1111111111111111, \"#46039f\"], [0.2222222222222222, \"#7201a8\"], [0.3333333333333333, \"#9c179e\"], [0.4444444444444444, \"#bd3786\"], [0.5555555555555556, \"#d8576b\"], [0.6666666666666666, \"#ed7953\"], [0.7777777777777778, \"#fb9f3a\"], [0.8888888888888888, \"#fdca26\"], [1.0, \"#f0f921\"]], \"type\": \"heatmap\"}], \"heatmapgl\": [{\"colorbar\": {\"outlinewidth\": 0, \"ticks\": \"\"}, \"colorscale\": [[0.0, \"#0d0887\"], [0.1111111111111111, \"#46039f\"], [0.2222222222222222, \"#7201a8\"], [0.3333333333333333, \"#9c179e\"], [0.4444444444444444, \"#bd3786\"], [0.5555555555555556, \"#d8576b\"], [0.6666666666666666, \"#ed7953\"], [0.7777777777777778, \"#fb9f3a\"], [0.8888888888888888, \"#fdca26\"], [1.0, \"#f0f921\"]], \"type\": \"heatmapgl\"}], \"histogram\": [{\"marker\": {\"colorbar\": {\"outlinewidth\": 0, \"ticks\": \"\"}}, \"type\": \"histogram\"}], \"histogram2d\": [{\"colorbar\": {\"outlinewidth\": 0, \"ticks\": \"\"}, \"colorscale\": [[0.0, \"#0d0887\"], [0.1111111111111111, \"#46039f\"], [0.2222222222222222, \"#7201a8\"], [0.3333333333333333, \"#9c179e\"], [0.4444444444444444, \"#bd3786\"], [0.5555555555555556, \"#d8576b\"], [0.6666666666666666, \"#ed7953\"], [0.7777777777777778, \"#fb9f3a\"], [0.8888888888888888, \"#fdca26\"], [1.0, \"#f0f921\"]], \"type\": \"histogram2d\"}], \"histogram2dcontour\": [{\"colorbar\": {\"outlinewidth\": 0, \"ticks\": \"\"}, \"colorscale\": [[0.0, \"#0d0887\"], [0.1111111111111111, \"#46039f\"], [0.2222222222222222, \"#7201a8\"], [0.3333333333333333, \"#9c179e\"], [0.4444444444444444, \"#bd3786\"], [0.5555555555555556, \"#d8576b\"], [0.6666666666666666, \"#ed7953\"], [0.7777777777777778, \"#fb9f3a\"], [0.8888888888888888, \"#fdca26\"], [1.0, \"#f0f921\"]], \"type\": \"histogram2dcontour\"}], \"mesh3d\": [{\"colorbar\": {\"outlinewidth\": 0, \"ticks\": \"\"}, \"type\": \"mesh3d\"}], \"parcoords\": [{\"line\": {\"colorbar\": {\"outlinewidth\": 0, \"ticks\": \"\"}}, \"type\": \"parcoords\"}], \"pie\": [{\"automargin\": true, \"type\": \"pie\"}], \"scatter\": [{\"marker\": {\"colorbar\": {\"outlinewidth\": 0, \"ticks\": \"\"}}, \"type\": \"scatter\"}], \"scatter3d\": [{\"line\": {\"colorbar\": {\"outlinewidth\": 0, \"ticks\": \"\"}}, \"marker\": {\"colorbar\": {\"outlinewidth\": 0, \"ticks\": \"\"}}, \"type\": \"scatter3d\"}], \"scattercarpet\": [{\"marker\": {\"colorbar\": {\"outlinewidth\": 0, \"ticks\": \"\"}}, \"type\": \"scattercarpet\"}], \"scattergeo\": [{\"marker\": {\"colorbar\": {\"outlinewidth\": 0, \"ticks\": \"\"}}, \"type\": \"scattergeo\"}], \"scattergl\": [{\"marker\": {\"colorbar\": {\"outlinewidth\": 0, \"ticks\": \"\"}}, \"type\": \"scattergl\"}], \"scattermapbox\": [{\"marker\": {\"colorbar\": {\"outlinewidth\": 0, \"ticks\": \"\"}}, \"type\": \"scattermapbox\"}], \"scatterpolar\": [{\"marker\": {\"colorbar\": {\"outlinewidth\": 0, \"ticks\": \"\"}}, \"type\": \"scatterpolar\"}], \"scatterpolargl\": [{\"marker\": {\"colorbar\": {\"outlinewidth\": 0, \"ticks\": \"\"}}, \"type\": \"scatterpolargl\"}], \"scatterternary\": [{\"marker\": {\"colorbar\": {\"outlinewidth\": 0, \"ticks\": \"\"}}, \"type\": \"scatterternary\"}], \"surface\": [{\"colorbar\": {\"outlinewidth\": 0, \"ticks\": \"\"}, \"colorscale\": [[0.0, \"#0d0887\"], [0.1111111111111111, \"#46039f\"], [0.2222222222222222, \"#7201a8\"], [0.3333333333333333, \"#9c179e\"], [0.4444444444444444, \"#bd3786\"], [0.5555555555555556, \"#d8576b\"], [0.6666666666666666, \"#ed7953\"], [0.7777777777777778, \"#fb9f3a\"], [0.8888888888888888, \"#fdca26\"], [1.0, \"#f0f921\"]], \"type\": \"surface\"}], \"table\": [{\"cells\": {\"fill\": {\"color\": \"#EBF0F8\"}, \"line\": {\"color\": \"white\"}}, \"header\": {\"fill\": {\"color\": \"#C8D4E3\"}, \"line\": {\"color\": \"white\"}}, \"type\": \"table\"}]}, \"layout\": {\"annotationdefaults\": {\"arrowcolor\": \"#2a3f5f\", \"arrowhead\": 0, \"arrowwidth\": 1}, \"coloraxis\": {\"colorbar\": {\"outlinewidth\": 0, \"ticks\": \"\"}}, \"colorscale\": {\"diverging\": [[0, \"#8e0152\"], [0.1, \"#c51b7d\"], [0.2, \"#de77ae\"], [0.3, \"#f1b6da\"], [0.4, \"#fde0ef\"], [0.5, \"#f7f7f7\"], [0.6, \"#e6f5d0\"], [0.7, \"#b8e186\"], [0.8, \"#7fbc41\"], [0.9, \"#4d9221\"], [1, \"#276419\"]], \"sequential\": [[0.0, \"#0d0887\"], [0.1111111111111111, \"#46039f\"], [0.2222222222222222, \"#7201a8\"], [0.3333333333333333, \"#9c179e\"], [0.4444444444444444, \"#bd3786\"], [0.5555555555555556, \"#d8576b\"], [0.6666666666666666, \"#ed7953\"], [0.7777777777777778, \"#fb9f3a\"], [0.8888888888888888, \"#fdca26\"], [1.0, \"#f0f921\"]], \"sequentialminus\": [[0.0, \"#0d0887\"], [0.1111111111111111, \"#46039f\"], [0.2222222222222222, \"#7201a8\"], [0.3333333333333333, \"#9c179e\"], [0.4444444444444444, \"#bd3786\"], [0.5555555555555556, \"#d8576b\"], [0.6666666666666666, \"#ed7953\"], [0.7777777777777778, \"#fb9f3a\"], [0.8888888888888888, \"#fdca26\"], [1.0, \"#f0f921\"]]}, \"colorway\": [\"#636efa\", \"#EF553B\", \"#00cc96\", \"#ab63fa\", \"#FFA15A\", \"#19d3f3\", \"#FF6692\", \"#B6E880\", \"#FF97FF\", \"#FECB52\"], \"font\": {\"color\": \"#2a3f5f\"}, \"geo\": {\"bgcolor\": \"white\", \"lakecolor\": \"white\", \"landcolor\": \"#E5ECF6\", \"showlakes\": true, \"showland\": true, \"subunitcolor\": \"white\"}, \"hoverlabel\": {\"align\": \"left\"}, \"hovermode\": \"closest\", \"mapbox\": {\"style\": \"light\"}, \"paper_bgcolor\": \"white\", \"plot_bgcolor\": \"#E5ECF6\", \"polar\": {\"angularaxis\": {\"gridcolor\": \"white\", \"linecolor\": \"white\", \"ticks\": \"\"}, \"bgcolor\": \"#E5ECF6\", \"radialaxis\": {\"gridcolor\": \"white\", \"linecolor\": \"white\", \"ticks\": \"\"}}, \"scene\": {\"xaxis\": {\"backgroundcolor\": \"#E5ECF6\", \"gridcolor\": \"white\", \"gridwidth\": 2, \"linecolor\": \"white\", \"showbackground\": true, \"ticks\": \"\", \"zerolinecolor\": \"white\"}, \"yaxis\": {\"backgroundcolor\": \"#E5ECF6\", \"gridcolor\": \"white\", \"gridwidth\": 2, \"linecolor\": \"white\", \"showbackground\": true, \"ticks\": \"\", \"zerolinecolor\": \"white\"}, \"zaxis\": {\"backgroundcolor\": \"#E5ECF6\", \"gridcolor\": \"white\", \"gridwidth\": 2, \"linecolor\": \"white\", \"showbackground\": true, \"ticks\": \"\", \"zerolinecolor\": \"white\"}}, \"shapedefaults\": {\"line\": {\"color\": \"#2a3f5f\"}}, \"ternary\": {\"aaxis\": {\"gridcolor\": \"white\", \"linecolor\": \"white\", \"ticks\": \"\"}, \"baxis\": {\"gridcolor\": \"white\", \"linecolor\": \"white\", \"ticks\": \"\"}, \"bgcolor\": \"#E5ECF6\", \"caxis\": {\"gridcolor\": \"white\", \"linecolor\": \"white\", \"ticks\": \"\"}}, \"title\": {\"x\": 0.05}, \"xaxis\": {\"automargin\": true, \"gridcolor\": \"white\", \"linecolor\": \"white\", \"ticks\": \"\", \"title\": {\"standoff\": 15}, \"zerolinecolor\": \"white\", \"zerolinewidth\": 2}, \"yaxis\": {\"automargin\": true, \"gridcolor\": \"white\", \"linecolor\": \"white\", \"ticks\": \"\", \"title\": {\"standoff\": 15}, \"zerolinecolor\": \"white\", \"zerolinewidth\": 2}}}, \"xaxis\": {\"dtick\": 1, \"gridcolor\": \"rgb(0, 0, 0)\", \"side\": \"top\", \"ticks\": \"\"}, \"yaxis\": {\"dtick\": 1, \"ticks\": \"\", \"ticksuffix\": \"  \"}},\n",
              "                        {\"responsive\": true}\n",
              "                    ).then(function(){\n",
              "                            \n",
              "var gd = document.getElementById('54394d3b-7474-47d3-a698-b628d6b3a2bf');\n",
              "var x = new MutationObserver(function (mutations, observer) {{\n",
              "        var display = window.getComputedStyle(gd).display;\n",
              "        if (!display || display === 'none') {{\n",
              "            console.log([gd, 'removed!']);\n",
              "            Plotly.purge(gd);\n",
              "            observer.disconnect();\n",
              "        }}\n",
              "}});\n",
              "\n",
              "// Listen for the removal of the full notebook cells\n",
              "var notebookContainer = gd.closest('#notebook-container');\n",
              "if (notebookContainer) {{\n",
              "    x.observe(notebookContainer, {childList: true});\n",
              "}}\n",
              "\n",
              "// Listen for the clearing of the current output cell\n",
              "var outputEl = gd.closest('.output');\n",
              "if (outputEl) {{\n",
              "    x.observe(outputEl, {childList: true});\n",
              "}}\n",
              "\n",
              "                        })\n",
              "                };\n",
              "                \n",
              "            </script>\n",
              "        </div>\n",
              "</body>\n",
              "</html>"
            ]
          },
          "metadata": {
            "tags": []
          }
        }
      ]
    },
    {
      "cell_type": "code",
      "metadata": {
        "colab": {
          "base_uri": "https://localhost:8080/"
        },
        "id": "fZdnb6zDbVU5",
        "outputId": "f82d890b-d56f-46a2-94e2-a2d9434dd224"
      },
      "source": [
        "# Dividing dataset into label and feature sets\n",
        "X = final_data.drop(['Revenue','Income_Group'], axis = 1) # Features\n",
        "Y = final_data['Revenue'] # Labels\n",
        "print(type(X))\n",
        "print(type(Y))\n",
        "print(X.shape)\n",
        "print(Y.shape)"
      ],
      "execution_count": 13,
      "outputs": [
        {
          "output_type": "stream",
          "text": [
            "<class 'pandas.core.frame.DataFrame'>\n",
            "<class 'pandas.core.series.Series'>\n",
            "(2240, 17)\n",
            "(2240,)\n"
          ],
          "name": "stdout"
        }
      ]
    },
    {
      "cell_type": "code",
      "metadata": {
        "id": "qMSBz1WabjbN"
      },
      "source": [
        "# Normalizing numerical features so that each feature has mean 0 and variance 1\n",
        "feature_scaler = StandardScaler()\n",
        "X_scaled = feature_scaler.fit_transform(X)"
      ],
      "execution_count": 14,
      "outputs": []
    },
    {
      "cell_type": "code",
      "metadata": {
        "colab": {
          "base_uri": "https://localhost:8080/"
        },
        "id": "uArY7WXPb2x_",
        "outputId": "93f4922f-15e6-45c7-f124-5335ff9335ed"
      },
      "source": [
        "#Implementing Linear Regression\n",
        "# Tuning the SGDRegressor parameters 'eta0' (learning rate) and 'max_iter' using Grid Search\n",
        "# sgdr = SGDRegressor(random_state = 1)\n",
        "# grid_param = {'eta0': [0.00001,.0001, .001], 'max_iter':[10000, 20000]}\n",
        "\n",
        "# gd_sr = GridSearchCV(estimator=sgdr, param_grid=grid_param, scoring='r2', cv=5)\n",
        "\n",
        "# gd_sr.fit(X_scaled, Y)\n",
        "\n",
        "# best_parameters = gd_sr.best_params_\n",
        "# print(best_parameters)\n",
        "\n",
        "# best_result = gd_sr.best_score_ # Mean cross-validated score of the best_estimator\n",
        "# print(best_result)\n",
        "\n",
        "#Building SGDRegressor using the tuned parameters\n",
        "# sgdr = SGDRegressor(eta0=.0001, max_iter=10000, penalty=None, random_state=1)\n",
        "# sgdr.fit(X_scaled,Y)\n",
        "# print('Intercept', sgdr.intercept_)\n",
        "# print(pd.DataFrame(zip(X.columns, sgdr.coef_), columns=['Features','Coefficients']).sort_values(by=['Coefficients'],ascending=False))"
      ],
      "execution_count": 17,
      "outputs": [
        {
          "output_type": "stream",
          "text": [
            "Intercept [605.79853167]\n",
            "                   Features  Coefficients\n",
            "4           NumWebPurchases    291.831135\n",
            "5         NumStorePurchases    164.838875\n",
            "10             AcceptedCmp5    107.256675\n",
            "6              AcceptedCmp1     41.714178\n",
            "11             AcceptedCmp6     22.280110\n",
            "9              AcceptedCmp4     16.178665\n",
            "0                 Education     14.998273\n",
            "1                 Age_Group      5.258141\n",
            "16  Marital_Status_Together      4.698726\n",
            "15    Marital_Status_Single      3.326094\n",
            "13  Marital_Status_Divorced     -0.081053\n",
            "8              AcceptedCmp3     -1.510914\n",
            "7              AcceptedCmp2     -3.544246\n",
            "12                 Complain     -6.996711\n",
            "14   Marital_Status_Married     -7.143543\n",
            "3         NumDealsPurchases    -27.418560\n",
            "2                Dependents    -86.840366\n"
          ],
          "name": "stdout"
        }
      ]
    },
    {
      "cell_type": "code",
      "metadata": {
        "colab": {
          "base_uri": "https://localhost:8080/"
        },
        "id": "hYZDmS6od1I5",
        "outputId": "bbc381e3-7fd6-44c5-f872-e8323b6f44de"
      },
      "source": [
        "# Implementing L2 Regularization (Ridge Regression)\n",
        "# Tuning Regularization parameter alpha\n",
        "# sgdr = SGDRegressor(eta0=.0001, max_iter=10000, penalty='l2', random_state=1)\n",
        "# grid_param = {'alpha': [0.00001,.0001, .001, .01, .1, 1]}\n",
        "\n",
        "# gd_sr = GridSearchCV(estimator=sgdr, param_grid=grid_param, scoring='r2', cv=5)\n",
        "\n",
        "# gd_sr.fit(X_scaled, Y)\n",
        "\n",
        "# best_parameters = gd_sr.best_params_\n",
        "# print(best_parameters)\n",
        "\n",
        "# best_result = gd_sr.best_score_ # Mean cross-validated score of the best_estimator\n",
        "# print(best_result)"
      ],
      "execution_count": 21,
      "outputs": [
        {
          "output_type": "stream",
          "text": [
            "{'alpha': 0.001}\n",
            "0.7633223737240253\n"
          ],
          "name": "stdout"
        }
      ]
    },
    {
      "cell_type": "code",
      "metadata": {
        "colab": {
          "base_uri": "https://localhost:8080/"
        },
        "id": "p1Jb55AKeX4_",
        "outputId": "f8ea17eb-12c2-4500-dd48-47d096616f50"
      },
      "source": [
        "# Building SGDRegressor using the tuned parameters\n",
        "# sgdr = SGDRegressor(eta0=.0001, max_iter=10000, penalty='l2', alpha=0.001, random_state=1)\n",
        "# sgdr.fit(X_scaled,Y)\n",
        "# print('Intercept', sgdr.intercept_)\n",
        "# print(pd.DataFrame(zip(X.columns, sgdr.coef_), columns=['Features','Coefficients']).sort_values(by=['Coefficients'],ascending=False))"
      ],
      "execution_count": 22,
      "outputs": [
        {
          "output_type": "stream",
          "text": [
            "Intercept [605.79452965]\n",
            "                   Features  Coefficients\n",
            "4           NumWebPurchases    290.505507\n",
            "5         NumStorePurchases    165.378180\n",
            "10             AcceptedCmp5    107.219802\n",
            "6              AcceptedCmp1     41.907566\n",
            "11             AcceptedCmp6     22.354226\n",
            "9              AcceptedCmp4     16.194989\n",
            "0                 Education     15.059859\n",
            "1                 Age_Group      5.420744\n",
            "16  Marital_Status_Together      4.725712\n",
            "15    Marital_Status_Single      3.301889\n",
            "13  Marital_Status_Divorced     -0.070874\n",
            "8              AcceptedCmp3     -1.329466\n",
            "7              AcceptedCmp2     -3.573823\n",
            "12                 Complain     -6.977055\n",
            "14   Marital_Status_Married     -7.152616\n",
            "3         NumDealsPurchases    -26.833526\n",
            "2                Dependents    -87.447272\n"
          ],
          "name": "stdout"
        }
      ]
    },
    {
      "cell_type": "code",
      "metadata": {
        "colab": {
          "base_uri": "https://localhost:8080/"
        },
        "id": "F2QXeuzVfVEz",
        "outputId": "aadbbe28-48ae-429f-950e-fa6dee0214f7"
      },
      "source": [
        "# Implementing L1 Regularization (Lasso Regression)\n",
        "# Tuning Regularization parameter alpha\n",
        "# sgdr = SGDRegressor(eta0=.0001, max_iter=10000, penalty='l1', random_state=1)\n",
        "# grid_param = {'alpha': [0.1,1,10,25,50,75]}\n",
        "\n",
        "# gd_sr = GridSearchCV(estimator=sgdr, param_grid=grid_param, scoring='r2', cv=5)\n",
        "\n",
        "# gd_sr.fit(X_scaled, Y)\n",
        "\n",
        "# best_parameters = gd_sr.best_params_\n",
        "# print(best_parameters)\n",
        "\n",
        "# best_result = gd_sr.best_score_ # Mean cross-validated score of the best_estimator\n",
        "# print(best_result)"
      ],
      "execution_count": 27,
      "outputs": [
        {
          "output_type": "stream",
          "text": [
            "{'alpha': 10}\n",
            "0.763863881423845\n"
          ],
          "name": "stdout"
        }
      ]
    },
    {
      "cell_type": "code",
      "metadata": {
        "colab": {
          "base_uri": "https://localhost:8080/"
        },
        "id": "YJEnv_nhguzo",
        "outputId": "02ecaaf7-5da7-4b9c-9c62-21a73d9fc68d"
      },
      "source": [
        "# Building SGDRegressor using the tuned parameters\n",
        "# sgdr = SGDRegressor(eta0=.0001, max_iter=10000, penalty='l1', alpha=10, random_state=1)\n",
        "# sgdr.fit(X_scaled,Y)\n",
        "# print('Intercept', sgdr.intercept_)\n",
        "# print(pd.DataFrame(zip(X.columns, sgdr.coef_), columns=['Features','Coefficients']).sort_values(by=['Coefficients'],ascending=False))"
      ],
      "execution_count": 28,
      "outputs": [
        {
          "output_type": "stream",
          "text": [
            "Intercept [603.18763717]\n",
            "                   Features  Coefficients\n",
            "4           NumWebPurchases    276.310984\n",
            "5         NumStorePurchases    166.510779\n",
            "10             AcceptedCmp5    105.043397\n",
            "6              AcceptedCmp1     40.438732\n",
            "11             AcceptedCmp6     17.748533\n",
            "9              AcceptedCmp4      9.940631\n",
            "0                 Education      8.536643\n",
            "15    Marital_Status_Single      0.000000\n",
            "13  Marital_Status_Divorced      0.000000\n",
            "12                 Complain      0.000000\n",
            "8              AcceptedCmp3      0.000000\n",
            "1                 Age_Group      0.000000\n",
            "7              AcceptedCmp2      0.000000\n",
            "16  Marital_Status_Together      0.000000\n",
            "14   Marital_Status_Married     -1.610946\n",
            "3         NumDealsPurchases    -11.088993\n",
            "2                Dependents    -92.782556\n"
          ],
          "name": "stdout"
        }
      ]
    },
    {
      "cell_type": "code",
      "metadata": {
        "colab": {
          "base_uri": "https://localhost:8080/"
        },
        "id": "FF5F6Z21hQH1",
        "outputId": "8f42cbab-56f0-4487-83e7-e1b9369242a9"
      },
      "source": [
        "# Implementing Elastic Net Regularization (Elastic Net Regression)\n",
        "# Tuning Regularization parameter alpha and l1_ratio\n",
        "# sgdr = SGDRegressor(eta0=.0001, max_iter=10000, penalty='elasticnet', random_state=1)\n",
        "# grid_param = {'alpha': [.0001, .001, .01, .1, 1,10,50,80,100],'l1_ratio':[0, 0.1, 0.3,0.5,0.7,0.9,1]}\n",
        "\n",
        "# gd_sr = GridSearchCV(estimator=sgdr, param_grid=grid_param, scoring='r2', cv=5)\n",
        "\n",
        "# gd_sr.fit(X_scaled, Y)\n",
        "\n",
        "# best_parameters = gd_sr.best_params_\n",
        "# print(best_parameters)\n",
        "\n",
        "# best_result = gd_sr.best_score_ # Mean cross-validated score of the best_estimator\n",
        "# print(best_result)\n"
      ],
      "execution_count": 29,
      "outputs": [
        {
          "output_type": "stream",
          "text": [
            "{'alpha': 10, 'l1_ratio': 1}\n",
            "0.763863881423845\n"
          ],
          "name": "stdout"
        }
      ]
    },
    {
      "cell_type": "code",
      "metadata": {
        "colab": {
          "base_uri": "https://localhost:8080/"
        },
        "id": "ra8PPIIGimko",
        "outputId": "87f56344-4ad6-4e30-cd1c-7f3660a316c4"
      },
      "source": [
        "## Building SGDRegressor using the tuned parameters\n",
        "# sgdr = SGDRegressor(eta0=.0001, max_iter=10000, penalty='elasticnet', alpha=10, l1_ratio=1, random_state=1)\n",
        "# sgdr.fit(X_scaled,Y)\n",
        "# print('Intercept', sgdr.intercept_)\n",
        "# print(pd.DataFrame(zip(X.columns, sgdr.coef_), columns=['Features','Coefficients']).sort_values(by=['Coefficients'],ascending=False))\n",
        "\n"
      ],
      "execution_count": 30,
      "outputs": [
        {
          "output_type": "stream",
          "text": [
            "Intercept [603.18763717]\n",
            "                   Features  Coefficients\n",
            "4           NumWebPurchases    276.310984\n",
            "5         NumStorePurchases    166.510779\n",
            "10             AcceptedCmp5    105.043397\n",
            "6              AcceptedCmp1     40.438732\n",
            "11             AcceptedCmp6     17.748533\n",
            "9              AcceptedCmp4      9.940631\n",
            "0                 Education      8.536643\n",
            "15    Marital_Status_Single      0.000000\n",
            "13  Marital_Status_Divorced      0.000000\n",
            "12                 Complain      0.000000\n",
            "8              AcceptedCmp3      0.000000\n",
            "1                 Age_Group      0.000000\n",
            "7              AcceptedCmp2      0.000000\n",
            "16  Marital_Status_Together      0.000000\n",
            "14   Marital_Status_Married     -1.610946\n",
            "3         NumDealsPurchases    -11.088993\n",
            "2                Dependents    -92.782556\n"
          ],
          "name": "stdout"
        }
      ]
    },
    {
      "cell_type": "code",
      "metadata": {
        "colab": {
          "base_uri": "https://localhost:8080/"
        },
        "id": "qoHAmBf5jQe3",
        "outputId": "d82d62f3-e3c9-4f84-ce4a-25e057005290"
      },
      "source": [
        "# Implementing Support Vector Regression\n",
        "# Tuning the SVR parameters 'kernel', 'C', 'epsilon' and implementing cross-validation using Grid Search\n",
        "# svr = SVR()\n",
        "# grid_param = {'kernel': ['linear', 'poly', 'rbf', 'sigmoid'], 'C': [100,1000,10000], 'epsilon': [10,100,1000,10000]}\n",
        "\n",
        "# gd_sr = GridSearchCV(estimator=svr, param_grid=grid_param, scoring='r2', cv=5)\n",
        "\n",
        "# gd_sr.fit(X_scaled, Y)\n",
        "\n",
        "# best_parameters = gd_sr.best_params_\n",
        "# print(\"Optimal parameters:\\n\", best_parameters)\n",
        "\n",
        "# best_result = gd_sr.best_score_ # Mean cross-validated score of the best_estimator\n",
        "# print(\"Best mean cross-validated score:\\n\", best_result)"
      ],
      "execution_count": 33,
      "outputs": [
        {
          "output_type": "stream",
          "text": [
            "Optimal parameters:\n",
            " {'C': 1000, 'epsilon': 100, 'kernel': 'rbf'}\n",
            "Best mean cross-validated score:\n",
            " 0.7900950196853797\n"
          ],
          "name": "stdout"
        }
      ]
    },
    {
      "cell_type": "code",
      "metadata": {
        "colab": {
          "base_uri": "https://localhost:8080/"
        },
        "id": "w4qX0pyFnlcA",
        "outputId": "9caa8016-c055-472e-bf2b-1110203cf745"
      },
      "source": [
        " # Implementing Random Forest Regression\n",
        "# # Tuning the random forest parameter 'n_estimators' and implementing cross-validation using Grid Search\n",
        "# rfr = RandomForestRegressor(criterion='mse', max_features='sqrt', random_state=1)\n",
        "# grid_param = {'n_estimators': [100,200,300,450,500]}\n",
        "\n",
        "# gd_sr = GridSearchCV(estimator=rfr, param_grid=grid_param, scoring='r2', cv=5)\n",
        "\n",
        "# gd_sr.fit(X_scaled, Y)\n",
        "\n",
        "# best_parameters = gd_sr.best_params_\n",
        "# print(\"Optimal parameters:\\n\", best_parameters)\n",
        "\n",
        "# best_result = gd_sr.best_score_ # Mean cross-validated score of the best_estimator\n",
        "# print(\"Best mean cross-validated score:\\n\", best_result)\n",
        "\n"
      ],
      "execution_count": 34,
      "outputs": [
        {
          "output_type": "stream",
          "text": [
            "Optimal parameters:\n",
            " {'n_estimators': 450}\n",
            "Best mean cross-validated score:\n",
            " 0.8151919271879431\n"
          ],
          "name": "stdout"
        }
      ]
    },
    {
      "cell_type": "code",
      "metadata": {
        "colab": {
          "base_uri": "https://localhost:8080/"
        },
        "id": "8Odi9khjn5c-",
        "outputId": "107566d5-d798-4baf-e440-6f22a49b6a4d"
      },
      "source": [
        "# Building random forest using the tuned parameter\n",
        "# rfr = RandomForestRegressor(n_estimators=450, criterion='mse', max_features='sqrt', random_state=1)\n",
        "# rfr.fit(X_scaled,Y)\n",
        "# featimp = pd.Series(rfr.feature_importances_, index=list(X)).sort_values(ascending=False)\n",
        "# print(featimp)"
      ],
      "execution_count": 35,
      "outputs": [
        {
          "output_type": "stream",
          "text": [
            "NumWebPurchases            0.391925\n",
            "NumStorePurchases          0.238325\n",
            "Dependents                 0.112061\n",
            "AcceptedCmp5               0.067392\n",
            "NumDealsPurchases          0.048406\n",
            "AcceptedCmp1               0.031047\n",
            "Education                  0.024601\n",
            "AcceptedCmp6               0.018035\n",
            "AcceptedCmp4               0.015687\n",
            "Age_Group                  0.015059\n",
            "Marital_Status_Married     0.007163\n",
            "Marital_Status_Together    0.007050\n",
            "AcceptedCmp3               0.006772\n",
            "Marital_Status_Single      0.006478\n",
            "Marital_Status_Divorced    0.005483\n",
            "AcceptedCmp2               0.004168\n",
            "Complain                   0.000348\n",
            "dtype: float64\n"
          ],
          "name": "stdout"
        }
      ]
    },
    {
      "cell_type": "code",
      "metadata": {
        "colab": {
          "base_uri": "https://localhost:8080/"
        },
        "id": "IIPd2YvLoooX",
        "outputId": "263e7275-5294-4e72-b910-cbdf3c534852"
      },
      "source": [
        "# X_ = final_data[['NumWebPurchases', 'NumStorePurchases', 'Dependents','AcceptedCmp5','NumDealsPurchases','AcceptedCmp1','Education','AcceptedCmp6','AcceptedCmp4','Age_Group']]\n",
        "\n",
        "# feature_scaler = StandardScaler()\n",
        "# X_scaled_ = feature_scaler.fit_transform(X_)\n",
        "\n",
        "# # Tuning the random forest parameter 'n_estimators' and implementing cross-validation using Grid Search\n",
        "# rfr = RandomForestRegressor(criterion='mse', max_features='sqrt', random_state=1)\n",
        "# grid_param = {'n_estimators': [450,500,550,600,650,700,750]}\n",
        "\n",
        "# gd_sr = GridSearchCV(estimator=rfr, param_grid=grid_param, scoring='r2', cv=5)\n",
        "\n",
        "# gd_sr.fit(X_scaled_, Y)\n",
        "\n",
        "# best_parameters = gd_sr.best_params_\n",
        "# print(\"Optimal parameters:\\n\", best_parameters)\n",
        "\n",
        "# best_result = gd_sr.best_score_ # Mean cross-validated score of the best_estimator\n",
        "# print(\"Best mean cross-validated score:\\n\", best_result)"
      ],
      "execution_count": 46,
      "outputs": [
        {
          "output_type": "stream",
          "text": [
            "Optimal parameters:\n",
            " {'n_estimators': 700}\n",
            "Best mean cross-validated score:\n",
            " 0.8119280708478798\n"
          ],
          "name": "stdout"
        }
      ]
    },
    {
      "cell_type": "code",
      "metadata": {
        "id": "amFrIt0StI2u"
      },
      "source": [
        "import statsmodels.api as sm\n",
        "import plotly.graph_objs as go"
      ],
      "execution_count": 47,
      "outputs": []
    },
    {
      "cell_type": "code",
      "metadata": {
        "colab": {
          "base_uri": "https://localhost:8080/"
        },
        "id": "43IkrbmHsaaX",
        "outputId": "c35c224c-f438-4674-ddd6-710ea252b059"
      },
      "source": [
        "# Implement linear regression model\n",
        "final_data.info()\n",
        "X_ = sm.add_constant(X_scaled)\n",
        "est = sm.OLS(Y, X_) # OLS stands for 'ordinary least squares'; this function implements linear regression\n",
        "model = est.fit()\n",
        "print(model.summary()) # this prints out a table containing variables' coefficients, p-values, etc."
      ],
      "execution_count": 49,
      "outputs": [
        {
          "output_type": "stream",
          "text": [
            "<class 'pandas.core.frame.DataFrame'>\n",
            "RangeIndex: 2240 entries, 0 to 2239\n",
            "Data columns (total 19 columns):\n",
            " #   Column                   Non-Null Count  Dtype\n",
            "---  ------                   --------------  -----\n",
            " 0   Education                2240 non-null   int64\n",
            " 1   Age_Group                2240 non-null   int64\n",
            " 2   Income_Group             2240 non-null   int64\n",
            " 3   Dependents               2240 non-null   int64\n",
            " 4   NumDealsPurchases        2240 non-null   int64\n",
            " 5   NumWebPurchases          2240 non-null   int64\n",
            " 6   NumStorePurchases        2240 non-null   int64\n",
            " 7   AcceptedCmp1             2240 non-null   int64\n",
            " 8   AcceptedCmp2             2240 non-null   int64\n",
            " 9   AcceptedCmp3             2240 non-null   int64\n",
            " 10  AcceptedCmp4             2240 non-null   int64\n",
            " 11  AcceptedCmp5             2240 non-null   int64\n",
            " 12  AcceptedCmp6             2240 non-null   int64\n",
            " 13  Complain                 2240 non-null   int64\n",
            " 14  Revenue                  2240 non-null   int64\n",
            " 15  Marital_Status_Divorced  2240 non-null   uint8\n",
            " 16  Marital_Status_Married   2240 non-null   uint8\n",
            " 17  Marital_Status_Single    2240 non-null   uint8\n",
            " 18  Marital_Status_Together  2240 non-null   uint8\n",
            "dtypes: int64(15), uint8(4)\n",
            "memory usage: 271.4 KB\n",
            "                            OLS Regression Results                            \n",
            "==============================================================================\n",
            "Dep. Variable:                Revenue   R-squared:                       0.771\n",
            "Model:                            OLS   Adj. R-squared:                  0.769\n",
            "Method:                 Least Squares   F-statistic:                     467.5\n",
            "Date:                Mon, 26 Apr 2021   Prob (F-statistic):               0.00\n",
            "Time:                        19:45:14   Log-Likelihood:                -15865.\n",
            "No. Observations:                2240   AIC:                         3.176e+04\n",
            "Df Residuals:                    2223   BIC:                         3.186e+04\n",
            "Df Model:                          16                                         \n",
            "Covariance Type:            nonrobust                                         \n",
            "==============================================================================\n",
            "                 coef    std err          t      P>|t|      [0.025      0.975]\n",
            "------------------------------------------------------------------------------\n",
            "const        605.7982      6.112     99.110      0.000     593.812     617.785\n",
            "x1            14.9370      6.333      2.359      0.018       2.518      27.356\n",
            "x2             5.1202      6.401      0.800      0.424      -7.433      17.674\n",
            "x3           -86.2569      8.006    -10.774      0.000    -101.957     -70.557\n",
            "x4           -27.9638      7.439     -3.759      0.000     -42.552     -13.376\n",
            "x5           292.8994      8.723     33.578      0.000     275.793     310.005\n",
            "x6           164.2624      8.103     20.271      0.000     148.371     180.153\n",
            "x7            41.5642      7.030      5.913      0.000      27.779      55.349\n",
            "x8            -3.4899      6.525     -0.535      0.593     -16.285       9.305\n",
            "x9            -1.6810      6.471     -0.260      0.795     -14.370      11.008\n",
            "x10           16.1992      6.815      2.377      0.018       2.836      29.563\n",
            "x11          107.2043      7.339     14.607      0.000      92.812     121.596\n",
            "x12           22.2451      7.083      3.141      0.002       8.355      36.135\n",
            "x13           -7.0131      6.128     -1.144      0.253     -19.031       5.005\n",
            "x14           -0.0940      5.343     -0.018      0.986     -10.572      10.384\n",
            "x15           -7.1271      4.108     -1.735      0.083     -15.182       0.928\n",
            "x16            3.3448      4.560      0.734      0.463      -5.597      12.287\n",
            "x17            4.6709      4.501      1.038      0.299      -4.155      13.497\n",
            "==============================================================================\n",
            "Omnibus:                      416.216   Durbin-Watson:                   1.875\n",
            "Prob(Omnibus):                  0.000   Jarque-Bera (JB):             1685.505\n",
            "Skew:                           0.855   Prob(JB):                         0.00\n",
            "Kurtosis:                       6.890   Cond. No.                     3.06e+15\n",
            "==============================================================================\n",
            "\n",
            "Warnings:\n",
            "[1] Standard Errors assume that the covariance matrix of the errors is correctly specified.\n",
            "[2] The smallest eigenvalue is 6.53e-28. This might indicate that there are\n",
            "strong multicollinearity problems or that the design matrix is singular.\n"
          ],
          "name": "stdout"
        }
      ]
    }
  ]
}