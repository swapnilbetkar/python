{
  "nbformat": 4,
  "nbformat_minor": 0,
  "metadata": {
    "colab": {
      "name": "DecisionTree_Lect2.ipynb",
      "provenance": [],
      "mount_file_id": "https://github.com/swapnilbetkar/python/blob/Dev_Self/DecisionTree_Lect2.ipynb",
      "authorship_tag": "ABX9TyNS7TFN7ylO641CjV4GkByG",
      "include_colab_link": true
    },
    "kernelspec": {
      "name": "python3",
      "display_name": "Python 3"
    }
  },
  "cells": [
    {
      "cell_type": "markdown",
      "metadata": {
        "id": "view-in-github",
        "colab_type": "text"
      },
      "source": [
        "<a href=\"https://colab.research.google.com/github/swapnilbetkar/python/blob/Dev_Self/DecisionTree_Lect2.ipynb\" target=\"_parent\"><img src=\"https://colab.research.google.com/assets/colab-badge.svg\" alt=\"Open In Colab\"/></a>"
      ]
    },
    {
      "cell_type": "code",
      "metadata": {
        "id": "YIdkQ4Kea4TJ"
      },
      "source": [
        "from google.colab import drive"
      ],
      "execution_count": 575,
      "outputs": []
    },
    {
      "cell_type": "code",
      "metadata": {
        "colab": {
          "base_uri": "https://localhost:8080/"
        },
        "id": "Df9bBj60Skz-",
        "outputId": "89d03597-a589-49d9-c480-fed4622961ed"
      },
      "source": [
        "drive.mount('/content/drive/', force_remount=True)"
      ],
      "execution_count": 576,
      "outputs": [
        {
          "output_type": "stream",
          "text": [
            "Mounted at /content/drive/\n"
          ],
          "name": "stdout"
        }
      ]
    },
    {
      "cell_type": "code",
      "metadata": {
        "id": "jcj7HNGqT8Ps"
      },
      "source": [
        "import pandas as pd"
      ],
      "execution_count": 577,
      "outputs": []
    },
    {
      "cell_type": "code",
      "metadata": {
        "colab": {
          "base_uri": "https://localhost:8080/",
          "height": 299
        },
        "id": "Azm1ab9jT0Xo",
        "outputId": "6804e558-cdd2-4bba-9c31-95ed6d4cc478"
      },
      "source": [
        "dataset = pd.read_csv(\"/content/drive/MyDrive/Datasets/ChurnPrediction.csv\")\r\n",
        "pd.set_option('display.max_columns',None)\r\n",
        "dataset.head()"
      ],
      "execution_count": 578,
      "outputs": [
        {
          "output_type": "execute_result",
          "data": {
            "text/html": [
              "<div>\n",
              "<style scoped>\n",
              "    .dataframe tbody tr th:only-of-type {\n",
              "        vertical-align: middle;\n",
              "    }\n",
              "\n",
              "    .dataframe tbody tr th {\n",
              "        vertical-align: top;\n",
              "    }\n",
              "\n",
              "    .dataframe thead th {\n",
              "        text-align: right;\n",
              "    }\n",
              "</style>\n",
              "<table border=\"1\" class=\"dataframe\">\n",
              "  <thead>\n",
              "    <tr style=\"text-align: right;\">\n",
              "      <th></th>\n",
              "      <th>Age</th>\n",
              "      <th>PastEmployee</th>\n",
              "      <th>BusinessTravel</th>\n",
              "      <th>Department</th>\n",
              "      <th>DistanceFromHome</th>\n",
              "      <th>Education</th>\n",
              "      <th>EducationField</th>\n",
              "      <th>EnvironmentSatisfaction</th>\n",
              "      <th>Gender</th>\n",
              "      <th>JobInvolvement</th>\n",
              "      <th>JobLevel</th>\n",
              "      <th>JobRole</th>\n",
              "      <th>JobSatisfaction</th>\n",
              "      <th>MaritalStatus</th>\n",
              "      <th>MonthlyIncome</th>\n",
              "      <th>NumCompaniesWorked</th>\n",
              "      <th>OverTime</th>\n",
              "      <th>PercentSalaryHike</th>\n",
              "      <th>PerformanceRating</th>\n",
              "      <th>StockOptionLevel</th>\n",
              "      <th>TotalWorkingYears</th>\n",
              "      <th>TrainingTimesLastYear</th>\n",
              "      <th>WorkLifeBalance</th>\n",
              "      <th>YearsAtCompany</th>\n",
              "      <th>YearsInCurrentRole</th>\n",
              "      <th>YearsSinceLastPromotion</th>\n",
              "      <th>YearsWithCurrManager</th>\n",
              "    </tr>\n",
              "  </thead>\n",
              "  <tbody>\n",
              "    <tr>\n",
              "      <th>0</th>\n",
              "      <td>46</td>\n",
              "      <td>No</td>\n",
              "      <td>Travel_Rarely</td>\n",
              "      <td>Human Resources</td>\n",
              "      <td>5</td>\n",
              "      <td>2</td>\n",
              "      <td>Medical</td>\n",
              "      <td>2</td>\n",
              "      <td>Male</td>\n",
              "      <td>3</td>\n",
              "      <td>2</td>\n",
              "      <td>Human Resources</td>\n",
              "      <td>2</td>\n",
              "      <td>Divorced</td>\n",
              "      <td>5021</td>\n",
              "      <td>8</td>\n",
              "      <td>Yes</td>\n",
              "      <td>22</td>\n",
              "      <td>4</td>\n",
              "      <td>1</td>\n",
              "      <td>16</td>\n",
              "      <td>2</td>\n",
              "      <td>3</td>\n",
              "      <td>4</td>\n",
              "      <td>2</td>\n",
              "      <td>0</td>\n",
              "      <td>2</td>\n",
              "    </tr>\n",
              "    <tr>\n",
              "      <th>1</th>\n",
              "      <td>37</td>\n",
              "      <td>Yes</td>\n",
              "      <td>Travel_Rarely</td>\n",
              "      <td>Human Resources</td>\n",
              "      <td>6</td>\n",
              "      <td>4</td>\n",
              "      <td>Human Resources</td>\n",
              "      <td>3</td>\n",
              "      <td>Male</td>\n",
              "      <td>3</td>\n",
              "      <td>1</td>\n",
              "      <td>Human Resources</td>\n",
              "      <td>1</td>\n",
              "      <td>Divorced</td>\n",
              "      <td>2073</td>\n",
              "      <td>4</td>\n",
              "      <td>Yes</td>\n",
              "      <td>22</td>\n",
              "      <td>4</td>\n",
              "      <td>0</td>\n",
              "      <td>7</td>\n",
              "      <td>3</td>\n",
              "      <td>3</td>\n",
              "      <td>3</td>\n",
              "      <td>2</td>\n",
              "      <td>0</td>\n",
              "      <td>2</td>\n",
              "    </tr>\n",
              "    <tr>\n",
              "      <th>2</th>\n",
              "      <td>59</td>\n",
              "      <td>No</td>\n",
              "      <td>Non-Travel</td>\n",
              "      <td>Human Resources</td>\n",
              "      <td>2</td>\n",
              "      <td>4</td>\n",
              "      <td>Human Resources</td>\n",
              "      <td>3</td>\n",
              "      <td>Female</td>\n",
              "      <td>2</td>\n",
              "      <td>5</td>\n",
              "      <td>Manager</td>\n",
              "      <td>4</td>\n",
              "      <td>Married</td>\n",
              "      <td>18844</td>\n",
              "      <td>9</td>\n",
              "      <td>No</td>\n",
              "      <td>21</td>\n",
              "      <td>4</td>\n",
              "      <td>1</td>\n",
              "      <td>30</td>\n",
              "      <td>3</td>\n",
              "      <td>3</td>\n",
              "      <td>3</td>\n",
              "      <td>2</td>\n",
              "      <td>2</td>\n",
              "      <td>2</td>\n",
              "    </tr>\n",
              "    <tr>\n",
              "      <th>3</th>\n",
              "      <td>54</td>\n",
              "      <td>No</td>\n",
              "      <td>Non-Travel</td>\n",
              "      <td>Human Resources</td>\n",
              "      <td>26</td>\n",
              "      <td>3</td>\n",
              "      <td>Human Resources</td>\n",
              "      <td>4</td>\n",
              "      <td>Female</td>\n",
              "      <td>4</td>\n",
              "      <td>4</td>\n",
              "      <td>Manager</td>\n",
              "      <td>4</td>\n",
              "      <td>Single</td>\n",
              "      <td>17328</td>\n",
              "      <td>2</td>\n",
              "      <td>Yes</td>\n",
              "      <td>12</td>\n",
              "      <td>3</td>\n",
              "      <td>0</td>\n",
              "      <td>23</td>\n",
              "      <td>3</td>\n",
              "      <td>3</td>\n",
              "      <td>5</td>\n",
              "      <td>3</td>\n",
              "      <td>4</td>\n",
              "      <td>4</td>\n",
              "    </tr>\n",
              "    <tr>\n",
              "      <th>4</th>\n",
              "      <td>26</td>\n",
              "      <td>No</td>\n",
              "      <td>Travel_Rarely</td>\n",
              "      <td>Human Resources</td>\n",
              "      <td>25</td>\n",
              "      <td>1</td>\n",
              "      <td>Life Sciences</td>\n",
              "      <td>3</td>\n",
              "      <td>Female</td>\n",
              "      <td>3</td>\n",
              "      <td>1</td>\n",
              "      <td>Human Resources</td>\n",
              "      <td>3</td>\n",
              "      <td>Married</td>\n",
              "      <td>2942</td>\n",
              "      <td>1</td>\n",
              "      <td>No</td>\n",
              "      <td>23</td>\n",
              "      <td>4</td>\n",
              "      <td>1</td>\n",
              "      <td>8</td>\n",
              "      <td>3</td>\n",
              "      <td>3</td>\n",
              "      <td>8</td>\n",
              "      <td>7</td>\n",
              "      <td>5</td>\n",
              "      <td>7</td>\n",
              "    </tr>\n",
              "  </tbody>\n",
              "</table>\n",
              "</div>"
            ],
            "text/plain": [
              "   Age PastEmployee BusinessTravel       Department  DistanceFromHome  \\\n",
              "0   46           No  Travel_Rarely  Human Resources                 5   \n",
              "1   37          Yes  Travel_Rarely  Human Resources                 6   \n",
              "2   59           No     Non-Travel  Human Resources                 2   \n",
              "3   54           No     Non-Travel  Human Resources                26   \n",
              "4   26           No  Travel_Rarely  Human Resources                25   \n",
              "\n",
              "   Education   EducationField  EnvironmentSatisfaction  Gender  \\\n",
              "0          2          Medical                        2    Male   \n",
              "1          4  Human Resources                        3    Male   \n",
              "2          4  Human Resources                        3  Female   \n",
              "3          3  Human Resources                        4  Female   \n",
              "4          1    Life Sciences                        3  Female   \n",
              "\n",
              "   JobInvolvement  JobLevel          JobRole  JobSatisfaction MaritalStatus  \\\n",
              "0               3         2  Human Resources                2      Divorced   \n",
              "1               3         1  Human Resources                1      Divorced   \n",
              "2               2         5          Manager                4       Married   \n",
              "3               4         4          Manager                4        Single   \n",
              "4               3         1  Human Resources                3       Married   \n",
              "\n",
              "   MonthlyIncome  NumCompaniesWorked OverTime  PercentSalaryHike  \\\n",
              "0           5021                   8      Yes                 22   \n",
              "1           2073                   4      Yes                 22   \n",
              "2          18844                   9       No                 21   \n",
              "3          17328                   2      Yes                 12   \n",
              "4           2942                   1       No                 23   \n",
              "\n",
              "   PerformanceRating  StockOptionLevel  TotalWorkingYears  \\\n",
              "0                  4                 1                 16   \n",
              "1                  4                 0                  7   \n",
              "2                  4                 1                 30   \n",
              "3                  3                 0                 23   \n",
              "4                  4                 1                  8   \n",
              "\n",
              "   TrainingTimesLastYear  WorkLifeBalance  YearsAtCompany  YearsInCurrentRole  \\\n",
              "0                      2                3               4                   2   \n",
              "1                      3                3               3                   2   \n",
              "2                      3                3               3                   2   \n",
              "3                      3                3               5                   3   \n",
              "4                      3                3               8                   7   \n",
              "\n",
              "   YearsSinceLastPromotion  YearsWithCurrManager  \n",
              "0                        0                     2  \n",
              "1                        0                     2  \n",
              "2                        2                     2  \n",
              "3                        4                     4  \n",
              "4                        5                     7  "
            ]
          },
          "metadata": {
            "tags": []
          },
          "execution_count": 578
        }
      ]
    },
    {
      "cell_type": "code",
      "metadata": {
        "id": "Oi0BJeepUMDL"
      },
      "source": [
        "# Function to map columns to binary values\r\n",
        "def binaryMapping(value):\r\n",
        "  if value == 'Yes' or value == 'Female':\r\n",
        "    return 1\r\n",
        "  else:\r\n",
        "    return 0\r\n"
      ],
      "execution_count": 579,
      "outputs": []
    },
    {
      "cell_type": "code",
      "metadata": {
        "id": "dbhUczOcWyI1"
      },
      "source": [
        "dataset['PastEmployee'] = dataset['PastEmployee'].apply(binaryMapping)\r\n",
        "dataset['Gender'] = dataset['Gender'].apply(binaryMapping)\r\n",
        "dataset['OverTime'] = dataset['OverTime'].map({'Yes':1,'No':0})\r\n",
        "# dataset.head()"
      ],
      "execution_count": 580,
      "outputs": []
    },
    {
      "cell_type": "code",
      "metadata": {
        "id": "DcH5Yrr8bvrf"
      },
      "source": [
        "# Divide dataset into label and feature set\r\n",
        "\r\n",
        "categoricalColumns = ['BusinessTravel','Department','EducationField','JobRole','MaritalStatus']\r\n",
        "finalDF = pd.get_dummies(dataset, columns=categoricalColumns)\r\n",
        "# finalDF.head()"
      ],
      "execution_count": 581,
      "outputs": []
    },
    {
      "cell_type": "code",
      "metadata": {
        "colab": {
          "base_uri": "https://localhost:8080/"
        },
        "id": "8adxnvm7cbs4",
        "outputId": "5e678143-9bde-422c-bb92-503524a0e9df"
      },
      "source": [
        "Y = finalDF['PastEmployee'] #Labels\r\n",
        "X = finalDF.drop('PastEmployee',axis=1) #features\r\n",
        "print(X.shape)\r\n",
        "print(Y.shape)"
      ],
      "execution_count": 582,
      "outputs": [
        {
          "output_type": "stream",
          "text": [
            "(1470, 45)\n",
            "(1470,)\n"
          ],
          "name": "stdout"
        }
      ]
    },
    {
      "cell_type": "code",
      "metadata": {
        "id": "R1DxxZvdXfmb"
      },
      "source": [
        "#Normalizing features\r\n",
        "from sklearn.preprocessing import StandardScaler\r\n",
        "featureScalar = StandardScaler()\r\n",
        "X_scaled = featureScalar.fit_transform(X)\r\n",
        "# X_scaled"
      ],
      "execution_count": 583,
      "outputs": []
    },
    {
      "cell_type": "code",
      "metadata": {
        "id": "R6vzrnS0q3nH"
      },
      "source": [
        "from sklearn.model_selection import train_test_split\r\n",
        "X_train,X_test,Y_train,Y_test = train_test_split(X_scaled,Y,test_size = 0.35, random_state = 1)\r\n",
        "# X_train.shape\r\n",
        "# Y_train.shape\r\n",
        "# X_test.shape"
      ],
      "execution_count": 584,
      "outputs": []
    },
    {
      "cell_type": "code",
      "metadata": {
        "colab": {
          "base_uri": "https://localhost:8080/"
        },
        "id": "is__QoUQv_AZ",
        "outputId": "f0c8cd1d-fd3a-4fe0-8ad7-022c1d3b9ea2"
      },
      "source": [
        "#Check if dataset is skewed/imbalanced -- If yes then implement oversampling to balance dataset (SMOTE - Synthetic Minority Oversampling technique is one way of achiveing this)\r\n",
        "pd.Series(Y_train).value_counts() # Run this test on label, since a single column will give better insights\r\n",
        "# plt.scatter(X_train[:, 0], X_train[:, 1], marker='o', c=Y_train, s=25, edgecolor='k')\r\n",
        "# Since dataset is skewed, apply SMOTE\r\n",
        "from imblearn.over_sampling import SMOTE\r\n",
        "\r\n",
        "\r\n",
        "# smote = SMOTE(random_state=2)\r\n",
        "# X_train, Y_train = smote.fit_sample(X_train,Y_train)\r\n",
        "# import matplotlib.pyplot as plt\r\n",
        "# pd.Series(Y_train).value_counts()\r\n",
        "# plt.scatter(X_train[:, 0], X_train[:, 1], marker='o', c=Y_train, s=25, edgecolor='k')\r\n",
        "\r\n",
        "from imblearn.over_sampling import ADASYN\r\n",
        "adasyn = ADASYN(random_state=2)\r\n",
        "X_train, Y_train = adasyn.fit_sample(X_train,Y_train)\r\n",
        "import matplotlib.pyplot as plt\r\n",
        "pd.Series(Y_train).value_counts()\r\n",
        "# plt.scatter(X_train[:, 0], X_train[:, 1], marker='o', c=Y_train, s=25, edgecolor='k')\r\n"
      ],
      "execution_count": 585,
      "outputs": [
        {
          "output_type": "stream",
          "text": [
            "/usr/local/lib/python3.6/dist-packages/sklearn/utils/deprecation.py:87: FutureWarning: Function safe_indexing is deprecated; safe_indexing is deprecated in version 0.22 and will be removed in version 0.24.\n",
            "  warnings.warn(msg, category=FutureWarning)\n"
          ],
          "name": "stderr"
        },
        {
          "output_type": "execute_result",
          "data": {
            "text/plain": [
              "0    799\n",
              "1    763\n",
              "dtype: int64"
            ]
          },
          "metadata": {
            "tags": []
          },
          "execution_count": 585
        }
      ]
    },
    {
      "cell_type": "code",
      "metadata": {
        "id": "O2GPgtvT7xo7",
        "outputId": "38d1d5bb-1aa3-4f08-ddd1-e47c186dd3c6",
        "colab": {
          "base_uri": "https://localhost:8080/"
        }
      },
      "source": [
        "# Build Classification Tree Model\r\n",
        "from sklearn import tree\r\n",
        "\r\n",
        "#Finding the best possible tree size and implementing cross validation using Grid search\r\n",
        "from sklearn.model_selection import GridSearchCV\r\n",
        "classifier = tree.DecisionTreeClassifier(criterion=\"entropy\")\r\n",
        "grid_parameters = {\"max_depth\":[2,3,4,5,10,15,20,25,30,35]}\r\n",
        "gd_sr = GridSearchCV(estimator=classifier,param_grid=grid_parameters,scoring=\"recall\",cv=5)\r\n",
        "gd_sr.fit(X_train,Y_train)\r\n",
        "best_param = gd_sr.best_params_\r\n",
        "print(best_param)\r\n",
        "best_result = gd_sr.best_score_\r\n",
        "print(best_result)\r\n",
        "\r\n",
        "dtree = tree.DecisionTreeClassifier(criterion=\"entropy\", max_depth=30)\r\n",
        "dtree.fit(X_train,Y_train)\r\n",
        "# featimp\r\n",
        "featimp = pd.Series(dtree.feature_importances_, index=list(X)).sort_values(ascending=False)\r\n",
        "\r\n",
        "\r\n"
      ],
      "execution_count": 586,
      "outputs": [
        {
          "output_type": "stream",
          "text": [
            "{'max_depth': 20}\n",
            "0.8468954248366014\n"
          ],
          "name": "stdout"
        }
      ]
    },
    {
      "cell_type": "code",
      "metadata": {
        "id": "t9VKQfxUI_Sw",
        "outputId": "604d07ec-1edc-4d5c-d5c7-3496a241aa55",
        "colab": {
          "base_uri": "https://localhost:8080/"
        }
      },
      "source": [
        "#Evaluate Model\r\n",
        "from sklearn import metrics\r\n",
        "Y_pred = dtree.predict(X_test)\r\n",
        "metrics.accuracy_score(Y_test, Y_pred)\r\n",
        "conf_matrix = metrics.confusion_matrix(Y_test,Y_pred)\r\n",
        "conf_matrix"
      ],
      "execution_count": 587,
      "outputs": [
        {
          "output_type": "execute_result",
          "data": {
            "text/plain": [
              "array([[368,  66],\n",
              "       [ 43,  38]])"
            ]
          },
          "metadata": {
            "tags": []
          },
          "execution_count": 587
        }
      ]
    },
    {
      "cell_type": "code",
      "metadata": {
        "id": "KOB7mAlLLyBX",
        "outputId": "416fc26c-07a8-4377-a572-86e67b32a449",
        "colab": {
          "base_uri": "https://localhost:8080/",
          "height": 404
        }
      },
      "source": [
        "import seaborn as sns\r\n",
        "plt.figure(figsize=(8,6))\r\n",
        "sns.heatmap(conf_matrix,annot=True)\r\n",
        "plt.title(\"Confusion Matrix\")\r\n",
        "plt.xlabel(\"Prediction\")\r\n",
        "plt.ylabel(\"Actual\")\r\n",
        "plt.show()"
      ],
      "execution_count": 588,
      "outputs": [
        {
          "output_type": "display_data",
          "data": {
            "image/png": "[encoded data removed]",
            "text/plain": [
              "<Figure size 576x432 with 2 Axes>"
            ]
          },
          "metadata": {
            "tags": [],
            "needs_background": "light"
          }
        }
      ]
    }
  ]
}