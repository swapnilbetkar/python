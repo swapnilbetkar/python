{
  "nbformat": 4,
  "nbformat_minor": 0,
  "metadata": {
    "colab": {
      "name": "Random_Forest.ipynb",
      "provenance": [],
      "collapsed_sections": [],
      "authorship_tag": "ABX9TyMJgYb5FsWEwNXxEzZTiWtI",
      "include_colab_link": true
    },
    "kernelspec": {
      "name": "python3",
      "display_name": "Python 3"
    }
  },
  "cells": [
    {
      "cell_type": "markdown",
      "metadata": {
        "id": "view-in-github",
        "colab_type": "text"
      },
      "source": [
        "<a href=\"https://colab.research.google.com/github/swapnilbetkar/python/blob/Dev_Self/Random_Forest.ipynb\" target=\"_parent\"><img src=\"https://colab.research.google.com/assets/colab-badge.svg\" alt=\"Open In Colab\"/></a>"
      ]
    },
    {
      "cell_type": "code",
      "metadata": {
        "id": "Gy9pHwAlNP7Z",
        "colab": {
          "base_uri": "https://localhost:8080/"
        },
        "outputId": "76302e29-085a-4b79-af6e-312a915e576b"
      },
      "source": [
        "from google.colab import drive\r\n",
        "drive.mount('/content/drive/', force_remount=True)"
      ],
      "execution_count": 94,
      "outputs": [
        {
          "output_type": "stream",
          "text": [
            "Mounted at /content/drive/\n"
          ],
          "name": "stdout"
        }
      ]
    },
    {
      "cell_type": "code",
      "metadata": {
        "id": "Ty9h8XdSKeyJ"
      },
      "source": [
        "import numpy as np\r\n",
        "import pandas as pd\r\n",
        "import matplotlib.pyplot as plt\r\n",
        "import seaborn as sns\r\n",
        "from sklearn.model_selection import train_test_split\r\n",
        "from sklearn.preprocessing import StandardScaler\r\n",
        "from sklearn import tree\r\n",
        "from sklearn.model_selection import GridSearchCV\r\n",
        "from sklearn import metrics\r\n",
        "from imblearn.over_sampling import SMOTE\r\n",
        "from sklearn.ensemble import RandomForestClassifier"
      ],
      "execution_count": 95,
      "outputs": []
    },
    {
      "cell_type": "code",
      "metadata": {
        "id": "ZWwbjUCZKlJg"
      },
      "source": [
        "# Function to map columns to binary values\r\n",
        "def binaryMapping(value):\r\n",
        "  if value == 'Excellent':\r\n",
        "    return 1\r\n",
        "  else:\r\n",
        "    return 0"
      ],
      "execution_count": 96,
      "outputs": []
    },
    {
      "cell_type": "code",
      "metadata": {
        "id": "0h_np_C1Kv_W",
        "colab": {
          "base_uri": "https://localhost:8080/",
          "height": 301
        },
        "outputId": "3d18f15f-c6d7-4daf-e742-1f1cbe4f350e"
      },
      "source": [
        "dataset = pd.read_csv(\"/content/drive/MyDrive/Datasets/Beverage.csv\")\r\n",
        "pd.set_option('display.max_columns',None)\r\n",
        "\r\n",
        "dataset['quality'] = dataset['quality'].apply(binaryMapping)\r\n",
        "\r\n",
        "min_threshold, max_threshold = dataset['total sulfur dioxide'].quantile([0.001,0.90])\r\n",
        "dataset = dataset[(dataset['total sulfur dioxide'] < max_threshold) & (dataset['total sulfur dioxide'] > min_threshold)]\r\n",
        "\r\n",
        "min_threshold, max_threshold = dataset['free sulfur dioxide'].quantile([0.01,0.90])\r\n",
        "dataset = dataset[(dataset['free sulfur dioxide'] < max_threshold) & (dataset['free sulfur dioxide'] > min_threshold)]\r\n",
        "\r\n",
        "min_threshold, max_threshold = dataset.chlorides.quantile([0.001,0.90])\r\n",
        "dataset = dataset[(dataset.chlorides < max_threshold) & (dataset.chlorides > min_threshold)]\r\n",
        "\r\n",
        "min_threshold, max_threshold = dataset['residual sugar'].quantile([0.001,0.90])\r\n",
        "dataset = dataset[(dataset['residual sugar'] < max_threshold) & (dataset['residual sugar'] > min_threshold)]\r\n",
        "\r\n",
        "min_threshold, max_threshold = dataset['fixed acidity'].quantile([0.001,0.99])\r\n",
        "dataset = dataset[(dataset['fixed acidity'] < max_threshold) & (dataset['fixed acidity'] > min_threshold)]\r\n",
        "\r\n",
        "# min_threshold, max_threshold = dataset.chlorides.quantile([0.001,0.99])\r\n",
        "# dataset = dataset[(dataset.chlorides < max_threshold) & (dataset.chlorides > min_threshold)]\r\n",
        "\r\n",
        "dataset.describe()"
      ],
      "execution_count": 97,
      "outputs": [
        {
          "output_type": "execute_result",
          "data": {
            "text/html": [
              "<div>\n",
              "<style scoped>\n",
              "    .dataframe tbody tr th:only-of-type {\n",
              "        vertical-align: middle;\n",
              "    }\n",
              "\n",
              "    .dataframe tbody tr th {\n",
              "        vertical-align: top;\n",
              "    }\n",
              "\n",
              "    .dataframe thead th {\n",
              "        text-align: right;\n",
              "    }\n",
              "</style>\n",
              "<table border=\"1\" class=\"dataframe\">\n",
              "  <thead>\n",
              "    <tr style=\"text-align: right;\">\n",
              "      <th></th>\n",
              "      <th>fixed acidity</th>\n",
              "      <th>volatile acidity</th>\n",
              "      <th>citric acid</th>\n",
              "      <th>residual sugar</th>\n",
              "      <th>chlorides</th>\n",
              "      <th>free sulfur dioxide</th>\n",
              "      <th>total sulfur dioxide</th>\n",
              "      <th>density</th>\n",
              "      <th>pH</th>\n",
              "      <th>sulphates</th>\n",
              "      <th>alcohol</th>\n",
              "      <th>quality</th>\n",
              "    </tr>\n",
              "  </thead>\n",
              "  <tbody>\n",
              "    <tr>\n",
              "      <th>count</th>\n",
              "      <td>3045.000000</td>\n",
              "      <td>3045.000000</td>\n",
              "      <td>3045.000000</td>\n",
              "      <td>3045.000000</td>\n",
              "      <td>3045.000000</td>\n",
              "      <td>3045.000000</td>\n",
              "      <td>3045.000000</td>\n",
              "      <td>3045.000000</td>\n",
              "      <td>3045.000000</td>\n",
              "      <td>3045.000000</td>\n",
              "      <td>3045.000000</td>\n",
              "      <td>3045.000000</td>\n",
              "    </tr>\n",
              "    <tr>\n",
              "      <th>mean</th>\n",
              "      <td>6.805862</td>\n",
              "      <td>0.274790</td>\n",
              "      <td>0.322315</td>\n",
              "      <td>4.508456</td>\n",
              "      <td>0.039289</td>\n",
              "      <td>29.970608</td>\n",
              "      <td>122.617406</td>\n",
              "      <td>0.992794</td>\n",
              "      <td>3.203356</td>\n",
              "      <td>0.486302</td>\n",
              "      <td>10.942927</td>\n",
              "      <td>0.273235</td>\n",
              "    </tr>\n",
              "    <tr>\n",
              "      <th>std</th>\n",
              "      <td>0.830210</td>\n",
              "      <td>0.099069</td>\n",
              "      <td>0.107105</td>\n",
              "      <td>3.389299</td>\n",
              "      <td>0.008521</td>\n",
              "      <td>11.422856</td>\n",
              "      <td>31.842878</td>\n",
              "      <td>0.002258</td>\n",
              "      <td>0.150764</td>\n",
              "      <td>0.116817</td>\n",
              "      <td>1.168260</td>\n",
              "      <td>0.445694</td>\n",
              "    </tr>\n",
              "    <tr>\n",
              "      <th>min</th>\n",
              "      <td>4.600000</td>\n",
              "      <td>0.080000</td>\n",
              "      <td>0.000000</td>\n",
              "      <td>0.800000</td>\n",
              "      <td>0.015000</td>\n",
              "      <td>7.000000</td>\n",
              "      <td>30.000000</td>\n",
              "      <td>0.987110</td>\n",
              "      <td>2.790000</td>\n",
              "      <td>0.220000</td>\n",
              "      <td>8.400000</td>\n",
              "      <td>0.000000</td>\n",
              "    </tr>\n",
              "    <tr>\n",
              "      <th>25%</th>\n",
              "      <td>6.200000</td>\n",
              "      <td>0.200000</td>\n",
              "      <td>0.270000</td>\n",
              "      <td>1.600000</td>\n",
              "      <td>0.033000</td>\n",
              "      <td>21.000000</td>\n",
              "      <td>100.000000</td>\n",
              "      <td>0.991100</td>\n",
              "      <td>3.100000</td>\n",
              "      <td>0.400000</td>\n",
              "      <td>10.000000</td>\n",
              "      <td>0.000000</td>\n",
              "    </tr>\n",
              "    <tr>\n",
              "      <th>50%</th>\n",
              "      <td>6.800000</td>\n",
              "      <td>0.260000</td>\n",
              "      <td>0.310000</td>\n",
              "      <td>3.200000</td>\n",
              "      <td>0.039000</td>\n",
              "      <td>30.000000</td>\n",
              "      <td>121.000000</td>\n",
              "      <td>0.992610</td>\n",
              "      <td>3.200000</td>\n",
              "      <td>0.470000</td>\n",
              "      <td>10.900000</td>\n",
              "      <td>0.000000</td>\n",
              "    </tr>\n",
              "    <tr>\n",
              "      <th>75%</th>\n",
              "      <td>7.300000</td>\n",
              "      <td>0.320000</td>\n",
              "      <td>0.370000</td>\n",
              "      <td>7.000000</td>\n",
              "      <td>0.046000</td>\n",
              "      <td>38.000000</td>\n",
              "      <td>146.000000</td>\n",
              "      <td>0.994400</td>\n",
              "      <td>3.300000</td>\n",
              "      <td>0.550000</td>\n",
              "      <td>11.850000</td>\n",
              "      <td>1.000000</td>\n",
              "    </tr>\n",
              "    <tr>\n",
              "      <th>max</th>\n",
              "      <td>9.200000</td>\n",
              "      <td>1.100000</td>\n",
              "      <td>1.660000</td>\n",
              "      <td>13.000000</td>\n",
              "      <td>0.056000</td>\n",
              "      <td>53.000000</td>\n",
              "      <td>194.000000</td>\n",
              "      <td>1.000400</td>\n",
              "      <td>3.820000</td>\n",
              "      <td>1.080000</td>\n",
              "      <td>14.200000</td>\n",
              "      <td>1.000000</td>\n",
              "    </tr>\n",
              "  </tbody>\n",
              "</table>\n",
              "</div>"
            ],
            "text/plain": [
              "       fixed acidity  volatile acidity  citric acid  residual sugar  \\\n",
              "count    3045.000000       3045.000000  3045.000000     3045.000000   \n",
              "mean        6.805862          0.274790     0.322315        4.508456   \n",
              "std         0.830210          0.099069     0.107105        3.389299   \n",
              "min         4.600000          0.080000     0.000000        0.800000   \n",
              "25%         6.200000          0.200000     0.270000        1.600000   \n",
              "50%         6.800000          0.260000     0.310000        3.200000   \n",
              "75%         7.300000          0.320000     0.370000        7.000000   \n",
              "max         9.200000          1.100000     1.660000       13.000000   \n",
              "\n",
              "         chlorides  free sulfur dioxide  total sulfur dioxide      density  \\\n",
              "count  3045.000000          3045.000000           3045.000000  3045.000000   \n",
              "mean      0.039289            29.970608            122.617406     0.992794   \n",
              "std       0.008521            11.422856             31.842878     0.002258   \n",
              "min       0.015000             7.000000             30.000000     0.987110   \n",
              "25%       0.033000            21.000000            100.000000     0.991100   \n",
              "50%       0.039000            30.000000            121.000000     0.992610   \n",
              "75%       0.046000            38.000000            146.000000     0.994400   \n",
              "max       0.056000            53.000000            194.000000     1.000400   \n",
              "\n",
              "                pH    sulphates      alcohol      quality  \n",
              "count  3045.000000  3045.000000  3045.000000  3045.000000  \n",
              "mean      3.203356     0.486302    10.942927     0.273235  \n",
              "std       0.150764     0.116817     1.168260     0.445694  \n",
              "min       2.790000     0.220000     8.400000     0.000000  \n",
              "25%       3.100000     0.400000    10.000000     0.000000  \n",
              "50%       3.200000     0.470000    10.900000     0.000000  \n",
              "75%       3.300000     0.550000    11.850000     1.000000  \n",
              "max       3.820000     1.080000    14.200000     1.000000  "
            ]
          },
          "metadata": {
            "tags": []
          },
          "execution_count": 97
        }
      ]
    },
    {
      "cell_type": "code",
      "metadata": {
        "id": "i0CRRh33MDWa"
      },
      "source": [
        "Y = dataset['quality'] #Labels\r\n",
        "X = dataset.drop('quality',axis=1) #features\r\n",
        "featureScalar = StandardScaler()\r\n",
        "X_scaled = featureScalar.fit_transform(X)\r\n",
        "X_train,X_test,Y_train,Y_test = train_test_split(X_scaled,Y,test_size = 0.35, random_state = 1)"
      ],
      "execution_count": 98,
      "outputs": []
    },
    {
      "cell_type": "code",
      "metadata": {
        "id": "f0xAxIuYPEPC",
        "colab": {
          "base_uri": "https://localhost:8080/"
        },
        "outputId": "03389a6e-58f1-4f40-b5b4-be9187a69022"
      },
      "source": [
        "smote = SMOTE(random_state = 101)\r\n",
        "X_train,Y_train = smote.fit_sample(X_train,Y_train)"
      ],
      "execution_count": 99,
      "outputs": [
        {
          "output_type": "stream",
          "text": [
            "/usr/local/lib/python3.6/dist-packages/sklearn/utils/deprecation.py:87: FutureWarning: Function safe_indexing is deprecated; safe_indexing is deprecated in version 0.22 and will be removed in version 0.24.\n",
            "  warnings.warn(msg, category=FutureWarning)\n"
          ],
          "name": "stderr"
        }
      ]
    },
    {
      "cell_type": "code",
      "metadata": {
        "id": "pfIMpDFiPI7_",
        "colab": {
          "base_uri": "https://localhost:8080/"
        },
        "outputId": "dd9f5ed5-0459-4b82-f620-0a6b033cf514"
      },
      "source": [
        "pd.Series(Y_train).value_counts()"
      ],
      "execution_count": 100,
      "outputs": [
        {
          "output_type": "execute_result",
          "data": {
            "text/plain": [
              "1    1446\n",
              "0    1446\n",
              "dtype: int64"
            ]
          },
          "metadata": {
            "tags": []
          },
          "execution_count": 100
        }
      ]
    },
    {
      "cell_type": "code",
      "metadata": {
        "id": "ENUCn6ghPY68"
      },
      "source": [
        "# rfc = RandomForestClassifier(criterion='entropy', max_features='auto', random_state=1)\r\n",
        "# grid_param = {\r\n",
        "#      'n_estimators' : [200,300,350,400]}\r\n",
        "\r\n",
        "# gd_sr = GridSearchCV(estimator=rfc, param_grid=grid_param, scoring='precision', cv=5)\r\n",
        "# gd_sr.fit(X_train, Y_train)\r\n",
        "\r\n",
        "# best_parameters = gd_sr.best_params_\r\n",
        "# print(best_parameters)\r\n",
        "\r\n",
        "# best_result = gd_sr.best_score_ # Mean cross-validated score of the best_estimator\r\n",
        "# print(best_result)"
      ],
      "execution_count": 101,
      "outputs": []
    },
    {
      "cell_type": "code",
      "metadata": {
        "id": "tZaiuyqFO9M9"
      },
      "source": [
        "# Y_pred = dtree.predict(X_test)\r\n",
        "# print(\"Prediction Accuracy: \", metrics.accuracy_score(Y_test, Y_pred)) # Not a good idea coz imbalanced test set\r\n",
        "# conf_mat = metrics.confusion_matrix(Y_test, Y_pred)\r\n",
        "# plt.figure(figsize=(8,6))\r\n",
        "# sns.heatmap(conf_mat,annot=True)\r\n",
        "# plt.title(\"Confusion_matrix\")\r\n",
        "# plt.xlabel(\"Predicted Class\")\r\n",
        "# plt.ylabel(\"Actual class\")\r\n",
        "# plt.show()\r\n",
        "# print('Confusion matrix: \\n', conf_mat)\r\n",
        "# print('TP: ', conf_mat[1,1])\r\n",
        "# print('TN: ', conf_mat[0,0])\r\n",
        "# print('FP: ', conf_mat[0,1])\r\n",
        "# print('FN: ', conf_mat[1,0])"
      ],
      "execution_count": 102,
      "outputs": []
    },
    {
      "cell_type": "code",
      "metadata": {
        "id": "6vxfQpJORdZp",
        "colab": {
          "base_uri": "https://localhost:8080/",
          "height": 723
        },
        "outputId": "23f43a5a-4934-43cc-bf81-4fcedf4a0007"
      },
      "source": [
        "rfc = RandomForestClassifier(n_estimators=300, criterion='entropy', max_features='auto', random_state=1)\r\n",
        "rfc.fit(X_train,Y_train)\r\n",
        "featimp = pd.Series(rfc.feature_importances_, index=list(X)).sort_values(ascending=False)\r\n",
        "print(featimp)\r\n",
        "\r\n",
        "Y_pred = rfc.predict(X_test)\r\n",
        "conf_mat = metrics.confusion_matrix(Y_test, Y_pred)\r\n",
        "plt.figure(figsize=(8,6))\r\n",
        "sns.heatmap(conf_mat,annot=True)\r\n",
        "plt.title(\"Confusion_matrix\")\r\n",
        "plt.xlabel(\"Predicted Class\")\r\n",
        "plt.ylabel(\"Actual class\")\r\n",
        "plt.show()\r\n",
        "print('Confusion matrix: \\n', conf_mat)\r\n",
        "print('TP: ', conf_mat[1,1])\r\n",
        "print('TN: ', conf_mat[0,0])\r\n",
        "print('FP: ', conf_mat[0,1])\r\n",
        "print('FN: ', conf_mat[1,0])"
      ],
      "execution_count": 103,
      "outputs": [
        {
          "output_type": "stream",
          "text": [
            "alcohol                 0.156288\n",
            "density                 0.106245\n",
            "chlorides               0.098155\n",
            "free sulfur dioxide     0.092091\n",
            "residual sugar          0.086166\n",
            "total sulfur dioxide    0.083486\n",
            "citric acid             0.079369\n",
            "pH                      0.078952\n",
            "volatile acidity        0.076568\n",
            "sulphates               0.073656\n",
            "fixed acidity           0.069024\n",
            "dtype: float64\n"
          ],
          "name": "stdout"
        },
        {
          "output_type": "display_data",
          "data": {
            "image/png": "[encoded data removed]",
            "text/plain": [
              "<Figure size 576x432 with 2 Axes>"
            ]
          },
          "metadata": {
            "tags": [],
            "needs_background": "light"
          }
        },
        {
          "output_type": "stream",
          "text": [
            "Confusion matrix: \n",
            " [[681  86]\n",
            " [108 191]]\n",
            "TP:  191\n",
            "TN:  681\n",
            "FP:  86\n",
            "FN:  108\n"
          ],
          "name": "stdout"
        }
      ]
    }
  ]
}